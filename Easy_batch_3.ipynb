{
 "cells": [
  {
   "attachments": {},
   "cell_type": "markdown",
   "metadata": {},
   "source": [
    "# 387. First Unique Character in a String"
   ]
  },
  {
   "cell_type": "code",
   "execution_count": 1,
   "metadata": {},
   "outputs": [],
   "source": [
    "from collections import Counter"
   ]
  },
  {
   "attachments": {},
   "cell_type": "markdown",
   "metadata": {},
   "source": [
    "Given two strings ransomNote and magazine, \n",
    "return true if ransomNote can be constructed by using the letters from magazine and false otherwise.\n",
    "\n",
    "Each letter in magazine can only be used once in ransomNote.\n",
    "\n",
    "</br>\n",
    "Input: ransomNote = \"a\", magazine = \"b\"</br>\n",
    "Output: false</br>\n",
    "</br>\n",
    "Input: ransomNote = \"aa\", magazine = \"ab\"</br>\n",
    "Output: false</br>\n",
    "</br>\n",
    "Input: ransomNote = \"aa\", magazine = \"aab\"</br>\n",
    "Output: true</br>"
   ]
  },
  {
   "cell_type": "markdown",
   "metadata": {},
   "source": [
    "## Sol 1"
   ]
  },
  {
   "cell_type": "code",
   "execution_count": 8,
   "metadata": {},
   "outputs": [
    {
     "data": {
      "text/plain": [
       "False"
      ]
     },
     "execution_count": 8,
     "metadata": {},
     "output_type": "execute_result"
    }
   ],
   "source": [
    "ransomNote = \"a\"; magazine = \"b\"\n",
    "# ransomNote = \"aa\"; magazine = \"ab\"\n",
    "# ransomNote = \"aa\"; magazine = \"aab\"\n",
    "\n",
    "def canConstruct(ransomNote, magazine):\n",
    "    cntr_note = Counter(ransomNote)\n",
    "    cntr_mag = Counter(magazine)\n",
    "\n",
    "    for k, v in cntr_note.items():\n",
    "        if cntr_mag[k] < v:\n",
    "            return False\n",
    "    return True\n",
    "    \n",
    "\n",
    "canConstruct(ransomNote, magazine)"
   ]
  },
  {
   "attachments": {},
   "cell_type": "markdown",
   "metadata": {},
   "source": [
    "# 242. Valid Anagram"
   ]
  },
  {
   "attachments": {},
   "cell_type": "markdown",
   "metadata": {},
   "source": [
    "Given two strings s and t, return true if t is an anagram of s, and false otherwise.\n",
    "\n",
    "An Anagram is a word or phrase formed by rearranging the letters of a different word or phrase, \n",
    "typically using all the original letters exactly once.\n",
    "\n",
    "</br>\n",
    "Input: s = \"anagram\", t = \"nagaram\"</br>\n",
    "Output: true</br>\n",
    "</br>\n",
    "Input: s = \"rat\", t = \"car\"</br>\n",
    "Output: false</br>"
   ]
  },
  {
   "cell_type": "markdown",
   "metadata": {},
   "source": [
    "## Sol 1"
   ]
  },
  {
   "cell_type": "code",
   "execution_count": 34,
   "metadata": {},
   "outputs": [
    {
     "data": {
      "text/plain": [
       "False"
      ]
     },
     "execution_count": 34,
     "metadata": {},
     "output_type": "execute_result"
    }
   ],
   "source": [
    "s = \"anagram\"; t = \"nagaram\"\n",
    "s = \"rat\"; t = \"car\"\n",
    "s = \"aabbbb\"; t = \"aaaabb\"\n",
    "\n",
    "def isAnagram(s, t):\n",
    "    return sorted(Counter(t).items()) == sorted(Counter(s).items())\n",
    "\n",
    "isAnagram(s, t)"
   ]
  },
  {
   "attachments": {},
   "cell_type": "markdown",
   "metadata": {},
   "source": [
    "# 589. N-ary Tree Preorder Traversal\n",
    "\n",
    "Given the root of an n-ary tree, return the preorder traversal of its nodes' values.\n",
    "\n",
    "Nary-Tree input serialization is represented in their level order traversal. Each group of children is separated by the null value (See examples)\n",
    "\n",
    "</br>\n",
    "Input: root = [1,null,3,2,4,null,5,6]</br>\n",
    "Output: [1,3,5,6,2,4]</br>\n",
    "</br>\n",
    "Input: root = [1,null,2,3,4,5,null,null,6,7,null,8,null,9,10,null,null,11,null,12,null,13,null,null,14]</br>\n",
    "Output: [1,2,3,6,7,11,14,4,8,12,5,9,13,10]</br>"
   ]
  },
  {
   "cell_type": "code",
   "execution_count": null,
   "metadata": {},
   "outputs": [],
   "source": [
    "def preorder(root):\n",
    "    all_vals = []\n",
    "    def visit_node(node):\n",
    "        if node:\n",
    "            all_vals.append(node.val)\n",
    "            for child in node.children:\n",
    "                visit_node(child)\n",
    "    visit_node(root)\n",
    "    return all_vals\n",
    "    "
   ]
  }
 ],
 "metadata": {
  "kernelspec": {
   "display_name": "rl_in_ksp_new",
   "language": "python",
   "name": "rl_in_ksp_new"
  },
  "language_info": {
   "codemirror_mode": {
    "name": "ipython",
    "version": 3
   },
   "file_extension": ".py",
   "mimetype": "text/x-python",
   "name": "python",
   "nbconvert_exporter": "python",
   "pygments_lexer": "ipython3",
   "version": "3.9.6"
  },
  "orig_nbformat": 4
 },
 "nbformat": 4,
 "nbformat_minor": 2
}
