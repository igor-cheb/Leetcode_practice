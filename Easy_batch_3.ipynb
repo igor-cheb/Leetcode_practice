{
 "cells": [
  {
   "attachments": {},
   "cell_type": "markdown",
   "metadata": {},
   "source": [
    "# 387. First Unique Character in a String"
   ]
  },
  {
   "cell_type": "code",
   "execution_count": 1,
   "metadata": {},
   "outputs": [],
   "source": [
    "from collections import Counter"
   ]
  },
  {
   "attachments": {},
   "cell_type": "markdown",
   "metadata": {},
   "source": [
    "Given two strings ransomNote and magazine, \n",
    "return true if ransomNote can be constructed by using the letters from magazine and false otherwise.\n",
    "\n",
    "Each letter in magazine can only be used once in ransomNote.\n",
    "\n",
    "</br>\n",
    "Input: ransomNote = \"a\", magazine = \"b\"</br>\n",
    "Output: false</br>\n",
    "</br>\n",
    "Input: ransomNote = \"aa\", magazine = \"ab\"</br>\n",
    "Output: false</br>\n",
    "</br>\n",
    "Input: ransomNote = \"aa\", magazine = \"aab\"</br>\n",
    "Output: true</br>"
   ]
  },
  {
   "cell_type": "markdown",
   "metadata": {},
   "source": [
    "## Sol 1"
   ]
  },
  {
   "cell_type": "code",
   "execution_count": 8,
   "metadata": {},
   "outputs": [
    {
     "data": {
      "text/plain": [
       "False"
      ]
     },
     "execution_count": 8,
     "metadata": {},
     "output_type": "execute_result"
    }
   ],
   "source": [
    "ransomNote = \"a\"; magazine = \"b\"\n",
    "# ransomNote = \"aa\"; magazine = \"ab\"\n",
    "# ransomNote = \"aa\"; magazine = \"aab\"\n",
    "\n",
    "def canConstruct(ransomNote, magazine):\n",
    "    cntr_note = Counter(ransomNote)\n",
    "    cntr_mag = Counter(magazine)\n",
    "\n",
    "    for k, v in cntr_note.items():\n",
    "        if cntr_mag[k] < v:\n",
    "            return False\n",
    "    return True\n",
    "    \n",
    "\n",
    "canConstruct(ransomNote, magazine)"
   ]
  },
  {
   "cell_type": "code",
   "execution_count": null,
   "metadata": {},
   "outputs": [],
   "source": []
  }
 ],
 "metadata": {
  "kernelspec": {
   "display_name": "rl_in_ksp_new",
   "language": "python",
   "name": "rl_in_ksp_new"
  },
  "language_info": {
   "codemirror_mode": {
    "name": "ipython",
    "version": 3
   },
   "file_extension": ".py",
   "mimetype": "text/x-python",
   "name": "python",
   "nbconvert_exporter": "python",
   "pygments_lexer": "ipython3",
   "version": "3.9.6"
  },
  "orig_nbformat": 4
 },
 "nbformat": 4,
 "nbformat_minor": 2
}
