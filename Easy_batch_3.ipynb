{
 "cells": [
  {
   "attachments": {},
   "cell_type": "markdown",
   "metadata": {},
   "source": [
    "# Table of Contents\n",
    "\n",
    "- **[383. Ransom Note](#1)**\n",
    "    - [Sol 1](#1-1)\n",
    "    - [Sol 2](#1-2)\n",
    "- **[242. Valid Anagram](#2)**\n",
    "    - [Sol 1](#2-1)\n",
    "    - [Sol 2](#2-2)\n",
    "    - [Sol 3](#2-3)\n",
    "    - [Sol 4](#2-4)\n",
    "- **[589. N-ary Tree Preorder Traversal](#3)** \n",
    "    - [Sol 1](#3-1)\n",
    "- **[347. Top K Frequent Elements](#4)** \n",
    "- **[733. Flood Fill](#5)** \n",
    "- **[617. Merge Two Binary Trees](#6)** \n",
    "    - [Sol 1](#6-1)\n",
    "    - [Sol 2](#6-2)\n",
    "- **[20. Valid Parentheses](#7)** \n",
    "    - [Sol 1](#7-1)\n"
   ]
  },
  {
   "attachments": {},
   "cell_type": "markdown",
   "metadata": {},
   "source": [
    "<a name='1'></a>\n",
    "# 383. Ransom Note"
   ]
  },
  {
   "cell_type": "code",
   "execution_count": 1,
   "metadata": {},
   "outputs": [],
   "source": [
    "from collections import Counter"
   ]
  },
  {
   "attachments": {},
   "cell_type": "markdown",
   "metadata": {},
   "source": [
    "Given two strings ransomNote and magazine, \n",
    "return true if ransomNote can be constructed by using the letters from magazine and false otherwise.\n",
    "\n",
    "Each letter in magazine can only be used once in ransomNote.\n",
    "\n",
    "</br>\n",
    "Input: ransomNote = \"a\", magazine = \"b\"</br>\n",
    "Output: false</br>\n",
    "</br>\n",
    "Input: ransomNote = \"aa\", magazine = \"ab\"</br>\n",
    "Output: false</br>\n",
    "</br>\n",
    "Input: ransomNote = \"aa\", magazine = \"aab\"</br>\n",
    "Output: true</br>"
   ]
  },
  {
   "attachments": {},
   "cell_type": "markdown",
   "metadata": {},
   "source": [
    "<a name='1-1'></a>\n",
    "## Sol 1"
   ]
  },
  {
   "cell_type": "code",
   "execution_count": 37,
   "metadata": {},
   "outputs": [
    {
     "data": {
      "text/plain": [
       "True"
      ]
     },
     "execution_count": 37,
     "metadata": {},
     "output_type": "execute_result"
    }
   ],
   "source": [
    "ransomNote = \"a\"; magazine = \"b\"\n",
    "# ransomNote = \"aa\"; magazine = \"ab\"\n",
    "ransomNote = \"aa\"; magazine = \"aab\"\n",
    "\n",
    "def canConstruct(ransomNote, magazine):\n",
    "    cntr_note = Counter(ransomNote)\n",
    "    cntr_mag = Counter(magazine)\n",
    "\n",
    "    for k, v in cntr_note.items():\n",
    "        if cntr_mag[k] < v:\n",
    "            return False\n",
    "    return True\n",
    "    \n",
    "\n",
    "canConstruct(ransomNote, magazine)"
   ]
  },
  {
   "cell_type": "code",
   "execution_count": 38,
   "metadata": {},
   "outputs": [
    {
     "data": {
      "text/plain": [
       "Counter({'a': 2, 'b': 1})"
      ]
     },
     "execution_count": 38,
     "metadata": {},
     "output_type": "execute_result"
    }
   ],
   "source": [
    "Counter(magazine)"
   ]
  },
  {
   "attachments": {},
   "cell_type": "markdown",
   "metadata": {},
   "source": [
    "<a name='1-2'></a>\n",
    "## Sol 2"
   ]
  },
  {
   "cell_type": "code",
   "execution_count": 42,
   "metadata": {},
   "outputs": [
    {
     "data": {
      "text/plain": [
       "False"
      ]
     },
     "execution_count": 42,
     "metadata": {},
     "output_type": "execute_result"
    }
   ],
   "source": [
    "ransomNote = \"a\"; magazine = \"b\"\n",
    "# ransomNote = \"aa\"; magazine = \"ab\"\n",
    "# ransomNote = \"aa\"; magazine = \"aab\"\n",
    "\n",
    "def canConstruct(ransomNote, magazine):\n",
    "    note, zine = sorted(ransomNote), sorted(magazine)\n",
    "    for ch in zine:\n",
    "        if note and ch == note[0]: note.pop(0)\n",
    "    return False if note else True\n",
    "\n",
    "canConstruct(ransomNote, magazine)"
   ]
  },
  {
   "attachments": {},
   "cell_type": "markdown",
   "metadata": {},
   "source": [
    "<a name='2'></a>\n",
    "# 242. Valid Anagram"
   ]
  },
  {
   "attachments": {},
   "cell_type": "markdown",
   "metadata": {},
   "source": [
    "Given two strings s and t, return true if t is an anagram of s, and false otherwise.\n",
    "\n",
    "An Anagram is a word or phrase formed by rearranging the letters of a different word or phrase, \n",
    "typically using all the original letters exactly once.\n",
    "\n",
    "</br>\n",
    "Input: s = \"anagram\", t = \"nagaram\"</br>\n",
    "Output: true</br>\n",
    "</br>\n",
    "Input: s = \"rat\", t = \"car\"</br>\n",
    "Output: false</br>"
   ]
  },
  {
   "attachments": {},
   "cell_type": "markdown",
   "metadata": {},
   "source": [
    "<a name='2-1'></a>\n",
    "## Sol 1"
   ]
  },
  {
   "cell_type": "code",
   "execution_count": 45,
   "metadata": {},
   "outputs": [
    {
     "data": {
      "text/plain": [
       "True"
      ]
     },
     "execution_count": 45,
     "metadata": {},
     "output_type": "execute_result"
    }
   ],
   "source": [
    "s = \"anagram\"; t = \"nagaram\"\n",
    "# s = \"rat\"; t = \"car\"\n",
    "# s = \"aabbbb\"; t = \"aaaabb\"\n",
    "\n",
    "def isAnagram(s, t):\n",
    "    # return sorted(Counter(t).items()) == sorted(Counter(s).items())\n",
    "    return sorted(t) == sorted(s)\n",
    "\n",
    "isAnagram(s, t)"
   ]
  },
  {
   "attachments": {},
   "cell_type": "markdown",
   "metadata": {},
   "source": [
    "<a name='2-2'></a>\n",
    "## Sol 2"
   ]
  },
  {
   "cell_type": "code",
   "execution_count": null,
   "metadata": {},
   "outputs": [],
   "source": [
    "\n",
    "def isAnagram(s, t):\n",
    "    # return sorted(Counter(t).items()) == sorted(Counter(s).items())\n",
    "    return sorted(t) == sorted(s)\n",
    "\n",
    "isAnagram(s, t)"
   ]
  },
  {
   "attachments": {},
   "cell_type": "markdown",
   "metadata": {},
   "source": [
    "<a name='2-3'></a>\n",
    "## Sol 3"
   ]
  },
  {
   "cell_type": "code",
   "execution_count": 46,
   "metadata": {},
   "outputs": [
    {
     "data": {
      "text/plain": [
       "True"
      ]
     },
     "execution_count": 46,
     "metadata": {},
     "output_type": "execute_result"
    }
   ],
   "source": [
    "\n",
    "def isAnagram(s, t):\n",
    "    return Counter(t) == Counter(s)\n",
    "\n",
    "isAnagram(s, t)"
   ]
  },
  {
   "attachments": {},
   "cell_type": "markdown",
   "metadata": {},
   "source": [
    "<a name='2-4'></a>\n",
    "## Sol 4"
   ]
  },
  {
   "cell_type": "code",
   "execution_count": 62,
   "metadata": {},
   "outputs": [
    {
     "data": {
      "text/plain": [
       "False"
      ]
     },
     "execution_count": 62,
     "metadata": {},
     "output_type": "execute_result"
    }
   ],
   "source": [
    "s = \"anagram\"; t = \"nagaram\"\n",
    "s = \"rat\"; t = \"car\"\n",
    "s = \"aabbbb\"; t = \"aaaabb\"\n",
    "\n",
    "def isAnagram(s, t):\n",
    "    if len(s) != len(t): return False\n",
    "    cntr_s, cntr_t = {}, {}\n",
    "\n",
    "    for ix in range(len(s)):\n",
    "        cntr_s[s[ix]] = 1 + cntr_s.get(s[ix], 0)\n",
    "        cntr_t[t[ix]] = 1 + cntr_t.get(t[ix], 0)\n",
    "\n",
    "    return cntr_s == cntr_t\n",
    "\n",
    "\n",
    "isAnagram(s, t)"
   ]
  },
  {
   "attachments": {},
   "cell_type": "markdown",
   "metadata": {},
   "source": [
    "<a name='3'></a>\n",
    "# 589. N-ary Tree Preorder Traversal\n",
    "\n",
    "Given the root of an n-ary tree, return the preorder traversal of its nodes' values.\n",
    "\n",
    "Nary-Tree input serialization is represented in their level order traversal. Each group of children is separated by the null value (See examples)\n",
    "\n",
    "</br>\n",
    "Input: root = [1,null,3,2,4,null,5,6]</br>\n",
    "Output: [1,3,5,6,2,4]</br>\n",
    "</br>\n",
    "Input: root = [1,null,2,3,4,5,null,null,6,7,null,8,null,9,10,null,null,11,null,12,null,13,null,null,14]</br>\n",
    "Output: [1,2,3,6,7,11,14,4,8,12,5,9,13,10]</br>"
   ]
  },
  {
   "attachments": {},
   "cell_type": "markdown",
   "metadata": {},
   "source": [
    "<a name='3-1'></a>\n",
    "## Sol 1"
   ]
  },
  {
   "cell_type": "code",
   "execution_count": null,
   "metadata": {},
   "outputs": [],
   "source": [
    "def preorder(root):\n",
    "    all_vals = []\n",
    "    def visit_node(node):\n",
    "        if node:\n",
    "            all_vals.append(node.val)\n",
    "            for child in node.children:\n",
    "                visit_node(child)\n",
    "    visit_node(root)\n",
    "    return all_vals"
   ]
  },
  {
   "attachments": {},
   "cell_type": "markdown",
   "metadata": {},
   "source": [
    "<a name='3-2'></a>\n",
    "## Sol 2"
   ]
  },
  {
   "cell_type": "code",
   "execution_count": 67,
   "metadata": {},
   "outputs": [],
   "source": [
    "def preorder(root):\n",
    "    all_vals = []\n",
    "    stack = [root]\n",
    "    while stack:\n",
    "        node = stack.pop()\n",
    "        all_vals.append(node.val)\n",
    "        for child in reversed(node.children):\n",
    "            stack.append(child.val)\n",
    "    return all_vals"
   ]
  },
  {
   "attachments": {},
   "cell_type": "markdown",
   "metadata": {},
   "source": [
    "<a name='4'></a>\n",
    "# 347. Top K Frequent Elements"
   ]
  },
  {
   "cell_type": "code",
   "execution_count": null,
   "metadata": {},
   "outputs": [],
   "source": [
    "Given an array of integers a, your task is to calculate the digits that occur the most number of times in the array. \n",
    "Return the array of these digits in ascending order.\n",
    "\n",
    "Example\n",
    "\n",
    "For a = [25, 2, 3, 57, 38, 41], the output should be solution(a) = [2, 3, 5]."
   ]
  },
  {
   "attachments": {},
   "cell_type": "markdown",
   "metadata": {},
   "source": [
    "<a name='4-1'></a>\n",
    "## Sol 1"
   ]
  },
  {
   "cell_type": "code",
   "execution_count": null,
   "metadata": {},
   "outputs": [],
   "source": [
    "a = [25, 2, 3, 57, 38, 41]\n",
    "a = [1,1,1,2,2,3]; k = 2\n",
    "a = [-1,-1]; k = 1\n",
    "\n",
    "def topKFrequent( nums, k):\n",
    "    cnt = Counter(nums)\n",
    "    selected = sorted(cnt.values())[-k:]\n",
    "    return sorted([int(el) for el in cnt if cnt[el] in selected])"
   ]
  },
  {
   "attachments": {},
   "cell_type": "markdown",
   "metadata": {},
   "source": [
    "<a name='5'></a>\n",
    "# 733. Flood Fill\n",
    "\n",
    "An image is represented by an m x n integer grid image where image[i][j] represents the pixel value of the image.\n",
    "\n",
    "You are also given three integers sr, sc, and color. You should perform a flood fill on the image starting from the pixel image[sr][sc].\n",
    "\n",
    "To perform a flood fill, consider the starting pixel, plus any pixels connected 4-directionally to the starting pixel of the same color as the starting pixel, plus any pixels connected 4-directionally to those pixels (also with the same color), and so on. Replace the color of all of the aforementioned pixels with color.\n",
    "\n",
    "Return the modified image after performing the flood fill.\n",
    "\n",
    "image = [[1,1,1],[1,1,0],[1,0,1]], sr = 1, sc = 1, color = 2\n",
    "out = [[2,2,2],[2,2,0],[2,0,1]]\n",
    "\n",
    "image = [[0,0,0],[0,0,0]], sr = 0, sc = 0, color = 0\n",
    "out = [[0,0,0],[0,0,0]]"
   ]
  },
  {
   "attachments": {},
   "cell_type": "markdown",
   "metadata": {},
   "source": [
    "<a name='5-1'></a>\n",
    "## Sol 1"
   ]
  },
  {
   "cell_type": "code",
   "execution_count": null,
   "metadata": {},
   "outputs": [],
   "source": [
    "def floodFill(image, sr, sc, color):\n",
    "    native_color = image[sr][sc]\n",
    "    if native_color == color: return image\n",
    "    def color_cell(cel_coord, new_color):  \n",
    "        x, y = cel_coord\n",
    "        if 0 <= x <= len(image) - 1 and 0 <= y <= len(image[0]) - 1:\n",
    "            if image[x][y] == native_color:\n",
    "                image[x][y] = new_color\n",
    "                for child in [(x + 1, y), (x - 1, y), (x, y - 1), (x, y + 1)]:\n",
    "                    color_cell(child, color)\n",
    "    color_cell((sr, sc), color)\n",
    "    return image"
   ]
  },
  {
   "attachments": {},
   "cell_type": "markdown",
   "metadata": {},
   "source": [
    "<a name='6'></a>\n",
    "# 617. Merge Two Binary Trees"
   ]
  },
  {
   "attachments": {},
   "cell_type": "markdown",
   "metadata": {},
   "source": [
    "<a name='6-1'></a>\n",
    "## Sol 1"
   ]
  },
  {
   "cell_type": "code",
   "execution_count": null,
   "metadata": {},
   "outputs": [],
   "source": [
    "def mergeTrees(root1, root2):\n",
    "    def match_nodes(node_1, node_2):\n",
    "        if node_1 and node_2:\n",
    "            return TreeNode(node_1.val + node_2.val, \n",
    "                            match_nodes(node_1.left, node_2.left),\n",
    "                            match_nodes(node_1.right, node_2.right))\n",
    "\n",
    "        if not node_1 and node_2:\n",
    "            return TreeNode(node_2.val, \n",
    "                            match_nodes(None, node_2.left),\n",
    "                            match_nodes(None, node_2.right))\n",
    "\n",
    "        if not node_2 and node_1:\n",
    "            return TreeNode(node_1.val, \n",
    "                            match_nodes(node_1.left, None),\n",
    "                            match_nodes(node_1.right, None))\n",
    "\n",
    "        if not node_2 and not node_1:\n",
    "            return None\n",
    "    \n",
    "    return match_nodes(root1, root2)"
   ]
  },
  {
   "attachments": {},
   "cell_type": "markdown",
   "metadata": {},
   "source": [
    "<a name='6-2'></a>\n",
    "## Sol 2"
   ]
  },
  {
   "cell_type": "code",
   "execution_count": null,
   "metadata": {},
   "outputs": [],
   "source": [
    "def mergeTrees(root1, root2):\n",
    "    if not root1 and not root2:\n",
    "        return None\n",
    "    \n",
    "    val_1 = root1.val if root1 else 0\n",
    "    val_2 = root2.val if root2 else 0\n",
    "\n",
    "    root = TreeNode(val_1 + val_2)\n",
    "    root.left = mergeTrees(root1.left if root1 else None, root2.left if root2 else None)\n",
    "    root.right = mergeTrees(root1.right if root1 else None, root2.right if root2 else None)\n",
    "\n",
    "    return root"
   ]
  },
  {
   "attachments": {},
   "cell_type": "markdown",
   "metadata": {},
   "source": [
    "# 20. Valid Parentheses"
   ]
  },
  {
   "attachments": {},
   "cell_type": "markdown",
   "metadata": {},
   "source": [
    "## Sol 1"
   ]
  },
  {
   "cell_type": "code",
   "execution_count": null,
   "metadata": {},
   "outputs": [],
   "source": [
    "def isValid(s: str) -> bool:\n",
    "    di = {'(':')','[':']', '{':'}'}\n",
    "    queue = []\n",
    "    for char in s:\n",
    "        if char in di:\n",
    "            queue.append(di[char])\n",
    "        else:\n",
    "            if not queue or queue.pop()!=char:\n",
    "                return False\n",
    "    return True if not queue else False"
   ]
  }
 ],
 "metadata": {
  "kernelspec": {
   "display_name": "rl_in_ksp_new",
   "language": "python",
   "name": "rl_in_ksp_new"
  },
  "language_info": {
   "codemirror_mode": {
    "name": "ipython",
    "version": 3
   },
   "file_extension": ".py",
   "mimetype": "text/x-python",
   "name": "python",
   "nbconvert_exporter": "python",
   "pygments_lexer": "ipython3",
   "version": "3.9.6"
  },
  "orig_nbformat": 4
 },
 "nbformat": 4,
 "nbformat_minor": 2
}
