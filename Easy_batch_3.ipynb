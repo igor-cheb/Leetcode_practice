{
 "cells": [
  {
   "attachments": {},
   "cell_type": "markdown",
   "metadata": {},
   "source": [
    "# Table of Contents\n",
    "\n",
    "- **[383. Ransom Note](#1)**\n",
    "    - [Sol 1](#1-1)\n",
    "    - [Sol 2](#1-2)\n",
    "- **[242. Valid Anagram](#2)**\n",
    "    - [Sol 1](#2-1)\n",
    "    - [Sol 2](#2-2)\n",
    "    - [Sol 3](#2-3)\n",
    "    - [Sol 4](#2-4)\n",
    "- **[589. N-ary Tree Preorder Traversal](#3)** \n",
    "    - [Sol 1](#3-1)"
   ]
  },
  {
   "attachments": {},
   "cell_type": "markdown",
   "metadata": {},
   "source": [
    "<a name='1'></a>\n",
    "# 383. Ransom Note"
   ]
  },
  {
   "cell_type": "code",
   "execution_count": 1,
   "metadata": {},
   "outputs": [],
   "source": [
    "from collections import Counter"
   ]
  },
  {
   "attachments": {},
   "cell_type": "markdown",
   "metadata": {},
   "source": [
    "Given two strings ransomNote and magazine, \n",
    "return true if ransomNote can be constructed by using the letters from magazine and false otherwise.\n",
    "\n",
    "Each letter in magazine can only be used once in ransomNote.\n",
    "\n",
    "</br>\n",
    "Input: ransomNote = \"a\", magazine = \"b\"</br>\n",
    "Output: false</br>\n",
    "</br>\n",
    "Input: ransomNote = \"aa\", magazine = \"ab\"</br>\n",
    "Output: false</br>\n",
    "</br>\n",
    "Input: ransomNote = \"aa\", magazine = \"aab\"</br>\n",
    "Output: true</br>"
   ]
  },
  {
   "attachments": {},
   "cell_type": "markdown",
   "metadata": {},
   "source": [
    "<a name='1-1'></a>\n",
    "## Sol 1"
   ]
  },
  {
   "cell_type": "code",
   "execution_count": 37,
   "metadata": {},
   "outputs": [
    {
     "data": {
      "text/plain": [
       "True"
      ]
     },
     "execution_count": 37,
     "metadata": {},
     "output_type": "execute_result"
    }
   ],
   "source": [
    "ransomNote = \"a\"; magazine = \"b\"\n",
    "# ransomNote = \"aa\"; magazine = \"ab\"\n",
    "ransomNote = \"aa\"; magazine = \"aab\"\n",
    "\n",
    "def canConstruct(ransomNote, magazine):\n",
    "    cntr_note = Counter(ransomNote)\n",
    "    cntr_mag = Counter(magazine)\n",
    "\n",
    "    for k, v in cntr_note.items():\n",
    "        if cntr_mag[k] < v:\n",
    "            return False\n",
    "    return True\n",
    "    \n",
    "\n",
    "canConstruct(ransomNote, magazine)"
   ]
  },
  {
   "cell_type": "code",
   "execution_count": 38,
   "metadata": {},
   "outputs": [
    {
     "data": {
      "text/plain": [
       "Counter({'a': 2, 'b': 1})"
      ]
     },
     "execution_count": 38,
     "metadata": {},
     "output_type": "execute_result"
    }
   ],
   "source": [
    "Counter(magazine)"
   ]
  },
  {
   "attachments": {},
   "cell_type": "markdown",
   "metadata": {},
   "source": [
    "<a name='1-2'></a>\n",
    "## Sol 2"
   ]
  },
  {
   "cell_type": "code",
   "execution_count": 42,
   "metadata": {},
   "outputs": [
    {
     "data": {
      "text/plain": [
       "False"
      ]
     },
     "execution_count": 42,
     "metadata": {},
     "output_type": "execute_result"
    }
   ],
   "source": [
    "ransomNote = \"a\"; magazine = \"b\"\n",
    "# ransomNote = \"aa\"; magazine = \"ab\"\n",
    "# ransomNote = \"aa\"; magazine = \"aab\"\n",
    "\n",
    "def canConstruct(ransomNote, magazine):\n",
    "    note, zine = sorted(ransomNote), sorted(magazine)\n",
    "    for ch in zine:\n",
    "        if note and ch == note[0]: note.pop(0)\n",
    "    return False if note else True\n",
    "\n",
    "canConstruct(ransomNote, magazine)"
   ]
  },
  {
   "attachments": {},
   "cell_type": "markdown",
   "metadata": {},
   "source": [
    "<a name='2'></a>\n",
    "# 242. Valid Anagram"
   ]
  },
  {
   "attachments": {},
   "cell_type": "markdown",
   "metadata": {},
   "source": [
    "Given two strings s and t, return true if t is an anagram of s, and false otherwise.\n",
    "\n",
    "An Anagram is a word or phrase formed by rearranging the letters of a different word or phrase, \n",
    "typically using all the original letters exactly once.\n",
    "\n",
    "</br>\n",
    "Input: s = \"anagram\", t = \"nagaram\"</br>\n",
    "Output: true</br>\n",
    "</br>\n",
    "Input: s = \"rat\", t = \"car\"</br>\n",
    "Output: false</br>"
   ]
  },
  {
   "attachments": {},
   "cell_type": "markdown",
   "metadata": {},
   "source": [
    "<a name='2-1'></a>\n",
    "## Sol 1"
   ]
  },
  {
   "cell_type": "code",
   "execution_count": 45,
   "metadata": {},
   "outputs": [
    {
     "data": {
      "text/plain": [
       "True"
      ]
     },
     "execution_count": 45,
     "metadata": {},
     "output_type": "execute_result"
    }
   ],
   "source": [
    "s = \"anagram\"; t = \"nagaram\"\n",
    "# s = \"rat\"; t = \"car\"\n",
    "# s = \"aabbbb\"; t = \"aaaabb\"\n",
    "\n",
    "def isAnagram(s, t):\n",
    "    # return sorted(Counter(t).items()) == sorted(Counter(s).items())\n",
    "    return sorted(t) == sorted(s)\n",
    "\n",
    "isAnagram(s, t)"
   ]
  },
  {
   "cell_type": "markdown",
   "metadata": {},
   "source": [
    "<a name='2-2'></a>\n",
    "## Sol 2"
   ]
  },
  {
   "cell_type": "code",
   "execution_count": null,
   "metadata": {},
   "outputs": [],
   "source": [
    "\n",
    "def isAnagram(s, t):\n",
    "    # return sorted(Counter(t).items()) == sorted(Counter(s).items())\n",
    "    return sorted(t) == sorted(s)\n",
    "\n",
    "isAnagram(s, t)"
   ]
  },
  {
   "cell_type": "markdown",
   "metadata": {},
   "source": [
    "<a name='2-3'></a>\n",
    "## Sol 3"
   ]
  },
  {
   "cell_type": "code",
   "execution_count": 46,
   "metadata": {},
   "outputs": [
    {
     "data": {
      "text/plain": [
       "True"
      ]
     },
     "execution_count": 46,
     "metadata": {},
     "output_type": "execute_result"
    }
   ],
   "source": [
    "\n",
    "def isAnagram(s, t):\n",
    "    return Counter(t) == Counter(s)\n",
    "\n",
    "isAnagram(s, t)"
   ]
  },
  {
   "attachments": {},
   "cell_type": "markdown",
   "metadata": {},
   "source": [
    "<a name='2-4'></a>\n",
    "## Sol 4"
   ]
  },
  {
   "cell_type": "code",
   "execution_count": 62,
   "metadata": {},
   "outputs": [
    {
     "data": {
      "text/plain": [
       "False"
      ]
     },
     "execution_count": 62,
     "metadata": {},
     "output_type": "execute_result"
    }
   ],
   "source": [
    "s = \"anagram\"; t = \"nagaram\"\n",
    "s = \"rat\"; t = \"car\"\n",
    "s = \"aabbbb\"; t = \"aaaabb\"\n",
    "\n",
    "def isAnagram(s, t):\n",
    "    if len(s) != len(t): return False\n",
    "    cntr_s, cntr_t = {}, {}\n",
    "\n",
    "    for ix in range(len(s)):\n",
    "        cntr_s[s[ix]] = 1 + cntr_s.get(s[ix], 0)\n",
    "        cntr_t[t[ix]] = 1 + cntr_t.get(t[ix], 0)\n",
    "\n",
    "    return cntr_s == cntr_t\n",
    "\n",
    "\n",
    "isAnagram(s, t)"
   ]
  },
  {
   "attachments": {},
   "cell_type": "markdown",
   "metadata": {},
   "source": [
    "<a name='3'></a>\n",
    "# 589. N-ary Tree Preorder Traversal\n",
    "\n",
    "Given the root of an n-ary tree, return the preorder traversal of its nodes' values.\n",
    "\n",
    "Nary-Tree input serialization is represented in their level order traversal. Each group of children is separated by the null value (See examples)\n",
    "\n",
    "</br>\n",
    "Input: root = [1,null,3,2,4,null,5,6]</br>\n",
    "Output: [1,3,5,6,2,4]</br>\n",
    "</br>\n",
    "Input: root = [1,null,2,3,4,5,null,null,6,7,null,8,null,9,10,null,null,11,null,12,null,13,null,null,14]</br>\n",
    "Output: [1,2,3,6,7,11,14,4,8,12,5,9,13,10]</br>"
   ]
  },
  {
   "cell_type": "markdown",
   "metadata": {},
   "source": [
    "<a name='3-1'></a>\n",
    "## Sol 1"
   ]
  },
  {
   "cell_type": "code",
   "execution_count": null,
   "metadata": {},
   "outputs": [],
   "source": [
    "def preorder(root):\n",
    "    all_vals = []\n",
    "    def visit_node(node):\n",
    "        if node:\n",
    "            all_vals.append(node.val)\n",
    "            for child in node.children:\n",
    "                visit_node(child)\n",
    "    visit_node(root)\n",
    "    return all_vals"
   ]
  }
 ],
 "metadata": {
  "kernelspec": {
   "display_name": "rl_in_ksp_new",
   "language": "python",
   "name": "rl_in_ksp_new"
  },
  "language_info": {
   "codemirror_mode": {
    "name": "ipython",
    "version": 3
   },
   "file_extension": ".py",
   "mimetype": "text/x-python",
   "name": "python",
   "nbconvert_exporter": "python",
   "pygments_lexer": "ipython3",
   "version": "3.9.6"
  },
  "orig_nbformat": 4
 },
 "nbformat": 4,
 "nbformat_minor": 2
}
