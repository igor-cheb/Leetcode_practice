{
 "cells": [
  {
   "attachments": {},
   "cell_type": "markdown",
   "metadata": {},
   "source": [
    "# 121. Best Time to Buy and Sell Stock"
   ]
  },
  {
   "attachments": {},
   "cell_type": "markdown",
   "metadata": {},
   "source": [
    "You are given an array prices where prices[i] is the price of a given stock on the ith day.\n",
    "\n",
    "You want to maximize your profit by choosing a single day to buy one stock and choosing a different day in the future to sell that stock.\n",
    "\n",
    "Return the maximum profit you can achieve from this transaction. If you cannot achieve any profit, return 0.\n",
    "\n",
    "</br>\n",
    "Input: prices = [7,1,5,3,6,4]\n",
    "Output: 5\n",
    "</br>\n",
    "Input: prices = [7,6,4,3,1]\n",
    "Output: 0\n",
    "</br>\n",
    "Input: prices = [3,2,6,5,0,3]\n",
    "Output: 4"
   ]
  },
  {
   "cell_type": "markdown",
   "metadata": {},
   "source": [
    "## Sol 1"
   ]
  },
  {
   "cell_type": "code",
   "execution_count": 59,
   "metadata": {},
   "outputs": [],
   "source": [
    "# prices = [7,1,5,3,6,4]\n",
    "# prices = [7,6,4,3,1]\n",
    "# prices = [1]\n",
    "# prices =[1,2]\n",
    "prices = [3, 2, 6, 5, 0, 3]"
   ]
  },
  {
   "cell_type": "code",
   "execution_count": 67,
   "metadata": {},
   "outputs": [
    {
     "data": {
      "text/plain": [
       "4"
      ]
     },
     "execution_count": 67,
     "metadata": {},
     "output_type": "execute_result"
    }
   ],
   "source": [
    "def maxProfit(prices):\n",
    "    profits = []\n",
    "    for ix in range(len(prices)-1):\n",
    "        best_selling_price = max(prices[ix: ix+500])\n",
    "        profit = -prices[ix] + best_selling_price\n",
    "        if profit > 0:\n",
    "            profits.append(profit)\n",
    "\n",
    "    return max(profits) if len(profits) > 0 else 0\n",
    "\n",
    "maxProfit(prices)"
   ]
  },
  {
   "cell_type": "markdown",
   "metadata": {},
   "source": [
    "## Sol 2"
   ]
  },
  {
   "cell_type": "code",
   "execution_count": 88,
   "metadata": {},
   "outputs": [
    {
     "name": "stdout",
     "output_type": "stream",
     "text": [
      "0 1 | 0\n",
      "1 2 | 0\n",
      "1 3 | 1\n",
      "1 4 | 1\n",
      "4 5 | 1\n",
      "4 6 | 1\n"
     ]
    },
    {
     "data": {
      "text/plain": [
       "2"
      ]
     },
     "execution_count": 88,
     "metadata": {},
     "output_type": "execute_result"
    }
   ],
   "source": [
    "# prices = [7,1,5,3,6,4]\n",
    "# prices = [7,6,4,3,1]\n",
    "# prices = [1]\n",
    "# prices =[1,2]\n",
    "# prices = [3, 2, 6, 5, 0, 3]\n",
    "prices = [2,1,2,1,0,1,2]\n",
    "\n",
    "def maxProfit(prices):\n",
    "    if len(prices)>1:\n",
    "        l=0; r=1; cur_max = 0\n",
    "        while r < len(prices):\n",
    "            print(l, r, '|', cur_max)\n",
    "            if -prices[l] + prices[r] > cur_max:\n",
    "                cur_max = -prices[l] + prices[r]\n",
    "            elif prices[l] > prices[r]:\n",
    "                l = r\n",
    "                # continue\n",
    "            r+=1\n",
    "        return cur_max\n",
    "    else:\n",
    "        return 0\n",
    "    \n",
    "maxProfit(prices)"
   ]
  },
  {
   "attachments": {},
   "cell_type": "markdown",
   "metadata": {},
   "source": [
    "# 21. Merge Two Sorted Lists"
   ]
  },
  {
   "cell_type": "code",
   "execution_count": 437,
   "metadata": {},
   "outputs": [],
   "source": [
    "# Definition for singly-linked list.\n",
    "class ListNode:\n",
    "    def __init__(self, val=0, next=None):\n",
    "        self.val = val\n",
    "        self.next = next\n",
    "    # def __repr__(self):\n",
    "    #     return str(self.val)\n",
    "\n",
    "def createLinkedList(lst):\n",
    "    head = None\n",
    "    for val in reversed(lst):\n",
    "        head = ListNode(val, head)\n",
    "    return head"
   ]
  },
  {
   "attachments": {},
   "cell_type": "markdown",
   "metadata": {},
   "source": [
    "You are given the heads of two sorted linked lists list1 and list2.\n",
    "\n",
    "Merge the two lists in one sorted list. The list should be made by splicing together the nodes of the first two lists.\n",
    "\n",
    "Return the head of the merged linked list.\n",
    "\n",
    "</br>\n",
    "Input: list1 = [1,2,4], list2 = [1,3,4]\n",
    "Output: [1,1,2,3,4,4]\n",
    "</br>\n",
    "Input: list1 = [], list2 = []\n",
    "Output: []\n",
    "</br>\n",
    "list1 = [], list2 = [0]\n",
    "Output: [0]"
   ]
  },
  {
   "cell_type": "code",
   "execution_count": 440,
   "metadata": {},
   "outputs": [],
   "source": [
    "list1 = createLinkedList([1,2,4]); list2 = createLinkedList([1,3,4])\n",
    "# list1 = create_nodes([]); list2 = create_nodes([])\n",
    "# list1 = create_nodes([]); list2 = create_nodes([0])"
   ]
  },
  {
   "cell_type": "code",
   "execution_count": 441,
   "metadata": {},
   "outputs": [],
   "source": [
    "# this solution work  in leetcode\n",
    "def mergeTwoLists(list1, list2):\n",
    "    res = ListNode()\n",
    "    tmp_node = res\n",
    "    \n",
    "    while list1 and list2:\n",
    "        if list1.val < list2.val:\n",
    "            tmp_node.next = list1\n",
    "            list1 = list1.next\n",
    "        else:\n",
    "            tmp_node.next = list2\n",
    "            list2 = list2.next\n",
    "        tmp_node = tmp_node.next\n",
    "    \n",
    "    if list1:\n",
    "        tmp_node.next = list1\n",
    "    else:\n",
    "        tmp_node.next = list2\n",
    "    \n",
    "    return res.next\n",
    "\n",
    "r = mergeTwoLists(list1, list2)\n"
   ]
  },
  {
   "cell_type": "code",
   "execution_count": 434,
   "metadata": {},
   "outputs": [
    {
     "data": {
      "text/plain": [
       "2"
      ]
     },
     "execution_count": 434,
     "metadata": {},
     "output_type": "execute_result"
    }
   ],
   "source": [
    "r.next.next"
   ]
  },
  {
   "cell_type": "markdown",
   "metadata": {},
   "source": [
    "## 206. Reverse Linked List"
   ]
  },
  {
   "cell_type": "markdown",
   "metadata": {},
   "source": [
    "Given the head of a singly linked list, reverse the list, and return the reversed list.\n",
    "</br>\n",
    "Input: head = [1,2,3,4,5]\n",
    "Output: [5,4,3,2,1]\n",
    "</br>   "
   ]
  },
  {
   "cell_type": "code",
   "execution_count": 451,
   "metadata": {},
   "outputs": [],
   "source": [
    "# this solution worked on leetcode\n",
    "def reverseList(head):\n",
    "    res = ListNode()\n",
    "    tail = res\n",
    "\n",
    "    t_val_lst = []\n",
    "    while head:\n",
    "        t_val_lst.append(head.val)\n",
    "        head = head.next\n",
    "    for val in t_val_lst[::-1]:\n",
    "        tail.next = ListNode(val)\n",
    "        tail = tail.next\n",
    "    return res.next"
   ]
  },
  {
   "cell_type": "code",
   "execution_count": null,
   "metadata": {},
   "outputs": [],
   "source": []
  }
 ],
 "metadata": {
  "kernelspec": {
   "display_name": "rl_in_ksp_new",
   "language": "python",
   "name": "rl_in_ksp_new"
  },
  "language_info": {
   "codemirror_mode": {
    "name": "ipython",
    "version": 3
   },
   "file_extension": ".py",
   "mimetype": "text/x-python",
   "name": "python",
   "nbconvert_exporter": "python",
   "pygments_lexer": "ipython3",
   "version": "3.9.6"
  },
  "orig_nbformat": 4
 },
 "nbformat": 4,
 "nbformat_minor": 2
}
