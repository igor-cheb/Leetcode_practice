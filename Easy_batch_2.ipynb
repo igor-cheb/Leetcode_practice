{
 "cells": [
  {
   "attachments": {},
   "cell_type": "markdown",
   "metadata": {},
   "source": [
    "# Table of Contents\n",
    "- **[121. Best Time to Buy and Sell Stock](#1)** \n",
    "    - [Sol 1](#1-1)\n",
    "    - [Sol 2](#1-2)\n",
    "- **[21. Merge Two Sorted Lists](#2)** \n",
    "- **[206. Reverse Linked List](#3)** \n",
    "    - [Sol 1](#3-1)\n",
    "    - [Sol 2](#3-2)\n",
    "- **[876. Middle of the Linked List](#4)** \n",
    "    - [Sol 1](#4-1)\n",
    "    - [Sol 2](#4-2)\n",
    "- **[566. Reshape the Matrix](#5)** \n",
    "    - [Sol 1](#5-1)\n",
    "    - [Sol 2](#5-2)\n",
    "- **[118. Pascal's Triangle](#6)** \n",
    "    - [Sol 1](#6-1)\n",
    "- **[344. Reverse String](#7)** \n",
    "    - [Sol 1](#7-1)\n",
    "    - [Sol 2](#7-2)\n",
    "    - [Sol 3](#7-3)\n",
    "- **[557. Reverse Words in a String III](#8)** \n",
    "    - [Sol 1](#8-1)\n",
    "    - [Sol 2](#8-2)\n",
    "- **[409. Longest Palindrome](#9)**\n",
    "    - [Sol 1](#9-1)\n",
    "    - [Sol 2 (optimal)](#9-2)\n",
    "- **[387. First Unique Character in a String](#10)**\n",
    "    - [Sol 1 (optimal)](#10-1)"
   ]
  },
  {
   "attachments": {},
   "cell_type": "markdown",
   "metadata": {},
   "source": [
    "<a name='1'></a>\n",
    "# 121. Best Time to Buy and Sell Stock"
   ]
  },
  {
   "attachments": {},
   "cell_type": "markdown",
   "metadata": {},
   "source": [
    "You are given an array prices where prices[i] is the price of a given stock on the ith day.\n",
    "\n",
    "You want to maximize your profit by choosing a single day to buy one stock and choosing a different day in the future to sell that stock.\n",
    "\n",
    "Return the maximum profit you can achieve from this transaction. If you cannot achieve any profit, return 0.\n",
    "\n",
    "</br>\n",
    "Input: prices = [7,1,5,3,6,4]\n",
    "Output: 5\n",
    "</br>\n",
    "Input: prices = [7,6,4,3,1]\n",
    "Output: 0\n",
    "</br>\n",
    "Input: prices = [3,2,6,5,0,3]\n",
    "Output: 4"
   ]
  },
  {
   "attachments": {},
   "cell_type": "markdown",
   "metadata": {},
   "source": [
    "<a name='1-1'></a>\n",
    "## Sol 1"
   ]
  },
  {
   "cell_type": "code",
   "execution_count": 59,
   "metadata": {},
   "outputs": [],
   "source": [
    "# prices = [7,1,5,3,6,4]\n",
    "# prices = [7,6,4,3,1]\n",
    "# prices = [1]\n",
    "# prices =[1,2]\n",
    "prices = [3, 2, 6, 5, 0, 3]"
   ]
  },
  {
   "cell_type": "code",
   "execution_count": 67,
   "metadata": {},
   "outputs": [
    {
     "data": {
      "text/plain": [
       "4"
      ]
     },
     "execution_count": 67,
     "metadata": {},
     "output_type": "execute_result"
    }
   ],
   "source": [
    "def maxProfit(prices):\n",
    "    profits = []\n",
    "    for ix in range(len(prices)-1):\n",
    "        best_selling_price = max(prices[ix: ix+500])\n",
    "        profit = -prices[ix] + best_selling_price\n",
    "        if profit > 0:\n",
    "            profits.append(profit)\n",
    "\n",
    "    return max(profits) if len(profits) > 0 else 0\n",
    "\n",
    "maxProfit(prices)"
   ]
  },
  {
   "attachments": {},
   "cell_type": "markdown",
   "metadata": {},
   "source": [
    "<a name='1-2'></a>\n",
    "## Sol 2"
   ]
  },
  {
   "cell_type": "code",
   "execution_count": 88,
   "metadata": {},
   "outputs": [
    {
     "name": "stdout",
     "output_type": "stream",
     "text": [
      "0 1 | 0\n",
      "1 2 | 0\n",
      "1 3 | 1\n",
      "1 4 | 1\n",
      "4 5 | 1\n",
      "4 6 | 1\n"
     ]
    },
    {
     "data": {
      "text/plain": [
       "2"
      ]
     },
     "execution_count": 88,
     "metadata": {},
     "output_type": "execute_result"
    }
   ],
   "source": [
    "# prices = [7,1,5,3,6,4]\n",
    "# prices = [7,6,4,3,1]\n",
    "# prices = [1]\n",
    "# prices =[1,2]\n",
    "# prices = [3, 2, 6, 5, 0, 3]\n",
    "prices = [2,1,2,1,0,1,2]\n",
    "\n",
    "def maxProfit(prices):\n",
    "    if len(prices)>1:\n",
    "        l=0; r=1; cur_max = 0\n",
    "        while r < len(prices):\n",
    "            print(l, r, '|', cur_max)\n",
    "            if -prices[l] + prices[r] > cur_max:\n",
    "                cur_max = -prices[l] + prices[r]\n",
    "            elif prices[l] > prices[r]:\n",
    "                l = r\n",
    "                # continue\n",
    "            r+=1\n",
    "        return cur_max\n",
    "    else:\n",
    "        return 0\n",
    "    \n",
    "maxProfit(prices)"
   ]
  },
  {
   "attachments": {},
   "cell_type": "markdown",
   "metadata": {},
   "source": [
    "<a name='2'></a>\n",
    "# 21. Merge Two Sorted Lists"
   ]
  },
  {
   "cell_type": "code",
   "execution_count": 437,
   "metadata": {},
   "outputs": [],
   "source": [
    "# Definition for singly-linked list.\n",
    "class ListNode:\n",
    "    def __init__(self, val=0, next=None):\n",
    "        self.val = val\n",
    "        self.next = next\n",
    "    # def __repr__(self):\n",
    "    #     return str(self.val)\n",
    "\n",
    "def createLinkedList(lst):\n",
    "    head = None\n",
    "    for val in reversed(lst):\n",
    "        head = ListNode(val, head)\n",
    "    return head"
   ]
  },
  {
   "attachments": {},
   "cell_type": "markdown",
   "metadata": {},
   "source": [
    "You are given the heads of two sorted linked lists list1 and list2.\n",
    "\n",
    "Merge the two lists in one sorted list. The list should be made by splicing together the nodes of the first two lists.\n",
    "\n",
    "Return the head of the merged linked list.\n",
    "\n",
    "</br>\n",
    "Input: list1 = [1,2,4], list2 = [1,3,4]\n",
    "Output: [1,1,2,3,4,4]\n",
    "</br>\n",
    "Input: list1 = [], list2 = []\n",
    "Output: []\n",
    "</br>\n",
    "list1 = [], list2 = [0]\n",
    "Output: [0]"
   ]
  },
  {
   "cell_type": "code",
   "execution_count": 440,
   "metadata": {},
   "outputs": [],
   "source": [
    "list1 = createLinkedList([1,2,4]); list2 = createLinkedList([1,3,4])\n",
    "# list1 = create_nodes([]); list2 = create_nodes([])\n",
    "# list1 = create_nodes([]); list2 = create_nodes([0])"
   ]
  },
  {
   "cell_type": "code",
   "execution_count": 441,
   "metadata": {},
   "outputs": [],
   "source": [
    "# this solution work  in leetcode\n",
    "def mergeTwoLists(list1, list2):\n",
    "    res = ListNode()\n",
    "    tmp_node = res\n",
    "    \n",
    "    while list1 and list2:\n",
    "        if list1.val < list2.val:\n",
    "            tmp_node.next = list1\n",
    "            list1 = list1.next\n",
    "        else:\n",
    "            tmp_node.next = list2\n",
    "            list2 = list2.next\n",
    "        tmp_node = tmp_node.next\n",
    "    \n",
    "    if list1:\n",
    "        tmp_node.next = list1\n",
    "    else:\n",
    "        tmp_node.next = list2\n",
    "    \n",
    "    return res.next\n",
    "\n",
    "r = mergeTwoLists(list1, list2)\n"
   ]
  },
  {
   "attachments": {},
   "cell_type": "markdown",
   "metadata": {},
   "source": [
    "<a name='3'></a>\n",
    "## 206. Reverse Linked List"
   ]
  },
  {
   "cell_type": "markdown",
   "metadata": {},
   "source": [
    "Given the head of a singly linked list, reverse the list, and return the reversed list.\n",
    "</br>\n",
    "Input: head = [1,2,3,4,5]\n",
    "Output: [5,4,3,2,1]\n",
    "</br>   "
   ]
  },
  {
   "attachments": {},
   "cell_type": "markdown",
   "metadata": {},
   "source": [
    "<a name='3-1'></a>\n",
    "## Sol 1"
   ]
  },
  {
   "cell_type": "code",
   "execution_count": 451,
   "metadata": {},
   "outputs": [],
   "source": [
    "# this solution worked on leetcode\n",
    "def reverseList(head):\n",
    "    res = ListNode()\n",
    "    tail = res\n",
    "\n",
    "    t_val_lst = []\n",
    "    while head:\n",
    "        t_val_lst.append(head.val)\n",
    "        head = head.next\n",
    "    for val in t_val_lst[::-1]:\n",
    "        tail.next = ListNode(val)\n",
    "        tail = tail.next\n",
    "    return res.next"
   ]
  },
  {
   "attachments": {},
   "cell_type": "markdown",
   "metadata": {},
   "source": [
    "<a name='3-2'></a>\n",
    "## Sol 2"
   ]
  },
  {
   "cell_type": "code",
   "execution_count": null,
   "metadata": {},
   "outputs": [],
   "source": [
    "def reverseList(head):\n",
    "    curr, prev = head, None\n",
    "    \n",
    "    while curr:\n",
    "        nxt = curr.next\n",
    "        curr.next = prev\n",
    "        prev = curr\n",
    "        curr = nxt\n",
    "    return prev"
   ]
  },
  {
   "attachments": {},
   "cell_type": "markdown",
   "metadata": {},
   "source": [
    "<a name='4'></a>\n",
    "# 876. Middle of the Linked List"
   ]
  },
  {
   "attachments": {},
   "cell_type": "markdown",
   "metadata": {},
   "source": [
    "Given the head of a singly linked list, return the middle node of the linked list.\n",
    "\n",
    "If there are two middle nodes, return the second middle node.\n",
    "\n",
    "</br>\n",
    "Input: head = [1,2,3,4,5]\n",
    "Output: [3,4,5]\n",
    "\n",
    "</br>\n",
    "Input: head = [1,2,3,4,5,6]\n",
    "Output: [4,5,6]"
   ]
  },
  {
   "attachments": {},
   "cell_type": "markdown",
   "metadata": {},
   "source": [
    "<a name='4-1'></a>\n",
    "## Sol 1"
   ]
  },
  {
   "cell_type": "code",
   "execution_count": null,
   "metadata": {},
   "outputs": [],
   "source": [
    "head = createLinkedList([1,2,3,4,5])\n",
    "def middleNode(head):\n",
    "    lst_len = 0; t_head = head\n",
    "    while t_head:\n",
    "        lst_len += 1\n",
    "        t_head = t_head.next\n",
    "    for _ in range(int(lst_len/2)):\n",
    "        head = head.next\n",
    "    return head"
   ]
  },
  {
   "attachments": {},
   "cell_type": "markdown",
   "metadata": {},
   "source": [
    "<a name='4-2'></a>\n",
    "## Sol 2"
   ]
  },
  {
   "cell_type": "code",
   "execution_count": null,
   "metadata": {},
   "outputs": [],
   "source": [
    "head = createLinkedList([1,2,3,4,5])\n",
    "def middleNode(head):\n",
    "    h, t = head, head\n",
    "    while h and h.next:\n",
    "        t = t.next\n",
    "        h = h.next.next\n",
    "    return t"
   ]
  },
  {
   "attachments": {},
   "cell_type": "markdown",
   "metadata": {},
   "source": [
    "<a name='5'></a>\n",
    "# 566. Reshape the Matrix"
   ]
  },
  {
   "attachments": {},
   "cell_type": "markdown",
   "metadata": {},
   "source": [
    "In MATLAB, there is a handy function called reshape which can reshape an m x n matrix into a new one with a different size r x c keeping its original data.\n",
    "\n",
    "You are given an m x n matrix mat and two integers r and c representing the number of rows and the number of columns of the wanted reshaped matrix.\n",
    "\n",
    "The reshaped matrix should be filled with all the elements of the original matrix in the same row-traversing order as they were.\n",
    "\n",
    "If the reshape operation with given parameters is possible and legal, output the new reshaped matrix; Otherwise, output the original matrix.\n",
    "\n",
    "</br>\n",
    "Input: mat = [[1,2],[3,4]], r = 1, c = 4\n",
    "Output: [[1,2,3,4]]\n",
    "\n",
    "</br>\n",
    "Input: mat = [[1,2],[3,4]], r = 2, c = 4\n",
    "Output: [[1,2],[3,4]]"
   ]
  },
  {
   "attachments": {},
   "cell_type": "markdown",
   "metadata": {},
   "source": [
    "<a name='5-1'></a>\n",
    "## Sol 1"
   ]
  },
  {
   "cell_type": "code",
   "execution_count": 524,
   "metadata": {},
   "outputs": [
    {
     "data": {
      "text/plain": [
       "[[1, 2, 3, 4]]"
      ]
     },
     "execution_count": 524,
     "metadata": {},
     "output_type": "execute_result"
    }
   ],
   "source": [
    "mat = [[1,2],[3,4]]; r = 1; c = 4\n",
    "# mat = [[1,2],[3,4]]; r = 2; c = 4\n",
    "# mat = [[1,2]]; r = 1; c = 1\n",
    "\n",
    "def check_shape(mat, r, c):\n",
    "    cur_w = len(mat[0]); cur_l = len(mat)\n",
    "    return (cur_w * cur_l) == (r * c)\n",
    "\n",
    "def flatten_lst(mat):\n",
    "    res = []\n",
    "    for el in mat: res += el\n",
    "    return res\n",
    "\n",
    "def matrixReshape(mat, r, c):\n",
    "    if not check_shape(mat, r, c): return mat\n",
    "    flat_mat = flatten_lst(mat)\n",
    "\n",
    "    res = []\n",
    "    for r_cnt in range(r):\n",
    "        row = []\n",
    "        for c_cnt in range(c):\n",
    "            row.append(flat_mat.pop(0))\n",
    "        res.append(row)\n",
    "\n",
    "    return res\n",
    "\n",
    "matrixReshape(mat, r, c)"
   ]
  },
  {
   "attachments": {},
   "cell_type": "markdown",
   "metadata": {},
   "source": [
    "<a name='5-2'></a>\n",
    "## Sol 2"
   ]
  },
  {
   "cell_type": "code",
   "execution_count": 541,
   "metadata": {},
   "outputs": [
    {
     "data": {
      "text/plain": [
       "[[1, 2]]"
      ]
     },
     "execution_count": 541,
     "metadata": {},
     "output_type": "execute_result"
    }
   ],
   "source": [
    "# mat = [[1,2],[3,4]]; r = 1; c = 4\n",
    "# mat = [[1,2],[3,4]]; r = 2; c = 4\n",
    "mat = [[1,2]]; r = 1; c = 1\n",
    "\n",
    "def check_shape(mat, r, c):\n",
    "    cur_w = len(mat[0]); cur_l = len(mat)\n",
    "    return (cur_w * cur_l) == (r * c)\n",
    "\n",
    "def flatten_lst(mat):\n",
    "    res = []\n",
    "    for el in mat: res += el\n",
    "    return res\n",
    "\n",
    "def matrixReshape(mat, r, c):\n",
    "    if not check_shape(mat, r, c): return mat\n",
    "    flat_mat = flatten_lst(mat)\n",
    "\n",
    "    placeholder = [[0 for i in range(c)] for j in range(r)]\n",
    "    for k in range(r*c):\n",
    "        placeholder[k//c][k%c] = flat_mat[k]\n",
    "\n",
    "    return placeholder\n",
    "\n",
    "\n",
    "matrixReshape(mat, r, c)"
   ]
  },
  {
   "attachments": {},
   "cell_type": "markdown",
   "metadata": {},
   "source": [
    "<a name='6'></a>\n",
    "# 118. Pascal's Triangle"
   ]
  },
  {
   "attachments": {},
   "cell_type": "markdown",
   "metadata": {},
   "source": [
    "Given an integer numRows, return the first numRows of Pascal's triangle.\n",
    "\n",
    "In Pascal's triangle, each number is the sum of the two numbers directly above it as shown:\n",
    "\n",
    "</br>\n",
    "Input: numRows = 5\n",
    "Output: [[1],[1,1],[1,2,1],[1,3,3,1],[1,4,6,4,1]]\n",
    "\n",
    "</br>\n",
    "Input: numRows = 1\n",
    "Output: [[1]]"
   ]
  },
  {
   "attachments": {},
   "cell_type": "markdown",
   "metadata": {},
   "source": [
    "<a name='6-1'></a>\n",
    "## Sol 1"
   ]
  },
  {
   "cell_type": "code",
   "execution_count": 572,
   "metadata": {},
   "outputs": [
    {
     "data": {
      "text/plain": [
       "[[1]]"
      ]
     },
     "execution_count": 572,
     "metadata": {},
     "output_type": "execute_result"
    }
   ],
   "source": [
    "def generate(numRows):\n",
    "    res = [[1]]\n",
    "    for pow in range(2, numRows+1):\n",
    "        row = [1]+[res[-1][ix] + res[-1][ix+1] for ix in range(pow-2)]+[1]\n",
    "        res.append(row)\n",
    "    return res\n",
    "\n",
    "generate(1)"
   ]
  },
  {
   "attachments": {},
   "cell_type": "markdown",
   "metadata": {},
   "source": [
    "<a name='7'></a>\n",
    "# 344. Reverse String"
   ]
  },
  {
   "cell_type": "markdown",
   "metadata": {},
   "source": [
    "Write a function that reverses a string. The input string is given as an array of characters s.\n",
    "\n",
    "You must do this by modifying the input array in-place with O(1) extra memory.\n",
    "\n",
    "</br>\n",
    "Input: s = [\"h\",\"e\",\"l\",\"l\",\"o\"]\n",
    "Output: [\"o\",\"l\",\"l\",\"e\",\"h\"]\n",
    "\n",
    "</br>\n",
    "Input: s = [\"H\",\"a\",\"n\",\"n\",\"a\",\"h\"]\n",
    "Output: [\"h\",\"a\",\"n\",\"n\",\"a\",\"H\"]"
   ]
  },
  {
   "attachments": {},
   "cell_type": "markdown",
   "metadata": {},
   "source": [
    "<a name='7-1'></a>\n",
    "## Sol 1"
   ]
  },
  {
   "cell_type": "code",
   "execution_count": 459,
   "metadata": {},
   "outputs": [
    {
     "data": {
      "text/plain": [
       "['o', 'l', 'l', 'e', 'h']"
      ]
     },
     "execution_count": 459,
     "metadata": {},
     "output_type": "execute_result"
    }
   ],
   "source": [
    "s = [\"h\",\"e\",\"l\",\"l\",\"o\"]\n",
    "\n",
    "def reverseString(s):\n",
    "    l = 0; r = len(s)-1\n",
    "    while l < r:\n",
    "        s[l], s[r] = s[r], s[l]\n",
    "        l+=1; r-=1\n",
    "    return s\n",
    "\n",
    "reverseString(s)"
   ]
  },
  {
   "attachments": {},
   "cell_type": "markdown",
   "metadata": {},
   "source": [
    "<a name='7-2'></a>\n",
    "## Sol 2"
   ]
  },
  {
   "cell_type": "code",
   "execution_count": 464,
   "metadata": {},
   "outputs": [
    {
     "name": "stdout",
     "output_type": "stream",
     "text": [
      "['h']\n",
      "['e', 'h']\n",
      "['l', 'e', 'h']\n",
      "['l', 'l', 'e', 'h']\n",
      "['o', 'l', 'l', 'e', 'h']\n",
      "----------\n",
      "['l', 'l', 'e', 'h']  ||  ['o', 'e', 'l', 'l', 'o']\n",
      "['l', 'e', 'h']  ||  ['o', 'l', 'l', 'l', 'o']\n",
      "['e', 'h']  ||  ['o', 'l', 'l', 'l', 'o']\n",
      "['h']  ||  ['o', 'l', 'l', 'e', 'o']\n",
      "[]  ||  ['o', 'l', 'l', 'e', 'h']\n"
     ]
    },
    {
     "data": {
      "text/plain": [
       "['o', 'l', 'l', 'e', 'h']"
      ]
     },
     "execution_count": 464,
     "metadata": {},
     "output_type": "execute_result"
    }
   ],
   "source": [
    "s = [\"h\",\"e\",\"l\",\"l\",\"o\"]\n",
    "\n",
    "def reverseString(s):\n",
    "    stack = []\n",
    "    for el in s:\n",
    "        stack.insert(0, el)\n",
    "        print(stack)\n",
    "    print('-'*10)\n",
    "    i = 0\n",
    "    while stack:\n",
    "        s[i] = stack.pop(0)\n",
    "        i+=1\n",
    "        print(stack, ' || ', s)\n",
    "\n",
    "    return s\n",
    "\n",
    "reverseString(s)"
   ]
  },
  {
   "attachments": {},
   "cell_type": "markdown",
   "metadata": {},
   "source": [
    "<a name='7-3'></a>\n",
    "## Sol 3"
   ]
  },
  {
   "cell_type": "code",
   "execution_count": 468,
   "metadata": {},
   "outputs": [
    {
     "data": {
      "text/plain": [
       "['o', 'l', 'l', 'e', 'h']"
      ]
     },
     "execution_count": 468,
     "metadata": {},
     "output_type": "execute_result"
    }
   ],
   "source": [
    "s = [\"h\",\"e\",\"l\",\"l\",\"o\"]\n",
    "\n",
    "def reverse(s, l, r):\n",
    "    while l<r:\n",
    "        s[l], s[r] = s[r], s[l]\n",
    "        l+=1; r-=1\n",
    "    return s\n",
    "\n",
    "def reverseString(s):\n",
    "    return reverse(s, 0, len(s)-1)\n",
    "\n",
    "reverseString(s)"
   ]
  },
  {
   "attachments": {},
   "cell_type": "markdown",
   "metadata": {},
   "source": [
    "<a name='8'></a>\n",
    "# 557. Reverse Words in a String III"
   ]
  },
  {
   "attachments": {},
   "cell_type": "markdown",
   "metadata": {},
   "source": [
    "Given a string s, reverse the order of characters in each word within a sentence while still preserving whitespace and initial word order.\n",
    "\n",
    "</br>\n",
    "Input: s = \"Let's take LeetCode contest\"\n",
    "Output: \"s'teL ekat edoCteeL tsetnoc\"\n",
    "\n",
    "</br>\n",
    "Input: s = \"God Ding\"\n",
    "Output: \"doG gniD\""
   ]
  },
  {
   "attachments": {},
   "cell_type": "markdown",
   "metadata": {},
   "source": [
    "<a name='8-1'></a>\n",
    "## Sol 1"
   ]
  },
  {
   "cell_type": "code",
   "execution_count": 479,
   "metadata": {},
   "outputs": [
    {
     "name": "stdout",
     "output_type": "stream",
     "text": [
      "Let's s'teL\n",
      "take ekat\n",
      "LeetCode edoCteeL\n",
      "contest tsetnoc\n"
     ]
    },
    {
     "data": {
      "text/plain": [
       "\"s'teL ekat edoCteeL tsetnoc\""
      ]
     },
     "execution_count": 479,
     "metadata": {},
     "output_type": "execute_result"
    }
   ],
   "source": [
    "s = \"Let's take LeetCode contest\"\n",
    "# s = \"God Ding\"\n",
    "\n",
    "def reverse(word):\n",
    "    word = list(word)\n",
    "    l = 0; r = len(word)-1\n",
    "    while l < r:\n",
    "        word[l], word[r] = word[r], word[l]\n",
    "        l+=1; r-=1\n",
    "    return ''.join(word)\n",
    "\n",
    "def reverseWords(s):\n",
    "    wrds = s.split()\n",
    "    for n, w in enumerate(wrds):\n",
    "        print(w, reverse(w))\n",
    "        wrds[n] = reverse(w)\n",
    "    return ' '.join(wrds)\n",
    "\n",
    "reverseWords(s)"
   ]
  },
  {
   "attachments": {},
   "cell_type": "markdown",
   "metadata": {},
   "source": [
    "<a name='8-2'></a>\n",
    "## Sol 2"
   ]
  },
  {
   "cell_type": "code",
   "execution_count": 491,
   "metadata": {},
   "outputs": [
    {
     "data": {
      "text/plain": [
       "'doG gniD'"
      ]
     },
     "execution_count": 491,
     "metadata": {},
     "output_type": "execute_result"
    }
   ],
   "source": [
    "s = \"God Ding\"\n",
    "\n",
    "def reverseWords(s):\n",
    "    return ' '.join([el[::-1] for el in s.split()])\n",
    "    \n",
    "reverseWords(s)"
   ]
  },
  {
   "attachments": {},
   "cell_type": "markdown",
   "metadata": {},
   "source": [
    "<a name='9'></a>\n",
    "# 409. Longest Palindrome"
   ]
  },
  {
   "cell_type": "markdown",
   "metadata": {},
   "source": [
    "Given a string s which consists of lowercase or uppercase letters, return the length of the longest palindrome that can be built with those letters.\n",
    "\n",
    "Letters are case sensitive, for example, \"Aa\" is not considered a palindrome here.\n",
    "\n",
    "</br>\n",
    "Input: s = \"abccccdd\"\n",
    "Output: 7\n",
    "</br>\n",
    "Input: s = \"a\"\n",
    "Output: 1"
   ]
  },
  {
   "attachments": {},
   "cell_type": "markdown",
   "metadata": {},
   "source": [
    "<a name='9-1'></a>\n",
    "## Sol 1"
   ]
  },
  {
   "cell_type": "code",
   "execution_count": 611,
   "metadata": {},
   "outputs": [
    {
     "name": "stdout",
     "output_type": "stream",
     "text": [
      "[3]\n"
     ]
    },
    {
     "data": {
      "text/plain": [
       "3"
      ]
     },
     "execution_count": 611,
     "metadata": {},
     "output_type": "execute_result"
    }
   ],
   "source": [
    "from collections import Counter\n",
    "\n",
    "# s = \"abccccdd\"\n",
    "# s = 'a'\n",
    "s = \"ccc\"\n",
    "\n",
    "def longestPalindrome(s):\n",
    "    cnts = [s.count(ch) for ch in set(s)]\n",
    "    print(cnts)\n",
    "    coupled = 0; singular = 0\n",
    "    for num in cnts:\n",
    "        coupled += 2 * (num // 2); singular += num % 2\n",
    "    return coupled + 1 * (singular >= 1)\n",
    "\n",
    "longestPalindrome(s)"
   ]
  },
  {
   "attachments": {},
   "cell_type": "markdown",
   "metadata": {},
   "source": [
    "<a name='9-2'></a>\n",
    "## Sol 2 (optimal)"
   ]
  },
  {
   "cell_type": "code",
   "execution_count": 618,
   "metadata": {},
   "outputs": [
    {
     "data": {
      "text/plain": [
       "7"
      ]
     },
     "execution_count": 618,
     "metadata": {},
     "output_type": "execute_result"
    }
   ],
   "source": [
    "s = \"abccccdd\"\n",
    "# s = 'a'\n",
    "# s = \"ccc\"\n",
    "\n",
    "def longestPalindrome(s):\n",
    "    cnts = [s.count(ch) for ch in set(s)]\n",
    "\n",
    "    res = 0\n",
    "    for num in cnts:\n",
    "        res += 2 * (num // 2)\n",
    "        if res % 2 == 0 and num % 2 != 0:\n",
    "            res+=1\n",
    "    return res\n",
    "\n",
    "longestPalindrome(s)"
   ]
  },
  {
   "attachments": {},
   "cell_type": "markdown",
   "metadata": {},
   "source": [
    "<a name='10'></a>\n",
    "# 387. First Unique Character in a String"
   ]
  },
  {
   "attachments": {},
   "cell_type": "markdown",
   "metadata": {},
   "source": [
    "Given a string s, find the first non-repeating character in it and return its index. If it does not exist, return -1.\n",
    "\n",
    "</br>\n",
    "Input: s = \"leetcode\"</br>\n",
    "Output: 0</br>\n",
    "\n",
    "</br>\n",
    "Input: s = \"loveleetcode\"</br>\n",
    "Output: 2</br>\n",
    "\n",
    "</br>\n",
    "Input: s = \"aabb\"</br>\n",
    "Output: -1</br>"
   ]
  },
  {
   "attachments": {},
   "cell_type": "markdown",
   "metadata": {},
   "source": [
    "<a name='10-1'></a>\n",
    "## Sol 1 (optimal)"
   ]
  },
  {
   "cell_type": "code",
   "execution_count": 625,
   "metadata": {},
   "outputs": [
    {
     "name": "stdout",
     "output_type": "stream",
     "text": [
      "Counter({'d': 4, 'c': 2, 'b': 2, 'a': 1})\n",
      "0 4\n",
      "1 2\n",
      "2 2\n",
      "3 1\n"
     ]
    },
    {
     "data": {
      "text/plain": [
       "3"
      ]
     },
     "execution_count": 625,
     "metadata": {},
     "output_type": "execute_result"
    }
   ],
   "source": [
    "# s = \"leetcode\"\n",
    "# s = \"loveleetcode\"\n",
    "# s = \"aabb\"\n",
    "s = \"dddcdbbca\"\n",
    "\n",
    "def firstUniqChar(s: str):\n",
    "    cntr = Counter(s)\n",
    "    for n, el in enumerate(s):\n",
    "        if (cntr[el] == 1):\n",
    "            return n\n",
    "    return -1\n",
    "\n",
    "firstUniqChar(s)"
   ]
  }
 ],
 "metadata": {
  "kernelspec": {
   "display_name": "rl_in_ksp_new",
   "language": "python",
   "name": "rl_in_ksp_new"
  },
  "language_info": {
   "codemirror_mode": {
    "name": "ipython",
    "version": 3
   },
   "file_extension": ".py",
   "mimetype": "text/x-python",
   "name": "python",
   "nbconvert_exporter": "python",
   "pygments_lexer": "ipython3",
   "version": "3.9.6"
  },
  "orig_nbformat": 4
 },
 "nbformat": 4,
 "nbformat_minor": 2
}
