{
 "cells": [
  {
   "attachments": {},
   "cell_type": "markdown",
   "id": "0d1b307d",
   "metadata": {},
   "source": [
    "# 953. Verifying an Alien Dictionary (easy)"
   ]
  },
  {
   "cell_type": "code",
   "execution_count": 2,
   "id": "cbf2a930",
   "metadata": {},
   "outputs": [],
   "source": [
    "def isAlienSorted(words, order):\n",
    "    check_lengths = [len(w_l) <= len(w_r) for w_l in words for w_r in words[words.index(w_l):]]\n",
    "    if sum(check_lengths) < len(check_lengths):\n",
    "        return False\n",
    "    \n",
    "    for ix in range(len(words[0])):\n",
    "        letter_nums = [order.index(w[ix]) for w in words]\n",
    "        if letter_nums == sorted(letter_nums):\n",
    "            return True\n",
    "        else:\n",
    "            return False"
   ]
  },
  {
   "cell_type": "code",
   "execution_count": 5,
   "id": "ad31f12b",
   "metadata": {},
   "outputs": [],
   "source": [
    "words = [\"hello\",\"leetcode\"]\n",
    "order = \"hlabcdefgijkmnopqrstuvwxyz\"\n",
    "\n",
    "# words = [\"word\",\"world\",\"row\"]\n",
    "# order = \"worldabcefghijkmnpqstuvxyz\"\n",
    "\n",
    "# words = [\"apple\",\"app\"]\n",
    "# order = \"abcdefghijklmnopqrstuvwxyz\""
   ]
  },
  {
   "cell_type": "code",
   "execution_count": 6,
   "id": "a0893f74",
   "metadata": {},
   "outputs": [
    {
     "data": {
      "text/plain": [
       "True"
      ]
     },
     "execution_count": 6,
     "metadata": {},
     "output_type": "execute_result"
    }
   ],
   "source": [
    "isAlienSorted(words, order)"
   ]
  },
  {
   "attachments": {},
   "cell_type": "markdown",
   "id": "c08de39c",
   "metadata": {},
   "source": [
    "# 954. Array of Doubled Pairs (medium)"
   ]
  },
  {
   "attachments": {},
   "cell_type": "markdown",
   "id": "c615b354",
   "metadata": {},
   "source": [
    "Given an integer array of even length arr, return true if it is possible to reorder arr such that </br>\n",
    "`arr[2 * i + 1] = 2 * arr[2 * i]` </br>\n",
    "for every `0 <= i < len(arr) / 2`, </br>\n",
    "or false otherwise.</br>\n",
    "</br>\n",
    "tests: </br> \n",
    "[3,1,3,6] False, </br>\n",
    "[2,1,2,6] False, </br>\n",
    "[4,-2,2,-4] True</br>"
   ]
  },
  {
   "cell_type": "code",
   "execution_count": 71,
   "id": "a62a18e3",
   "metadata": {},
   "outputs": [
    {
     "data": {
      "text/plain": [
       "True"
      ]
     },
     "execution_count": 71,
     "metadata": {},
     "output_type": "execute_result"
    }
   ],
   "source": [
    "# arr  = [3, 1, 3, 6]\n",
    "# arr = [2,1,2,6]\n",
    "arr = [4,-2,2,-4]\n",
    "\n",
    "min_len = len(range(int(len(arr)/2)))\n",
    "ixs_for_reorder, doubled_ixs = [], []\n",
    "for ix in range(len(arr)):\n",
    "    if (arr[ix]*2) in arr and \\\n",
    "       (ix not in ixs_for_reorder) and \\\n",
    "       ((arr.index(arr[ix]*2) not in doubled_ixs)):\n",
    "        ixs_for_reorder.append(ix)\n",
    "        doubled_ixs.append(arr.index(arr[ix]*2))\n",
    "len(ixs_for_reorder) >= min_len"
   ]
  },
  {
   "attachments": {},
   "cell_type": "markdown",
   "id": "9405079a",
   "metadata": {},
   "source": [
    "# 1. Two Sum (easy)"
   ]
  },
  {
   "attachments": {},
   "cell_type": "markdown",
   "id": "7b6c09bf",
   "metadata": {},
   "source": [
    "Given an array of integers nums and an integer target, return indices of the two numbers such that they add up to target.\n",
    "\n",
    "You may assume that each input would have exactly one solution, and you may not use the same element twice.\n",
    "\n",
    "You can return the answer in any order.\n",
    "\n",
    "tests: </br>\n",
    "[2,7,11,15] 9</br>\n",
    "[3,2,4] 6</br>\n",
    "[3,3] 6</br>"
   ]
  },
  {
   "cell_type": "code",
   "execution_count": 122,
   "id": "eabe02b1",
   "metadata": {},
   "outputs": [
    {
     "data": {
      "text/plain": [
       "[1, 4]"
      ]
     },
     "execution_count": 122,
     "metadata": {},
     "output_type": "execute_result"
    }
   ],
   "source": [
    "arr = [4,2,1,4,5] ;t = 7\n",
    "# arr = [2,7,11,15] ;t = 9; sol = [0, 1]\n",
    "# arr = [3,2,4]; t = 6; sol = [1,2]\n",
    "# arr = [3,3]; t = 6; sol = [0,1]\n",
    "\n",
    "res = []\n",
    "for ix in range(len(arr)):\n",
    "    term = t - arr[ix]\n",
    "    if term in arr:\n",
    "        term_ixs = [i for i, x in enumerate(arr) if (x == term) and i != ix]\n",
    "        if term_ixs:\n",
    "            res.append([ix, term_ixs[0]])\n",
    "res[0]"
   ]
  },
  {
   "cell_type": "code",
   "execution_count": null,
   "id": "a7e9c10a",
   "metadata": {},
   "outputs": [],
   "source": []
  }
 ],
 "metadata": {
  "kernelspec": {
   "display_name": "Python 3",
   "language": "python",
   "name": "python3"
  },
  "language_info": {
   "codemirror_mode": {
    "name": "ipython",
    "version": 3
   },
   "file_extension": ".py",
   "mimetype": "text/x-python",
   "name": "python",
   "nbconvert_exporter": "python",
   "pygments_lexer": "ipython3",
   "version": "3.10.9"
  },
  "vscode": {
   "interpreter": {
    "hash": "aee8b7b246df8f9039afb4144a1f6fd8d2ca17a180786b69acc140d282b71a49"
   }
  }
 },
 "nbformat": 4,
 "nbformat_minor": 5
}
