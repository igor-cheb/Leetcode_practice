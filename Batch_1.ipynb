{
 "cells": [
  {
   "cell_type": "markdown",
   "id": "0d1b307d",
   "metadata": {},
   "source": [
    "# 953. Verifying an Alien Dictionary"
   ]
  },
  {
   "cell_type": "code",
   "execution_count": 73,
   "id": "cbf2a930",
   "metadata": {},
   "outputs": [],
   "source": [
    "def isAlienSorted(words, order):\n",
    "    check_lengths = [len(w_l) <= len(w_r) for w_l in words for w_r in words[words.index(w_l):]]\n",
    "    if sum(check_lengths) < len(check_lengths):\n",
    "        return False\n",
    "    \n",
    "    for ix in range(len(words[0])):\n",
    "        letter_nums = [order.index(w[ix]) for w in words]\n",
    "        if letter_nums == sorted(letter_nums):\n",
    "            return True\n",
    "        else:\n",
    "            return False"
   ]
  },
  {
   "cell_type": "code",
   "execution_count": 80,
   "id": "ad31f12b",
   "metadata": {},
   "outputs": [],
   "source": [
    "words = [\"hello\",\"leetcode\"]\n",
    "order = \"hlabcdefgijkmnopqrstuvwxyz\"\n",
    "\n",
    "words = [\"word\",\"world\",\"row\"]\n",
    "order = \"worldabcefghijkmnpqstuvxyz\"\n",
    "\n",
    "words = [\"apple\",\"app\"]\n",
    "order = \"abcdefghijklmnopqrstuvwxyz\""
   ]
  },
  {
   "cell_type": "code",
   "execution_count": 81,
   "id": "a0893f74",
   "metadata": {},
   "outputs": [
    {
     "data": {
      "text/plain": [
       "False"
      ]
     },
     "execution_count": 81,
     "metadata": {},
     "output_type": "execute_result"
    }
   ],
   "source": [
    "isAlienSorted(words, order)"
   ]
  },
  {
   "cell_type": "markdown",
   "id": "c08de39c",
   "metadata": {},
   "source": [
    "# 954. Array of Doubled Pairs"
   ]
  },
  {
   "cell_type": "markdown",
   "id": "c615b354",
   "metadata": {},
   "source": [
    "Given an integer array of even length arr, return true if it is possible to reorder arr such that </br>\n",
    "`arr[2 * i + 1] = 2 * arr[2 * i]` </br>\n",
    "for every `0 <= i < len(arr) / 2`, </br>\n",
    "or false otherwise.</br>"
   ]
  },
  {
   "cell_type": "code",
   "execution_count": 83,
   "id": "a62a18e3",
   "metadata": {},
   "outputs": [],
   "source": [
    "arr  = [1, 2, 3, 4, 5]"
   ]
  },
  {
   "cell_type": "code",
   "execution_count": null,
   "id": "6a3ad5a9",
   "metadata": {},
   "outputs": [],
   "source": [
    "arr[2 * i + 1] = 2 * arr[2 * i]"
   ]
  }
 ],
 "metadata": {
  "kernelspec": {
   "display_name": "Python 3 (ipykernel)",
   "language": "python",
   "name": "python3"
  },
  "language_info": {
   "codemirror_mode": {
    "name": "ipython",
    "version": 3
   },
   "file_extension": ".py",
   "mimetype": "text/x-python",
   "name": "python",
   "nbconvert_exporter": "python",
   "pygments_lexer": "ipython3",
   "version": "3.10.9"
  }
 },
 "nbformat": 4,
 "nbformat_minor": 5
}
