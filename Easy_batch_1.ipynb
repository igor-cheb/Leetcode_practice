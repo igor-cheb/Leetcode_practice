{
 "cells": [
  {
   "attachments": {},
   "cell_type": "markdown",
   "id": "0d1b307d",
   "metadata": {},
   "source": [
    "# 953. Verifying an Alien Dictionary"
   ]
  },
  {
   "attachments": {},
   "cell_type": "markdown",
   "id": "4bd9d2b8",
   "metadata": {},
   "source": [
    "In an alien language, surprisingly, they also use English lowercase letters, but possibly in a different order. The order of the alphabet is some permutation of lowercase letters.\n",
    "\n",
    "Given a sequence of words written in the alien language, and the order of the alphabet, return true if and only if the given words are sorted lexicographically in this alien language.\n",
    "</br>\n",
    "Input: words = [\"hello\",\"leetcode\"], order = \"hlabcdefgijkmnopqrstuvwxyz\"\n",
    "Output: true\n",
    "</br>\n",
    "Input: words = [\"word\",\"world\",\"row\"], order = \"worldabcefghijkmnpqstuvxyz\"\n",
    "Output: false\n",
    "</br>\n",
    "Input: words = [\"apple\",\"app\"], order = \"abcdefghijklmnopqrstuvwxyz\"\n",
    "Output: false"
   ]
  },
  {
   "cell_type": "code",
   "execution_count": 3,
   "id": "cbf2a930",
   "metadata": {},
   "outputs": [
    {
     "data": {
      "text/plain": [
       "False"
      ]
     },
     "execution_count": 3,
     "metadata": {},
     "output_type": "execute_result"
    }
   ],
   "source": [
    "# words = [\"hello\",\"leetcode\"]; order = \"hlabcdefgijkmnopqrstuvwxyz\"\n",
    "# words = [\"word\",\"world\",\"row\"]; order = \"worldabcefghijkmnpqstuvxyz\"\n",
    "words = [\"apple\",\"app\"]; order = \"abcdefghijklmnopqrstuvwxyz\"\n",
    "\n",
    "def isAlienSorted(words, order):\n",
    "    check_lengths = [len(w_l) <= len(w_r) for w_l in words for w_r in words[words.index(w_l):]]\n",
    "    if sum(check_lengths) < len(check_lengths):\n",
    "        return False\n",
    "    \n",
    "    for ix in range(len(words[0])):\n",
    "        letter_nums = [order.index(w[ix]) for w in words]\n",
    "        if letter_nums == sorted(letter_nums):\n",
    "            return True\n",
    "        else:\n",
    "            return False\n",
    "\n",
    "isAlienSorted(words, order)"
   ]
  },
  {
   "attachments": {},
   "cell_type": "markdown",
   "id": "9405079a",
   "metadata": {},
   "source": [
    "# 1. Two Sum"
   ]
  },
  {
   "attachments": {},
   "cell_type": "markdown",
   "id": "7b6c09bf",
   "metadata": {},
   "source": [
    "Given an array of integers nums and an integer target, return indices of the two numbers such that they add up to target.\n",
    "\n",
    "You may assume that each input would have exactly one solution, and you may not use the same element twice.\n",
    "\n",
    "You can return the answer in any order.\n",
    "\n",
    "tests: </br>\n",
    "[2,7,11,15] 9</br>\n",
    "[3,2,4] 6</br>\n",
    "[3,3] 6</br>"
   ]
  },
  {
   "cell_type": "code",
   "execution_count": 122,
   "id": "eabe02b1",
   "metadata": {},
   "outputs": [
    {
     "data": {
      "text/plain": [
       "[1, 4]"
      ]
     },
     "execution_count": 122,
     "metadata": {},
     "output_type": "execute_result"
    }
   ],
   "source": [
    "arr = [4,2,1,4,5] ;t = 7\n",
    "# arr = [2,7,11,15] ;t = 9; sol = [0, 1]\n",
    "# arr = [3,2,4]; t = 6; sol = [1,2]\n",
    "# arr = [3,3]; t = 6; sol = [0,1]\n",
    "\n",
    "res = []\n",
    "for ix in range(len(arr)):\n",
    "    term = t - arr[ix]\n",
    "    if term in arr:\n",
    "        term_ixs = [i for i, x in enumerate(arr) if (x == term) and i != ix]\n",
    "        if term_ixs:\n",
    "            res.append([ix, term_ixs[0]])\n",
    "res[0]"
   ]
  }
 ],
 "metadata": {
  "kernelspec": {
   "display_name": "Practical_RL_course-acchW1SA",
   "language": "python",
   "name": "python3"
  },
  "language_info": {
   "codemirror_mode": {
    "name": "ipython",
    "version": 3
   },
   "file_extension": ".py",
   "mimetype": "text/x-python",
   "name": "python",
   "nbconvert_exporter": "python",
   "pygments_lexer": "ipython3",
   "version": "3.10.9"
  },
  "vscode": {
   "interpreter": {
    "hash": "ceb5013205e2ddaf82b74f25b5b9345b0ac8ffe4d924e8d42acdb1c08dc17b89"
   }
  }
 },
 "nbformat": 4,
 "nbformat_minor": 5
}
