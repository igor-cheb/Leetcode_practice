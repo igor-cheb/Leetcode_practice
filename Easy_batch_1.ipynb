{
 "cells": [
  {
   "attachments": {},
   "cell_type": "markdown",
   "id": "0d1b307d",
   "metadata": {},
   "source": [
    "# 953. Verifying an Alien Dictionary"
   ]
  },
  {
   "attachments": {},
   "cell_type": "markdown",
   "id": "4bd9d2b8",
   "metadata": {},
   "source": [
    "In an alien language, surprisingly, they also use English lowercase letters, but possibly in a different order. The order of the alphabet is some permutation of lowercase letters.\n",
    "\n",
    "Given a sequence of words written in the alien language, and the order of the alphabet, return true if and only if the given words are sorted lexicographically in this alien language.\n",
    "</br>\n",
    "Input: words = [\"hello\",\"leetcode\"], order = \"hlabcdefgijkmnopqrstuvwxyz\"\n",
    "Output: true\n",
    "</br>\n",
    "Input: words = [\"word\",\"world\",\"row\"], order = \"worldabcefghijkmnpqstuvxyz\"\n",
    "Output: false\n",
    "</br>\n",
    "Input: words = [\"apple\",\"app\"], order = \"abcdefghijklmnopqrstuvwxyz\"\n",
    "Output: false"
   ]
  },
  {
   "cell_type": "code",
   "execution_count": 3,
   "id": "cbf2a930",
   "metadata": {},
   "outputs": [
    {
     "data": {
      "text/plain": [
       "False"
      ]
     },
     "execution_count": 3,
     "metadata": {},
     "output_type": "execute_result"
    }
   ],
   "source": [
    "# words = [\"hello\",\"leetcode\"]; order = \"hlabcdefgijkmnopqrstuvwxyz\"\n",
    "# words = [\"word\",\"world\",\"row\"]; order = \"worldabcefghijkmnpqstuvxyz\"\n",
    "words = [\"apple\",\"app\"]; order = \"abcdefghijklmnopqrstuvwxyz\"\n",
    "\n",
    "def isAlienSorted(words, order):\n",
    "    check_lengths = [len(w_l) <= len(w_r) for w_l in words for w_r in words[words.index(w_l):]]\n",
    "    if sum(check_lengths) < len(check_lengths):\n",
    "        return False\n",
    "    \n",
    "    for ix in range(len(words[0])):\n",
    "        letter_nums = [order.index(w[ix]) for w in words]\n",
    "        if letter_nums == sorted(letter_nums):\n",
    "            return True\n",
    "        else:\n",
    "            return False\n",
    "\n",
    "isAlienSorted(words, order)"
   ]
  },
  {
   "attachments": {},
   "cell_type": "markdown",
   "id": "9405079a",
   "metadata": {},
   "source": [
    "# 1. Two Sum"
   ]
  },
  {
   "attachments": {},
   "cell_type": "markdown",
   "id": "7b6c09bf",
   "metadata": {},
   "source": [
    "Given an array of integers nums and an integer target, return indices of the two numbers such that they add up to target.\n",
    "\n",
    "You may assume that each input would have exactly one solution, and you may not use the same element twice.\n",
    "\n",
    "You can return the answer in any order.\n",
    "\n",
    "tests: </br>\n",
    "[2,7,11,15] 9</br>\n",
    "[3,2,4] 6</br>\n",
    "[3,3] 6</br>"
   ]
  },
  {
   "cell_type": "code",
   "execution_count": 122,
   "id": "eabe02b1",
   "metadata": {},
   "outputs": [
    {
     "data": {
      "text/plain": [
       "[1, 4]"
      ]
     },
     "execution_count": 122,
     "metadata": {},
     "output_type": "execute_result"
    }
   ],
   "source": [
    "arr = [4,2,1,4,5] ;t = 7\n",
    "# arr = [2,7,11,15] ;t = 9; sol = [0, 1]\n",
    "# arr = [3,2,4]; t = 6; sol = [1,2]\n",
    "# arr = [3,3]; t = 6; sol = [0,1]\n",
    "\n",
    "res = []\n",
    "for ix in range(len(arr)):\n",
    "    term = t - arr[ix]\n",
    "    if term in arr:\n",
    "        term_ixs = [i for i, x in enumerate(arr) if (x == term) and i != ix]\n",
    "        if term_ixs:\n",
    "            res.append([ix, term_ixs[0]])\n",
    "res[0]"
   ]
  },
  {
   "attachments": {},
   "cell_type": "markdown",
   "id": "52588896",
   "metadata": {},
   "source": [
    "# 704. Binary Search"
   ]
  },
  {
   "attachments": {},
   "cell_type": "markdown",
   "id": "c86c7a7b",
   "metadata": {},
   "source": [
    "Given an array of integers nums which is sorted in ascending order, and an integer target, write a function to search target in nums. If target exists, then return its index. Otherwise, return -1.\n",
    "\n",
    "You must write an algorithm with O(log n) runtime complexity.\n",
    "</br>\n",
    "Input: nums = [-1,0,3,5,9,12], target = 9\n",
    "Output: 4\n",
    "</br>\n",
    "Input: nums = [-1,0,3,5,9,12], target = 2\n",
    "Output: -1"
   ]
  },
  {
   "cell_type": "code",
   "execution_count": 45,
   "id": "44da5200",
   "metadata": {},
   "outputs": [
    {
     "name": "stdout",
     "output_type": "stream",
     "text": [
      "0 0 1\n",
      "0 0 -1\n"
     ]
    },
    {
     "data": {
      "text/plain": [
       "-1"
      ]
     },
     "execution_count": 45,
     "metadata": {},
     "output_type": "execute_result"
    }
   ],
   "source": [
    "# nums = [-1,0,3,5,9,12]; target = 9\n",
    "# nums = [-1,0,3,5,9,12]; target = 2\n",
    "# nums = [5]; target = 5\n",
    "nums = [2,5];  target = 0\n",
    "\n",
    "def bin_search(nums, target):\n",
    "    low = 0; high = len(nums)-1; mid = int((high + low)/2)\n",
    "\n",
    "    for _ in range(len(nums)):\n",
    "        print(low, mid, high)\n",
    "        if nums[mid] == target:\n",
    "            return mid\n",
    "        elif nums[mid] > target:\n",
    "            high = mid - 1\n",
    "            mid = int((high + low)/2)\n",
    "        else:\n",
    "            low = mid + 1\n",
    "            mid = int((high + low)/2)\n",
    "\n",
    "    if nums[mid] == target:\n",
    "        return mid\n",
    "    else:\n",
    "        return -1\n",
    "        \n",
    "bin_search(nums, target)"
   ]
  },
  {
   "attachments": {},
   "cell_type": "markdown",
   "id": "105943bb",
   "metadata": {},
   "source": [
    "# 278. First Bad Version"
   ]
  },
  {
   "attachments": {},
   "cell_type": "markdown",
   "id": "5a8ccb6b",
   "metadata": {},
   "source": [
    "You are a product manager and currently leading a team to develop a new product. Unfortunately, the latest version of your product fails the quality check. Since each version is developed based on the previous version, all the versions after a bad version are also bad.\n",
    "\n",
    "Suppose you have n versions [1, 2, ..., n] and you want to find out the first bad one, which causes all the following ones to be bad.\n",
    "\n",
    "You are given an API bool isBadVersion(version) which returns whether version is bad. Implement a function to find the first bad version. You should minimize the number of calls to the API.\n",
    "</br>\n",
    "Input: n = 5, bad = 4\n",
    "Output: 4\n",
    "</br>\n",
    "Input: n = 1, bad = 1\n",
    "Output: 1"
   ]
  },
  {
   "cell_type": "code",
   "execution_count": 120,
   "id": "4defc9f9",
   "metadata": {},
   "outputs": [],
   "source": [
    "def isBadVersion(n, bad=4):\n",
    "    return n>=bad\n",
    "\n",
    "def firstBadVersion(n):\n",
    "    low=1; high=n; mid=int((low+high)/2)\n",
    "\n",
    "    for _ in range(n):\n",
    "        if isBadVersion(mid):\n",
    "            high = mid\n",
    "        else:\n",
    "            low = mid\n",
    "        if (high - low) <= 1:\n",
    "            if isBadVersion(low):\n",
    "                return low\n",
    "            else:\n",
    "                return high\n",
    "        mid = int((low+high)/2)"
   ]
  },
  {
   "cell_type": "code",
   "execution_count": 121,
   "id": "ef214b9e",
   "metadata": {},
   "outputs": [
    {
     "data": {
      "text/plain": [
       "4"
      ]
     },
     "execution_count": 121,
     "metadata": {},
     "output_type": "execute_result"
    }
   ],
   "source": [
    "firstBadVersion(5)"
   ]
  },
  {
   "cell_type": "code",
   "execution_count": null,
   "id": "c55318b2",
   "metadata": {},
   "outputs": [],
   "source": [
    "1"
   ]
  },
  {
   "cell_type": "code",
   "execution_count": 58,
   "id": "c1856c29",
   "metadata": {},
   "outputs": [
    {
     "data": {
      "text/plain": [
       "1"
      ]
     },
     "execution_count": 58,
     "metadata": {},
     "output_type": "execute_result"
    }
   ],
   "source": [
    "int((1+2)/2)"
   ]
  },
  {
   "cell_type": "code",
   "execution_count": null,
   "id": "156bf6f0",
   "metadata": {},
   "outputs": [],
   "source": []
  }
 ],
 "metadata": {
  "kernelspec": {
   "display_name": "Practical_RL_course-acchW1SA",
   "language": "python",
   "name": "python3"
  },
  "language_info": {
   "codemirror_mode": {
    "name": "ipython",
    "version": 3
   },
   "file_extension": ".py",
   "mimetype": "text/x-python",
   "name": "python",
   "nbconvert_exporter": "python",
   "pygments_lexer": "ipython3",
   "version": "3.10.9"
  },
  "vscode": {
   "interpreter": {
    "hash": "ceb5013205e2ddaf82b74f25b5b9345b0ac8ffe4d924e8d42acdb1c08dc17b89"
   }
  }
 },
 "nbformat": 4,
 "nbformat_minor": 5
}
