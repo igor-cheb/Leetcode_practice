{
 "cells": [
  {
   "attachments": {},
   "cell_type": "markdown",
   "id": "e90b6330",
   "metadata": {},
   "source": [
    "# Table of Contents\n",
    "- **[953. Verifying an Alien Dictionary](#1)** \n",
    "- **[1. Two Sum](#2)** \n",
    "    - [Sol 1](#2-1)\n",
    "    - [Sol 2](#2-2)\n",
    "- **[704. Binary Search](#3)** \n",
    "    - [Sol 1](#3-1)\n",
    "    - [Sol 2](#3-2)\n",
    "- **[278. First Bad Version](#4)** \n",
    "    - [Sol 1](#4-1)  \n",
    "    - [Sol 2](#4-2)  \n",
    "- **[35. Search Insert Position](#5)** \n",
    "- **[1480. Running Sum of 1d Array](#6)** \n",
    "- **[724. Find Pivot Index](#7)** \n",
    "    - [Sol 1](#7-1)  \n",
    "    - [Sol 2](#7-2)  \n",
    "- **[217. Contains Duplicate](#8)**\n",
    "- **[53. Maximum Subarray](#9)** \n",
    "- **[205. Isomorphic Strings](#10)** \n",
    "    - [Sol 1](#10-1)\n",
    "    - [Sol 2](#10-2) \n",
    "    - [Sol 3](#10-2) \n",
    "- **[977. Squares of a Sorted Array](#11)** \n",
    "    - [Sol 1](#11-1)\n",
    "    - [Sol 2](#11-2) \n",
    "- **[392. Is Subsequence](#12)** \n",
    "    - [Sol 1](#12-1)\n",
    "    - [Sol 2](#12-2) \n",
    "- **[88. Merge Sorted Array](#13)** \n",
    "    - [Sol 1](#13-1)\n",
    "    - [Sol 2](#13-2) \n",
    "- **[283. Move Zeroes](#14)** \n",
    "    - [Sol 1](#14-1)\n",
    "    - [Sol 2](#14-2) \n",
    "- **[350. Intersection of Two Arrays II](#15)**\n",
    "    - [Sol 1](#15-1)\n",
    "    - [Sol 2](#15-2) "
   ]
  },
  {
   "attachments": {},
   "cell_type": "markdown",
   "id": "0d1b307d",
   "metadata": {},
   "source": [
    "<a name='1'></a>\n",
    "# 953. Verifying an Alien Dictionary"
   ]
  },
  {
   "attachments": {},
   "cell_type": "markdown",
   "id": "4bd9d2b8",
   "metadata": {},
   "source": [
    "In an alien language, surprisingly, they also use English lowercase letters, but possibly in a different order. The order of the alphabet is some permutation of lowercase letters.\n",
    "\n",
    "Given a sequence of words written in the alien language, and the order of the alphabet, return true if and only if the given words are sorted lexicographically in this alien language.\n",
    "</br>\n",
    "Input: words = [\"hello\",\"leetcode\"], order = \"hlabcdefgijkmnopqrstuvwxyz\"\n",
    "Output: true\n",
    "</br>\n",
    "Input: words = [\"word\",\"world\",\"row\"], order = \"worldabcefghijkmnpqstuvxyz\"\n",
    "Output: false\n",
    "</br>\n",
    "Input: words = [\"apple\",\"app\"], order = \"abcdefghijklmnopqrstuvwxyz\"\n",
    "Output: false"
   ]
  },
  {
   "cell_type": "code",
   "execution_count": 3,
   "id": "cbf2a930",
   "metadata": {},
   "outputs": [
    {
     "data": {
      "text/plain": [
       "False"
      ]
     },
     "execution_count": 3,
     "metadata": {},
     "output_type": "execute_result"
    }
   ],
   "source": [
    "# words = [\"hello\",\"leetcode\"]; order = \"hlabcdefgijkmnopqrstuvwxyz\"\n",
    "# words = [\"word\",\"world\",\"row\"]; order = \"worldabcefghijkmnpqstuvxyz\"\n",
    "words = [\"apple\",\"app\"]; order = \"abcdefghijklmnopqrstuvwxyz\"\n",
    "\n",
    "def isAlienSorted(words, order):\n",
    "    check_lengths = [len(w_l) <= len(w_r) for w_l in words for w_r in words[words.index(w_l):]]\n",
    "    if sum(check_lengths) < len(check_lengths):\n",
    "        return False\n",
    "    \n",
    "    for ix in range(len(words[0])):\n",
    "        letter_nums = [order.index(w[ix]) for w in words]\n",
    "        if letter_nums == sorted(letter_nums):\n",
    "            return True\n",
    "        else:\n",
    "            return False\n",
    "\n",
    "isAlienSorted(words, order)"
   ]
  },
  {
   "attachments": {},
   "cell_type": "markdown",
   "id": "9405079a",
   "metadata": {},
   "source": [
    "<a name='2'></a>\n",
    "# 1. Two Sum"
   ]
  },
  {
   "attachments": {},
   "cell_type": "markdown",
   "id": "7b6c09bf",
   "metadata": {},
   "source": [
    "Given an array of integers nums and an integer target, return indices of the two numbers such that they add up to target.\n",
    "\n",
    "You may assume that each input would have exactly one solution, and you may not use the same element twice.\n",
    "\n",
    "You can return the answer in any order.\n",
    "\n",
    "tests: </br>\n",
    "[2,7,11,15] 9</br>\n",
    "[3,2,4] 6</br>\n",
    "[3,3] 6</br>"
   ]
  },
  {
   "attachments": {},
   "cell_type": "markdown",
   "id": "10ac8c21",
   "metadata": {},
   "source": [
    "<a name='2-1'></a>\n",
    "## Sol 1"
   ]
  },
  {
   "cell_type": "code",
   "execution_count": 122,
   "id": "eabe02b1",
   "metadata": {},
   "outputs": [
    {
     "data": {
      "text/plain": [
       "[1, 4]"
      ]
     },
     "execution_count": 122,
     "metadata": {},
     "output_type": "execute_result"
    }
   ],
   "source": [
    "arr = [4,2,1,4,5] ;t = 7\n",
    "# arr = [2,7,11,15] ;t = 9; sol = [0, 1]\n",
    "# arr = [3,2,4]; t = 6; sol = [1,2]\n",
    "# arr = [3,3]; t = 6; sol = [0,1]\n",
    "\n",
    "res = []\n",
    "for ix in range(len(arr)):\n",
    "    term = t - arr[ix]\n",
    "    if term in arr:\n",
    "        term_ixs = [i for i, x in enumerate(arr) if (x == term) and i != ix]\n",
    "        if term_ixs:\n",
    "            res.append([ix, term_ixs[0]])\n",
    "res[0]"
   ]
  },
  {
   "attachments": {},
   "cell_type": "markdown",
   "id": "987fcbc4",
   "metadata": {},
   "source": [
    "<a name='2-2'></a>\n",
    "## Sol 2"
   ]
  },
  {
   "cell_type": "code",
   "execution_count": 344,
   "id": "82338a31",
   "metadata": {},
   "outputs": [
    {
     "data": {
      "text/plain": [
       "[1, 4]"
      ]
     },
     "execution_count": 344,
     "metadata": {},
     "output_type": "execute_result"
    }
   ],
   "source": [
    "nums = [4,2,1,4,5]; t = 7\n",
    "\n",
    "def two_sum(nums, target):\n",
    "    matching_d = {}\n",
    "    for n, el in enumerate(nums):\n",
    "        if target - el in matching_d: \n",
    "            return [matching_d[target - el], n]\n",
    "        matching_d[el] = n\n",
    "\n",
    "two_sum(nums, t)"
   ]
  },
  {
   "attachments": {},
   "cell_type": "markdown",
   "id": "52588896",
   "metadata": {},
   "source": [
    "<a name='3'></a>\n",
    "# 704. Binary Search"
   ]
  },
  {
   "attachments": {},
   "cell_type": "markdown",
   "id": "c86c7a7b",
   "metadata": {},
   "source": [
    "Given an array of integers nums which is sorted in ascending order, and an integer target, write a function to search target in nums. If target exists, then return its index. Otherwise, return -1.\n",
    "\n",
    "You must write an algorithm with O(log n) runtime complexity.\n",
    "</br>\n",
    "Input: nums = [-1,0,3,5,9,12], target = 9\n",
    "Output: 4\n",
    "</br>\n",
    "Input: nums = [-1,0,3,5,9,12], target = 2\n",
    "Output: -1"
   ]
  },
  {
   "attachments": {},
   "cell_type": "markdown",
   "id": "a1c38426",
   "metadata": {},
   "source": [
    "<a name='3-1'></a>\n",
    "## Sol 1"
   ]
  },
  {
   "cell_type": "code",
   "execution_count": 45,
   "id": "44da5200",
   "metadata": {},
   "outputs": [
    {
     "name": "stdout",
     "output_type": "stream",
     "text": [
      "0 0 1\n",
      "0 0 -1\n"
     ]
    },
    {
     "data": {
      "text/plain": [
       "-1"
      ]
     },
     "execution_count": 45,
     "metadata": {},
     "output_type": "execute_result"
    }
   ],
   "source": [
    "# nums = [-1,0,3,5,9,12]; target = 9\n",
    "# nums = [-1,0,3,5,9,12]; target = 2\n",
    "# nums = [5]; target = 5\n",
    "nums = [2,5];  target = 0\n",
    "\n",
    "def bin_search(nums, target):\n",
    "    low = 0; high = len(nums)-1; mid = int((high + low)/2)\n",
    "\n",
    "    for _ in range(len(nums)):\n",
    "        print(low, mid, high)\n",
    "        if nums[mid] == target:\n",
    "            return mid\n",
    "        elif nums[mid] > target:\n",
    "            high = mid - 1\n",
    "            mid = int((high + low)/2)\n",
    "        else:\n",
    "            low = mid + 1\n",
    "            mid = int((high + low)/2)\n",
    "\n",
    "    if nums[mid] == target:\n",
    "        return mid\n",
    "    else:\n",
    "        return -1\n",
    "        \n",
    "bin_search(nums, target)"
   ]
  },
  {
   "attachments": {},
   "cell_type": "markdown",
   "id": "f34dbacd",
   "metadata": {},
   "source": [
    "<a name='3-2'></a>\n",
    "## Sol 2"
   ]
  },
  {
   "cell_type": "code",
   "execution_count": null,
   "id": "3b4df690",
   "metadata": {},
   "outputs": [],
   "source": [
    "def bin_search(nums, target):        \n",
    "    l = 0; h = len(nums) - 1\n",
    "\n",
    "    while l <= h:\n",
    "        mid = (l + h) // 2\n",
    "        if nums[mid] < target:\n",
    "            l = mid + 1\n",
    "        elif nums[mid] > target:\n",
    "            h = mid - 1\n",
    "        else: \n",
    "            return mid\n",
    "    return mid if nums[mid] == target else -1"
   ]
  },
  {
   "attachments": {},
   "cell_type": "markdown",
   "id": "105943bb",
   "metadata": {},
   "source": [
    "<a name='4'></a>\n",
    "# 278. First Bad Version"
   ]
  },
  {
   "attachments": {},
   "cell_type": "markdown",
   "id": "5a8ccb6b",
   "metadata": {},
   "source": [
    "You are a product manager and currently leading a team to develop a new product. Unfortunately, the latest version of your product fails the quality check. Since each version is developed based on the previous version, all the versions after a bad version are also bad.\n",
    "\n",
    "Suppose you have n versions [1, 2, ..., n] and you want to find out the first bad one, which causes all the following ones to be bad.\n",
    "\n",
    "You are given an API bool isBadVersion(version) which returns whether version is bad. Implement a function to find the first bad version. You should minimize the number of calls to the API.\n",
    "</br>\n",
    "Input: n = 5, bad = 4\n",
    "Output: 4\n",
    "</br>\n",
    "Input: n = 1, bad = 1\n",
    "Output: 1"
   ]
  },
  {
   "attachments": {},
   "cell_type": "markdown",
   "id": "b87ad4cf",
   "metadata": {},
   "source": [
    "<a name='4-1'></a>\n",
    "## Sol 1"
   ]
  },
  {
   "cell_type": "code",
   "execution_count": 120,
   "id": "4defc9f9",
   "metadata": {},
   "outputs": [],
   "source": [
    "def isBadVersion(n, bad=4):\n",
    "    return n>=bad\n",
    "\n",
    "def firstBadVersion(n):\n",
    "    low=1; high=n; mid=int((low+high)/2)\n",
    "\n",
    "    for _ in range(n):\n",
    "        if isBadVersion(mid):\n",
    "            high = mid\n",
    "        else:\n",
    "            low = mid\n",
    "        if (high - low) <= 1:\n",
    "            if isBadVersion(low):\n",
    "                return low\n",
    "            else:\n",
    "                return high\n",
    "        mid = int((low+high)/2)"
   ]
  },
  {
   "cell_type": "code",
   "execution_count": 121,
   "id": "ef214b9e",
   "metadata": {},
   "outputs": [
    {
     "data": {
      "text/plain": [
       "4"
      ]
     },
     "execution_count": 121,
     "metadata": {},
     "output_type": "execute_result"
    }
   ],
   "source": [
    "firstBadVersion(5)"
   ]
  },
  {
   "attachments": {},
   "cell_type": "markdown",
   "id": "6b5e324c",
   "metadata": {},
   "source": [
    "<a name='4-2'></a>\n",
    "## Sol 2"
   ]
  },
  {
   "cell_type": "code",
   "execution_count": null,
   "id": "1d960244",
   "metadata": {},
   "outputs": [],
   "source": [
    "def firstBadVersion(n):\n",
    "    l = 1; h = n; \n",
    "    while l < h:\n",
    "        mid = (l + h) // 2\n",
    "        if isBadVersion(mid):\n",
    "            h = mid\n",
    "        else:\n",
    "            l = mid + 1\n",
    "    return l "
   ]
  },
  {
   "attachments": {},
   "cell_type": "markdown",
   "id": "c55318b2",
   "metadata": {},
   "source": [
    "<a name='5'></a>\n",
    "# 35. Search Insert Position"
   ]
  },
  {
   "attachments": {},
   "cell_type": "markdown",
   "id": "c1856c29",
   "metadata": {},
   "source": [
    "Given a sorted array of distinct integers and a target value, return the index if the target is found. If not, return the index where it would be if it were inserted in order.\n",
    "\n",
    "You must write an algorithm with O(log n) runtime complexity.\n",
    "</br>\n",
    "Input: nums = [1,3,5,6], target = 5\n",
    "Output: 2\n",
    "</br>\n",
    "Input: nums = [1,3,5,6], target = 2\n",
    "Output: 1\n",
    "</br>\n",
    "Input: nums = [1,3,5,6], target = 7\n",
    "Output: 4"
   ]
  },
  {
   "cell_type": "code",
   "execution_count": 245,
   "id": "156bf6f0",
   "metadata": {},
   "outputs": [],
   "source": [
    "arr = [1]; t = 0\n",
    "\n",
    "def bin_search_absent(arr, target):\n",
    "    low = 0; high = len(arr)-1; mid = int((low+high)/2)\n",
    "\n",
    "    for _ in range(len(arr)):\n",
    "        if arr[mid] == target:\n",
    "            return mid\n",
    "        elif arr[mid] < target:\n",
    "            low = mid\n",
    "        else: #arr[mid] > target\n",
    "            high = mid\n",
    "\n",
    "        mid = int((low+high)/2)\n",
    "\n",
    "        if high - low <= 1:\n",
    "            if arr[high] < target:\n",
    "                return high+1\n",
    "            elif arr[low] < target:\n",
    "                return low+1\n",
    "            else:\n",
    "                return low"
   ]
  },
  {
   "cell_type": "code",
   "execution_count": 246,
   "id": "1850addb",
   "metadata": {},
   "outputs": [
    {
     "data": {
      "text/plain": [
       "0"
      ]
     },
     "execution_count": 246,
     "metadata": {},
     "output_type": "execute_result"
    }
   ],
   "source": [
    "bin_search_absent(arr, t)"
   ]
  },
  {
   "attachments": {},
   "cell_type": "markdown",
   "id": "0f88375a",
   "metadata": {},
   "source": [
    "<a name='6'></a>\n",
    "# 1480. Running Sum of 1d Array"
   ]
  },
  {
   "cell_type": "markdown",
   "id": "a87fae20",
   "metadata": {},
   "source": [
    "Given an array nums. We define a running sum of an array as runningSum[i] = sum(nums[0]…nums[i]).\n",
    "\n",
    "Return the running sum of nums.\n",
    "</br>\n",
    "Input: nums = [1,2,3,4]\n",
    "Output: [1,3,6,10]\n",
    "</br>\n",
    "Input: nums = [1,1,1,1,1]\n",
    "Output: [1,2,3,4,5]\n",
    "</br>\n",
    "Input: nums = [3,1,2,10,1]\n",
    "Output: [3,4,6,16,17]"
   ]
  },
  {
   "cell_type": "code",
   "execution_count": 249,
   "id": "bec1c2a3",
   "metadata": {},
   "outputs": [],
   "source": [
    "def run_sum(nums):\n",
    "    s = 0; res = []\n",
    "    for el in nums:\n",
    "        s = s + el\n",
    "        res.append(s)\n",
    "    return res"
   ]
  },
  {
   "attachments": {},
   "cell_type": "markdown",
   "id": "cdfaa269",
   "metadata": {},
   "source": [
    "<a name='7'></a>\n",
    "# 724. Find Pivot Index"
   ]
  },
  {
   "attachments": {},
   "cell_type": "markdown",
   "id": "3b25c037",
   "metadata": {},
   "source": [
    "Given an array of integers nums, calculate the pivot index of this array.\n",
    "\n",
    "The pivot index is the index where the sum of all the numbers strictly to the left of the index is equal to the sum of all the numbers strictly to the index's right.\n",
    "\n",
    "If the index is on the left edge of the array, then the left sum is 0 because there are no elements to the left. This also applies to the right edge of the array.\n",
    "\n",
    "Return the leftmost pivot index. If no such index exists, return -1.\n",
    "</br>\n",
    "Input: nums = [1,7,3,6,5,6]\n",
    "Output: 3\n",
    "</br>\n",
    "Input: nums = [1,2,3]\n",
    "Output: -1\n",
    "</br>\n",
    "Input: nums = [2,1,-1]\n",
    "Output: 0\n",
    "</br>\n",
    "Input: [-1,-1,-1,-1,0,1]\n",
    "Output: 1\n",
    "</br>\n",
    "[-1,-1,-1,-1,-1,-1]\n",
    "-1\n",
    "</br>\n",
    "[-1, -1, 0, 1, 0, -1]\n",
    "4"
   ]
  },
  {
   "attachments": {},
   "cell_type": "markdown",
   "id": "b3187328",
   "metadata": {},
   "source": [
    "<a name='7-1'></a>\n",
    "## Sol 1"
   ]
  },
  {
   "cell_type": "code",
   "execution_count": null,
   "id": "77f6f31e",
   "metadata": {},
   "outputs": [],
   "source": [
    "nums = [1,7,3,6,5,6]\n",
    "\n",
    "def pivotIndex(nums):\n",
    "    for ix in range(len(nums)):\n",
    "        lsum = sum(nums[:ix]); rsum = sum(nums[ix+1:])\n",
    "        if lsum == rsum:\n",
    "            return ix\n",
    "    return -1\n",
    "\n",
    "pivotIndex(nums)"
   ]
  },
  {
   "attachments": {},
   "cell_type": "markdown",
   "id": "949b2e91",
   "metadata": {},
   "source": [
    "<a name='7-2'></a>\n",
    "## Sol 2"
   ]
  },
  {
   "cell_type": "code",
   "execution_count": null,
   "id": "18ff485a",
   "metadata": {},
   "outputs": [
    {
     "name": "stdout",
     "output_type": "stream",
     "text": [
      "0 | 0 -1\n",
      "1 | -1 0\n",
      "2 | -2 0\n",
      "3 | -2 -1\n",
      "4 | -1 -1\n"
     ]
    },
    {
     "data": {
      "text/plain": [
       "4"
      ]
     },
     "execution_count": 320,
     "metadata": {},
     "output_type": "execute_result"
    }
   ],
   "source": [
    "nums = [-1, -1, 0, 1, 0, -1]\n",
    "def pivotIndex(nums):\n",
    "    lsum = 0; rsum = sum(nums[1:])\n",
    "    for ix in range(len(nums)):\n",
    "        if ix>0:\n",
    "            lsum += nums[ix-1]\n",
    "            rsum -= nums[ix]\n",
    "        print(ix,'|', lsum, rsum)\n",
    "        if lsum == rsum:\n",
    "            return ix\n",
    "    return -1\n",
    "pivotIndex(nums)"
   ]
  },
  {
   "attachments": {},
   "cell_type": "markdown",
   "id": "7841a892",
   "metadata": {},
   "source": [
    "<a name='8'></a>\n",
    "# 217. Contains Duplicate"
   ]
  },
  {
   "attachments": {},
   "cell_type": "markdown",
   "id": "4c33feae",
   "metadata": {},
   "source": [
    "Given an integer array nums, return true if any value appears at least twice in the array, and return false if every element is distinct.\n",
    "</br>\n",
    "Input: nums = [1,2,3,1]\n",
    "Output: true\n",
    "</br>\n",
    "Input: nums = [1,2,3,4]\n",
    "Output: false\n",
    "</br>\n",
    "Input: nums = [1,1,1,3,3,4,3,2,4,2]\n",
    "Output: true"
   ]
  },
  {
   "cell_type": "code",
   "execution_count": 328,
   "id": "1d1a8cf3",
   "metadata": {},
   "outputs": [
    {
     "data": {
      "text/plain": [
       "True"
      ]
     },
     "execution_count": 328,
     "metadata": {},
     "output_type": "execute_result"
    }
   ],
   "source": [
    "nums = [1,2,3,1]\n",
    "nums = [1,2,3,4]\n",
    "nums = [1,1,1,3,3,4,3,2,4,2]\n",
    "\n",
    "def containsDuplicate(nums):\n",
    "    return len(set(nums)) < len(nums)\n",
    "\n",
    "containsDuplicate(nums)"
   ]
  },
  {
   "attachments": {},
   "cell_type": "markdown",
   "id": "445fa3fc",
   "metadata": {},
   "source": [
    "<a name='9'></a>\n",
    "# 53. Maximum Subarray"
   ]
  },
  {
   "attachments": {},
   "cell_type": "markdown",
   "id": "30d54c4f",
   "metadata": {},
   "source": [
    "Given an integer array nums, find the \n",
    "subarray with the largest sum, and return its sum.\n",
    "\n",
    " </br>\n",
    " Input: nums = [-2,1,-3,4,-1,2,1,-5,4]\n",
    "Output: 6\n",
    "</br>\n",
    "Input: nums = [1]\n",
    "Output: 1\n",
    "</br>\n",
    "Input: nums = [5,4,-1,7,8]\n",
    "Output: 23"
   ]
  },
  {
   "cell_type": "code",
   "execution_count": 342,
   "id": "d4e6e497",
   "metadata": {},
   "outputs": [
    {
     "data": {
      "text/plain": [
       "6"
      ]
     },
     "execution_count": 342,
     "metadata": {},
     "output_type": "execute_result"
    }
   ],
   "source": [
    "nums = [-2,1,-3,4,-1,2,1,-5,4]\n",
    "# nums = [1]\n",
    "# nums = [5,4,-1,7,8]\n",
    "\n",
    "def maxSubArray(nums):\n",
    "    max_global, max_local = nums[0], nums[0]\n",
    "    for el in nums[1:]:\n",
    "        max_local = max([el, el + max_local])\n",
    "        if max_local > max_global:\n",
    "            max_global = max_local\n",
    "    return max_global\n",
    "\n",
    "maxSubArray(nums)"
   ]
  },
  {
   "attachments": {},
   "cell_type": "markdown",
   "id": "9517bf79",
   "metadata": {},
   "source": [
    "<a name='10'></a>\n",
    "# 205. Isomorphic Strings"
   ]
  },
  {
   "attachments": {},
   "cell_type": "markdown",
   "id": "c4ef6534",
   "metadata": {},
   "source": [
    "Given two strings s and t, determine if they are isomorphic.\n",
    "\n",
    "Two strings s and t are isomorphic if the characters in s can be replaced to get t.\n",
    "\n",
    "All occurrences of a character must be replaced with another character while preserving the order of characters. No two characters may map to the same character, but a character may map to itself.\n",
    "</br>\n",
    "Input: s = \"egg\", t = \"add\"\n",
    "Output: true\n",
    "</br>\n",
    "Input: s = \"foo\", t = \"bar\"\n",
    "Output: false\n",
    "</br>\n",
    "Input: s = \"paper\", t = \"title\"\n",
    "Output: true\n",
    "</br>\n",
    "Input: s = 'bbbaaaba', t = 'aaabbbba'\n",
    "Output: false"
   ]
  },
  {
   "attachments": {},
   "cell_type": "markdown",
   "id": "df4bebdd",
   "metadata": {},
   "source": [
    "<a name='10-1'></a>\n",
    "## Sol 1"
   ]
  },
  {
   "cell_type": "code",
   "execution_count": 462,
   "id": "b356b5a9",
   "metadata": {},
   "outputs": [
    {
     "data": {
      "text/plain": [
       "False"
      ]
     },
     "execution_count": 462,
     "metadata": {},
     "output_type": "execute_result"
    }
   ],
   "source": [
    "# s = \"egg\"; t = \"add\"\n",
    "# s = \"foo\"; t = \"bar\"\n",
    "s = \"paper\"; t = \"title\"\n",
    "# s = 'rrraaara'; t = 'ooobbbbo'\n",
    "# s = \"abcdefghijklmnopqrstuvwxyzABCDEFGHIJKLMNOPQRSTUVWXYZ0123456789!\\\"#$%&'()*+,-./:;<=>?@[\\\\]^_`{|}~ abcdefghijklmnopqrstuvwxyzABCDEFGHIJKLMNOPQRSTUVWXYZ0123456789!\\\"#$%&'()*+,-./:;<=>?@[\\\\]^_`{|}~ abcdefghijklmnopqrstuvwxyzABCDEFGHIJKLMNOPQRSTUVWXYZ0123456789!\\\"#$%&'()*+,-./:;<=>?@[\\\\]^_`{|}~ abcdefghijklmnopqrstuvwxyzABCDEFGHIJKLMNOPQRSTUVWXYZ0123456789!\\\"#$%&'()*+,-./:;<=>?@[\\\\]^_`{|}~ abcdefghijklmnopqrstuvwxyzABCDEFGHIJKLMNOPQRSTUVWXYZ0123456789!\\\"#$%&'()*+,-./:;<=>?@[\\\\]^_`{|}~ abcdefghijklmnopqrstuvwxyzABCDEFGHIJKLMNOPQRSTUVWXYZ0123456789!\\\"#$%&'()*+,-./:;<=>?@[\\\\]^_`{|}~ abcdefghijklmnopqrstuvwxyzABCDEFGHIJKLMNOPQRSTUVWXYZ0123456789!\\\"#$%&'()*+,-./:;<=>?@[\\\\]^_`{|}~ abcdefghijklmnopqrstuvwxyzABCD\"\n",
    "# t = \"\\\"bcdefg&ijklmnopqrstuvwxyzABCDEFGHIJKLMNOPQRSTUVWXYZ0123456789!a#$%h'()*+,-./:;<=> @[\\\\]^_`{|}~?\\\"bcdefg&ijklmnopqrstuvwxyzABCDEFGHIJKLMNOPQRSTUVWXYZ0123456789!a#$%h'()*+,-./:;<=> @[\\\\]^_`{|}~?\\\"bcdefg&ijklmnopqrstuvwxyzABCDEFGHIJKLMNOPQRSTUVWXYZ0123456789!a#$%h'()*+,-./:;<=> @[\\\\]^_`{|}~?\\\"bcdefg&ijklmnopqrstuvwxyzABCDEFGHIJKLMNOPQRSTUVWXYZ0123456789!a#$%h'()*+,-./:;<=> @[\\\\]^_`{|}~?\\\"bcdefg&ijklmnopqrstuvwxyzABCDEFGHIJKLMNOPQRSTUVWXYZ0123456789!a#$%h'()*+,-./:;<=> @[\\\\]^_`{|}~?\\\"bcdefg&ijklmnopqrstuvwxyzABCDEFGHIJKLMNOPQRSTUVWXYZ0123456789!a#$%h'()*+,-./:;<=> @[\\\\]^_`{|}~?\\\"bcdefg&ijklmnopqrstuvwxyzABCDEFGHIJKLMNOPQRSTUVWXYZ0123456789!a#$%h'()*+,-./:;<=> @[\\\\]^_`{|}~?\\\"bcdefg&ijklmnopqrstuvwxyzABCD\"\n",
    "def get_ixs(string, char):\n",
    "    return [i for i, j in enumerate(string) if j==char]\n",
    "\n",
    "def isIsomorphic(s, t):\n",
    "    a = list({k: get_ixs(s, k) for k in set(s)}.values())\n",
    "    b = list({k: get_ixs(t, k) for k in set(t)}.values())\n",
    "    return a == b\n",
    "    \n",
    "    \n",
    "\n",
    "\n",
    "isIsomorphic(s, t)"
   ]
  },
  {
   "attachments": {},
   "cell_type": "markdown",
   "id": "4855289a",
   "metadata": {},
   "source": [
    "<a name='10-2'></a>\n",
    "## Sol 2"
   ]
  },
  {
   "cell_type": "code",
   "execution_count": 446,
   "id": "2f0d4cc3",
   "metadata": {},
   "outputs": [
    {
     "data": {
      "text/plain": [
       "False"
      ]
     },
     "execution_count": 446,
     "metadata": {},
     "output_type": "execute_result"
    }
   ],
   "source": [
    "def isIsomorphic(s, t):\n",
    "    \"\"\"\n",
    "    zip makes a zip object which is an iterator ( something that can be looped over ) in the form of a tuples:\n",
    "        \"[('p', 'r'),('a', 'b'),('a', 'b')]\"\n",
    "    then they turn the string and that iterator into sets ( data types that can't have repeating keys).\n",
    "    if they have the same length they are isomorphic\n",
    "    \"\"\"\n",
    "    \n",
    "    z = zip(s, t)\n",
    "    return len(set(s)) == len(set(t)) == len(set(z))\n",
    "\n",
    "isIsomorphic(s, t)"
   ]
  },
  {
   "attachments": {},
   "cell_type": "markdown",
   "id": "8a602381",
   "metadata": {},
   "source": [
    "<a name='10-3'> </a>\n",
    "## Sol 3\n"
   ]
  },
  {
   "cell_type": "code",
   "execution_count": null,
   "id": "6268fd29",
   "metadata": {},
   "outputs": [],
   "source": [
    "def isIsomorphic(s, t):        \n",
    "    mapST, mapTS = {}, {}\n",
    "    for ix in range(len(s)):\n",
    "        if ((s[ix] in mapST) and (mapST[s[ix]] != t[ix])) or \\\n",
    "            ((t[ix] in mapTS) and (mapTS[t[ix]] != s[ix])):\n",
    "            return False\n",
    "        mapST[s[ix]] = t[ix]\n",
    "        mapTS[t[ix]] = s[ix]\n",
    "    return True\n",
    "\n",
    "isIsomorphic(s, t)"
   ]
  },
  {
   "attachments": {},
   "cell_type": "markdown",
   "id": "402eb296",
   "metadata": {},
   "source": [
    "<a name='11'></a>\n",
    "# 977. Squares of a Sorted Array"
   ]
  },
  {
   "attachments": {},
   "cell_type": "markdown",
   "id": "46677f43",
   "metadata": {},
   "source": [
    "Given an integer array nums sorted in non-decreasing order, return an array of the squares of each number sorted in non-decreasing order.\n",
    "\n",
    "</br>\n",
    "Input: nums = [-4,-1,0,3,10]\n",
    "Output: [0,1,9,16,100]\n",
    "</br>\n",
    "Input: nums = [-7,-3,2,3,11]\n",
    "Output: [4,9,9,49,121]\n",
    "</br>"
   ]
  },
  {
   "attachments": {},
   "cell_type": "markdown",
   "id": "5e40779f",
   "metadata": {},
   "source": [
    "<a name='11-1'></a>\n",
    "# Sol 1"
   ]
  },
  {
   "cell_type": "code",
   "execution_count": 479,
   "id": "134cefcd",
   "metadata": {},
   "outputs": [
    {
     "data": {
      "text/plain": [
       "[0, 1, 9, 16, 100]"
      ]
     },
     "execution_count": 479,
     "metadata": {},
     "output_type": "execute_result"
    }
   ],
   "source": [
    "nums = [-4,-1,0,3,10]; out = [0,1,9,16,100]\n",
    "# nums = [-7,-3,2,3,11]; out = [4,9,9,49,121]\n",
    "\n",
    "def sortedSquares(nums):\n",
    "    return sorted([el**2 for el in nums])\n",
    "\n",
    "sortedSquares(nums)"
   ]
  },
  {
   "attachments": {},
   "cell_type": "markdown",
   "id": "4469c9ad",
   "metadata": {},
   "source": [
    "<a name='11-2'></a>\n",
    "# Sol 2"
   ]
  },
  {
   "cell_type": "code",
   "execution_count": 480,
   "id": "cb7b0991",
   "metadata": {},
   "outputs": [
    {
     "name": "stdout",
     "output_type": "stream",
     "text": [
      "0 4\n",
      "0 3\n",
      "1 3\n",
      "1 2\n"
     ]
    },
    {
     "data": {
      "text/plain": [
       "[0, 1, 9, 16, 100]"
      ]
     },
     "execution_count": 480,
     "metadata": {},
     "output_type": "execute_result"
    }
   ],
   "source": [
    "res = []; l = 0; r = len(nums) - 1\n",
    "while l != r:\n",
    "    if nums[l]**2 <= nums[r]**2:\n",
    "        res.insert(0, nums[r]**2)\n",
    "        r -= 1\n",
    "    else:\n",
    "        res.insert(0, nums[l]**2)\n",
    "        l += 1\n",
    "res.insert(0, nums[r]**2)\n"
   ]
  },
  {
   "attachments": {},
   "cell_type": "markdown",
   "id": "c70b51a7",
   "metadata": {},
   "source": [
    "<a name='12'></a>\n",
    "# 392. Is Subsequence"
   ]
  },
  {
   "attachments": {},
   "cell_type": "markdown",
   "id": "a0b92141",
   "metadata": {},
   "source": [
    "Given two strings s and t, return true if s is a subsequence of t, or false otherwise.\n",
    "\n",
    "A subsequence of a string is a new string that is formed from the original string by deleting some (can be none) of the characters without disturbing the relative positions of the remaining characters. (i.e., \"ace\" is a subsequence of \"abcde\" while \"aec\" is not).\n",
    "</br>\n",
    "Input: s = \"abc\", t = \"ahbgdc\"\n",
    "Output: true\n",
    "</br>\n",
    "Input: s = \"axc\", t = \"ahbgdc\"\n",
    "Output: false\n",
    "</br>\n",
    "s = \"\", t = \"ahbgdc\"\n",
    "</br>\n",
    "s = \"let\", t = 'leet'"
   ]
  },
  {
   "cell_type": "code",
   "execution_count": 621,
   "id": "a8f8fe4d",
   "metadata": {},
   "outputs": [],
   "source": [
    "# s = \"abc\"; t = \"ahbgdc\"\n",
    "# s = \"axc\"; t = \"ahbgdc\"\n",
    "# s = \"acb\"; t =   \"ahbgdc\"\n",
    "# s = \"ab\" ; t = \"baababbbbb\"\n",
    "# s = \"\"; t = \"ahbgdc\"\n",
    "s = \"let\"; t = 'leet'"
   ]
  },
  {
   "attachments": {},
   "cell_type": "markdown",
   "id": "f68cd750",
   "metadata": {},
   "source": [
    "<a name='12-1'></a>\n",
    "## Sol 1"
   ]
  },
  {
   "cell_type": "code",
   "execution_count": 586,
   "id": "7282de12",
   "metadata": {},
   "outputs": [
    {
     "data": {
      "text/plain": [
       "False"
      ]
     },
     "execution_count": 586,
     "metadata": {},
     "output_type": "execute_result"
    }
   ],
   "source": [
    "\n",
    "def isSubsequence(s, t):\n",
    "    filtered_t = ''.join([el for el in t if el in s])\n",
    "\n",
    "    if len(filtered_t) < len(s):\n",
    "        return False\n",
    "    \n",
    "    if filtered_t == s:\n",
    "        return True\n",
    "    \n",
    "    for n, el in enumerate(filtered_t):\n",
    "        collecting_chars = []\n",
    "        if el == s[0]:\n",
    "            cnt = 0\n",
    "            for el_ in filtered_t[n:]:\n",
    "                if el_ == s[cnt]:\n",
    "                    collecting_chars.append(el_)\n",
    "                    print(collecting_chars)\n",
    "                    if ''.join(collecting_chars) == s:\n",
    "                        return True\n",
    "                    cnt += 1\n",
    "    return False\n",
    "\n",
    "isSubsequence(s, t)"
   ]
  },
  {
   "attachments": {},
   "cell_type": "markdown",
   "id": "759b1f16",
   "metadata": {},
   "source": [
    "<a name='12-2'></a>\n",
    "## Sol 2"
   ]
  },
  {
   "cell_type": "code",
   "execution_count": 610,
   "id": "1b440a18",
   "metadata": {},
   "outputs": [
    {
     "data": {
      "text/plain": [
       "True"
      ]
     },
     "execution_count": 610,
     "metadata": {},
     "output_type": "execute_result"
    }
   ],
   "source": [
    "def isSubsequence(s, t):\n",
    "    if len(t) < len(s):\n",
    "        return False\n",
    "    if s == \"\":\n",
    "        return True\n",
    "\n",
    "    i=0\n",
    "    for j in range(len(t)):\n",
    "        if s[i] == t[j]:\n",
    "            if i == len(s) - 1:\n",
    "                return True\n",
    "            i+=1\n",
    "    return False\n",
    "\n",
    "isSubsequence(s, t)"
   ]
  },
  {
   "attachments": {},
   "cell_type": "markdown",
   "id": "767bd13f",
   "metadata": {},
   "source": [
    "<a name='12-3'></a>\n",
    "## Sol 3"
   ]
  },
  {
   "cell_type": "code",
   "execution_count": 622,
   "id": "d917411c",
   "metadata": {},
   "outputs": [
    {
     "data": {
      "text/plain": [
       "True"
      ]
     },
     "execution_count": 622,
     "metadata": {},
     "output_type": "execute_result"
    }
   ],
   "source": [
    "def isSubsequence(s, t):\n",
    "    i=0; j=0\n",
    "\n",
    "    while i<len(s) and j<len(t):\n",
    "        if s[i] == t[j]:\n",
    "            i+=1\n",
    "        j+=1\n",
    "    return True if i==len(s) else False\n",
    "\n",
    "isSubsequence(s, t)"
   ]
  },
  {
   "attachments": {},
   "cell_type": "markdown",
   "id": "f5aa480d",
   "metadata": {},
   "source": [
    "<a name='13'></a>\n",
    "# 88. Merge Sorted Array"
   ]
  },
  {
   "attachments": {},
   "cell_type": "markdown",
   "id": "05a19dcc",
   "metadata": {},
   "source": [
    "You are given two integer arrays nums1 and nums2, sorted in non-decreasing order, and two integers m and n, representing the number of elements in nums1 and nums2 respectively.\n",
    "\n",
    "Merge nums1 and nums2 into a single array sorted in non-decreasing order.\n",
    "\n",
    "The final sorted array should not be returned by the function, but instead be stored inside the array nums1. To accommodate this, nums1 has a length of m + n, where the first m elements denote the elements that should be merged, and the last n elements are set to 0 and should be ignored. nums2 has a length of n.\n",
    "\n",
    "</br>\n",
    "Input: nums1 = [1,2,3,0,0,0], m = 3, nums2 = [2,5,6], n = 3\n",
    "Output: [1,2,2,3,5,6]\n",
    "</br>\n",
    "Input: nums1 = [1], m = 1, nums2 = [], n = 0\n",
    "Output: [1]\n",
    "</br>\n",
    "Input: nums1 = [0], m = 0, nums2 = [1], n = 1\n",
    "Output: [1]\n",
    "</br>\n",
    "Input: nums1 = [2,0]; m = 1; nums2 = [1]; n = 1\n",
    "Output: [1,2]\n"
   ]
  },
  {
   "attachments": {},
   "cell_type": "markdown",
   "id": "b420bda2",
   "metadata": {},
   "source": [
    "<a name='13-1'></a>\n",
    "## Sol 1"
   ]
  },
  {
   "cell_type": "code",
   "execution_count": 737,
   "id": "b7455855",
   "metadata": {},
   "outputs": [
    {
     "name": "stdout",
     "output_type": "stream",
     "text": [
      "[0] 0 0 0\n",
      "!!! 1 !!!\n"
     ]
    }
   ],
   "source": [
    "# nums1 = [1,2,3,0,0,0]; m = 3; nums2 = [2,5,6]; n = 3\n",
    "# nums1 = [1]; m = 1; nums2 = []; n = 0\n",
    "nums1 = [0]; m = 0; nums2 = [1]; n = 1\n",
    "# nums1 = [2,0]; m = 1; nums2 = [1]; n = 1\n",
    "# nums1 = [-1,-1,0,0,0,0]; m = 4; nums2 = [-1,0]; n = 2\n",
    "\n",
    "j=0; i=0\n",
    "while j < n:\n",
    "    print(nums1, i, j, m)\n",
    "    if (nums2[j] >= nums1[i]) and (i >= m):\n",
    "        print('!!! 1 !!!')\n",
    "        nums1[i] = nums2[j]\n",
    "        j+=1\n",
    "        m+=1\n",
    "    \n",
    "    elif (nums2[j] > nums1[i]) and (nums2[j] < nums1[i+1]):\n",
    "        print('!!! 2 !!!')\n",
    "        for ix in range(len(nums1)-1, i, -1):\n",
    "            nums1[ix] = nums1[ix-1]\n",
    "        nums1[i+1] = nums2[j]\n",
    "        j+=1\n",
    "        m+=1\n",
    "    \n",
    "    elif (nums2[j] < nums1[i]):\n",
    "        print('!!! 3 !!!')\n",
    "        for ix in range(len(nums1)-1, i, -1):\n",
    "            nums1[ix] = nums1[ix-1]\n",
    "        nums1[i] = nums2[j]\n",
    "        j+=1\n",
    "        m+=1\n",
    "    i+=1\n",
    "       \n",
    "        "
   ]
  },
  {
   "attachments": {},
   "cell_type": "markdown",
   "id": "ab20595b",
   "metadata": {},
   "source": [
    "<a name='13-2'></a>\n",
    "## Sol 2"
   ]
  },
  {
   "cell_type": "code",
   "execution_count": 819,
   "id": "ba0b1961",
   "metadata": {},
   "outputs": [],
   "source": [
    "# nums1 = [2,2,3,0,0,0]; m = 3; nums2 = [1,5,6]; n = 3\n",
    "# nums1 = [1]; m = 1; nums2 = []; n = 0\n",
    "# nums1 = [0]; m = 0; nums2 = [1]; n = 1\n",
    "# nums1 = [2,0]; m = 1; nums2 = [1]; n = 1\n",
    "# nums1 = [-1,-1,0,0,0,0]; m = 4; nums2 = [-1,0]; n = 2\n",
    "nums1 = [4,5,6,0,0,0]; m=3; nums2 = [1,2,3]; n = 3"
   ]
  },
  {
   "cell_type": "code",
   "execution_count": 820,
   "id": "82380c08",
   "metadata": {},
   "outputs": [
    {
     "name": "stdout",
     "output_type": "stream",
     "text": [
      "BEFORE [4, 5, 6, 0, 0, 0] 5 3 3\n",
      "!!! 2 !!!\n",
      "AFTER [4, 5, 6, 0, 0, 6] 4 3 2\n",
      "BEFORE [4, 5, 6, 0, 0, 6] 4 3 2\n",
      "!!! 2 !!!\n",
      "AFTER [4, 5, 6, 0, 5, 6] 3 3 1\n",
      "BEFORE [4, 5, 6, 0, 5, 6] 3 3 1\n",
      "!!! 2 !!!\n",
      "AFTER [4, 5, 6, 4, 5, 6] 2 3 0\n",
      "------------------------------\n",
      "!!! 3 !!!\n",
      "!!! 3 !!!\n",
      "!!! 3 !!!\n"
     ]
    },
    {
     "data": {
      "text/plain": [
       "[1, 2, 3, 4, 5, 6]"
      ]
     },
     "execution_count": 820,
     "metadata": {},
     "output_type": "execute_result"
    }
   ],
   "source": [
    "val_p = m; i = len(nums1)-1; j = n\n",
    "\n",
    "while j > 0 and val_p > 0:\n",
    "    print('BEFORE', nums1, i, j, val_p)\n",
    "    if nums2[j-1] > nums1[val_p-1]:\n",
    "        print('!!!', 1, '!!!')\n",
    "        nums1[i] = nums2[j-1]\n",
    "        j-=1\n",
    "    else:\n",
    "        print('!!!', 2, '!!!')\n",
    "        nums1[i] = nums1[val_p-1]\n",
    "        val_p -= 1;\n",
    "    i-=1\n",
    "    print('AFTER', nums1, i, j, val_p)\n",
    "print('-'*30)\n",
    "while j > 0:\n",
    "    print('!!!', 3, '!!!')\n",
    "    nums1[j-1] = nums2[j-1]\n",
    "    j -= 1\n",
    "nums1"
   ]
  },
  {
   "attachments": {},
   "cell_type": "markdown",
   "id": "265fcaa6",
   "metadata": {},
   "source": [
    "<a name='14'></a>\n",
    "# 283. Move Zeroes"
   ]
  },
  {
   "attachments": {},
   "cell_type": "markdown",
   "id": "6aad0da2",
   "metadata": {},
   "source": [
    "Given an integer array nums, move all 0's to the end of it while maintaining the relative order of the non-zero elements.\n",
    "\n",
    "Note that you must do this in-place without making a copy of the array.\n",
    "\n",
    "</br>\n",
    "Input: nums = [0,1,0,3,12]\n",
    "Output: [1,3,12,0,0]\n",
    "\n",
    "</br>\n",
    "Input: nums = [0]\n",
    "Output: [0]\n"
   ]
  },
  {
   "attachments": {},
   "cell_type": "markdown",
   "id": "2bc09fc3",
   "metadata": {},
   "source": [
    "<a name='14-1'></a>\n",
    "## Sol 1"
   ]
  },
  {
   "cell_type": "code",
   "execution_count": 130,
   "id": "4347ebfb",
   "metadata": {},
   "outputs": [],
   "source": [
    "# nums = [0,1,0,3,12]\n",
    "# nums = [0]\n",
    "\n",
    "nums = [0,9,0,1,0,3,11,0,0,0]\n",
    "# nums = [1,9,2,1,0,3,11]\n",
    "# nums = [0,1,2,0]\n",
    "# nums = [0,1]\n",
    "# nums = [0,0,1]"
   ]
  },
  {
   "cell_type": "code",
   "execution_count": 131,
   "id": "4d365cac",
   "metadata": {},
   "outputs": [
    {
     "name": "stdout",
     "output_type": "stream",
     "text": [
      "BEFORE [0, 9, 0, 1, 0, 3, 11, 0, 0, 0] 0 9\n",
      "AFTER [9, 0, 1, 0, 3, 11, 0, 0, 0, 0] 1 8\n",
      "------------------------------\n",
      "BEFORE [9, 0, 1, 0, 3, 11, 0, 0, 0, 0] 1 8\n",
      "AFTER [9, 1, 0, 3, 11, 0, 0, 0, 0, 0] 2 7\n",
      "------------------------------\n",
      "BEFORE [9, 1, 0, 3, 11, 0, 0, 0, 0, 0] 2 7\n",
      "AFTER [9, 1, 3, 11, 0, 0, 0, 0, 0, 0] 3 6\n",
      "------------------------------\n",
      "BEFORE [9, 1, 3, 11, 0, 0, 0, 0, 0, 0] 3 6\n",
      "AFTER [9, 1, 3, 11, 0, 0, 0, 0, 0, 0] 4 6\n",
      "------------------------------\n",
      "BEFORE [9, 1, 3, 11, 0, 0, 0, 0, 0, 0] 4 6\n",
      "AFTER [9, 1, 3, 11, 0, 0, 0, 0, 0, 0] 4 5\n",
      "------------------------------\n",
      "BEFORE [9, 1, 3, 11, 0, 0, 0, 0, 0, 0] 4 5\n",
      "AFTER [9, 1, 3, 11, 0, 0, 0, 0, 0, 0] 4 4\n",
      "------------------------------\n",
      "BEFORE [9, 1, 3, 11, 0, 0, 0, 0, 0, 0] 4 4\n",
      "AFTER [9, 1, 3, 11, 0, 0, 0, 0, 0, 0] 4 3\n",
      "------------------------------\n"
     ]
    },
    {
     "data": {
      "text/plain": [
       "[9, 1, 3, 11, 0, 0, 0, 0, 0, 0]"
      ]
     },
     "execution_count": 131,
     "metadata": {},
     "output_type": "execute_result"
    }
   ],
   "source": [
    "l = 0; r = len(nums)-1\n",
    "while l <= r:\n",
    "    print('BEFORE', nums, l, r)\n",
    "    if nums[l] == 0:\n",
    "        for ix in range(l, r):\n",
    "            # print(nums)\n",
    "            # print(ix, nums[ix], nums[ix+1])\n",
    "            nums[ix] = nums[ix+1]\n",
    "        nums[r] = 0\n",
    "        r -= 1\n",
    "    if nums[l]!=0: l+=1\n",
    "    print('AFTER', nums, l, r)\n",
    "    print('-'*30)\n",
    "\n",
    "\n",
    "\n",
    "nums"
   ]
  },
  {
   "attachments": {},
   "cell_type": "markdown",
   "id": "de01fdee",
   "metadata": {},
   "source": [
    "<a name='14-2'></a>\n",
    "## Sol 2"
   ]
  },
  {
   "cell_type": "code",
   "execution_count": 144,
   "id": "c348c2b0",
   "metadata": {},
   "outputs": [],
   "source": [
    "# nums = [0,1,0,3,12]\n",
    "# nums = [0]\n",
    "\n",
    "# nums = [0,9,0,1,0,3,11,0,0,0]\n",
    "# nums = [1,9,2,1,0,3,11]\n",
    "# nums = [0,1,2,0]\n",
    "# nums = [0,1]\n",
    "nums = [0,0,1]"
   ]
  },
  {
   "cell_type": "code",
   "execution_count": 145,
   "id": "cf187ab2",
   "metadata": {},
   "outputs": [
    {
     "name": "stdout",
     "output_type": "stream",
     "text": [
      "BEFORE [0, 0, 1] 0 0\n",
      "AFTER [0, 0, 1] 0 1\n",
      "------------------------------\n",
      "BEFORE [0, 0, 1] 0 1\n",
      "AFTER [0, 0, 1] 0 2\n",
      "------------------------------\n",
      "BEFORE [0, 0, 1] 0 2\n",
      "AFTER [1, 0, 0] 1 3\n",
      "------------------------------\n"
     ]
    },
    {
     "data": {
      "text/plain": [
       "[1, 0, 0]"
      ]
     },
     "execution_count": 145,
     "metadata": {},
     "output_type": "execute_result"
    }
   ],
   "source": [
    "l = 0; r = 0\n",
    "while r < len(nums):\n",
    "    print('BEFORE', nums, l, r)\n",
    "    if nums[r] != 0:\n",
    "        nums[l], nums[r] = nums[r], nums[l]\n",
    "        l += 1 \n",
    "    r += 1\n",
    "    \n",
    "    print('AFTER', nums, l, r)\n",
    "    print('-'*30)\n",
    "\n",
    "\n",
    "\n",
    "nums"
   ]
  },
  {
   "attachments": {},
   "cell_type": "markdown",
   "id": "cb72912d",
   "metadata": {},
   "source": [
    "<a name='15'></a>\n",
    "# 350. Intersection of Two Arrays II"
   ]
  },
  {
   "attachments": {},
   "cell_type": "markdown",
   "id": "1b4f0246",
   "metadata": {},
   "source": [
    "Given two integer arrays nums1 and nums2, return an array of their intersection. Each element in the result must appear as many times as it shows in both arrays and you may return the result in any order.\n",
    "\n",
    "</br>\n",
    "Input: nums1 = [1,2,2,1], nums2 = [2,2]\n",
    "Output: [2,2]\n",
    "</br>\n",
    "Input: nums1 = [4,9,5], nums2 = [9,4,9,8,4]\n",
    "Output: [4,9]\n",
    "</br>\n",
    "</br>"
   ]
  },
  {
   "attachments": {},
   "cell_type": "markdown",
   "id": "34197dfa",
   "metadata": {},
   "source": [
    "<a name='15-1'></a>\n",
    "## Sol 1"
   ]
  },
  {
   "cell_type": "code",
   "execution_count": 211,
   "id": "159ee831",
   "metadata": {},
   "outputs": [
    {
     "data": {
      "text/plain": [
       "[2, 2]"
      ]
     },
     "execution_count": 211,
     "metadata": {},
     "output_type": "execute_result"
    }
   ],
   "source": [
    "nums1 = [1,2,2,1]; nums2 = [2,2]\n",
    "# nums1 = [4,9,5]; nums2 = [9,4,9,8,4]\n",
    "# nums1 = [9,4,9,8,4]; nums2 = [4,9,5]\n",
    "# nums1 = [2,1]; nums2 = [1,2]\n",
    "# nums1 = [1,2,2,1]; nums2 = [1,1]\n",
    "# nums1 = [4,7,9,7,6,7]; nums2 = [5,0,0,6,1,6,2,2,4]\n",
    "\n",
    "def intersect(nums1, nums2):\n",
    "    actual_intersection = set(nums1) & set(nums2)\n",
    "    res = []\n",
    "    for el in actual_intersection:\n",
    "        res += min(nums1.count(el), nums2.count(el)) * [el]\n",
    "    \n",
    "    return res\n",
    "\n",
    "\n",
    "\n",
    "intersect(nums1, nums2)"
   ]
  },
  {
   "attachments": {},
   "cell_type": "markdown",
   "id": "ca12f0ac",
   "metadata": {},
   "source": [
    "<a name='15-2'></a>\n",
    "## Sol 2"
   ]
  },
  {
   "cell_type": "code",
   "execution_count": 213,
   "id": "d7eb0982",
   "metadata": {},
   "outputs": [],
   "source": [
    "from collections import Counter"
   ]
  },
  {
   "cell_type": "code",
   "execution_count": 230,
   "id": "53da6f7e",
   "metadata": {},
   "outputs": [
    {
     "data": {
      "text/plain": [
       "[2, 2]"
      ]
     },
     "execution_count": 230,
     "metadata": {},
     "output_type": "execute_result"
    }
   ],
   "source": [
    "# nums1 = [1,2,2,1]; nums2 = [2,2]\n",
    "# nums1 = [4,9,5]; nums2 = [9,4,9,8,4]\n",
    "# nums1 = [9,4,9,8,4]; nums2 = [4,9,5]\n",
    "# nums1 = [2,1]; nums2 = [1,2]\n",
    "# nums1 = [1,2,2,1]; nums2 = [1,1]\n",
    "# nums1 = [4,7,9,7,6,7]; nums2 = [5,0,0,6,1,6,2,2,4]\n",
    "\n",
    "def intersect(nums1, nums2):\n",
    "    c = Counter(nums1)\n",
    "    res = []\n",
    "    for el in nums2:\n",
    "        if c[el] > 0:\n",
    "            res.append(el)\n",
    "            c[el] -= 1\n",
    "    return res\n",
    "\n",
    "intersect(nums1, nums2)"
   ]
  },
  {
   "cell_type": "code",
   "execution_count": null,
   "id": "301105b5",
   "metadata": {},
   "outputs": [],
   "source": []
  }
 ],
 "metadata": {
  "kernelspec": {
   "display_name": "rl_in_ksp_new",
   "language": "python",
   "name": "rl_in_ksp_new"
  },
  "language_info": {
   "codemirror_mode": {
    "name": "ipython",
    "version": 3
   },
   "file_extension": ".py",
   "mimetype": "text/x-python",
   "name": "python",
   "nbconvert_exporter": "python",
   "pygments_lexer": "ipython3",
   "version": "3.9.6"
  },
  "vscode": {
   "interpreter": {
    "hash": "ceb5013205e2ddaf82b74f25b5b9345b0ac8ffe4d924e8d42acdb1c08dc17b89"
   }
  }
 },
 "nbformat": 4,
 "nbformat_minor": 5
}
