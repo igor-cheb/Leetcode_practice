{
 "cells": [
  {
   "attachments": {},
   "cell_type": "markdown",
   "metadata": {},
   "source": [
    "# 954. Array of Doubled Pairs (medium)"
   ]
  },
  {
   "cell_type": "markdown",
   "metadata": {},
   "source": [
    "Given an integer array of even length arr, return true if it is possible to reorder arr such that </br>\n",
    "`arr[2 * i + 1] = 2 * arr[2 * i]` </br>\n",
    "for every `0 <= i < len(arr) / 2`, </br>\n",
    "or false otherwise.</br>\n",
    "</br>\n",
    "tests: </br> \n",
    "[3,1,3,6] False, </br>\n",
    "[2,1,2,6] False, </br>\n",
    "[4,-2,2,-4] True</br>"
   ]
  },
  {
   "cell_type": "code",
   "execution_count": null,
   "metadata": {},
   "outputs": [],
   "source": [
    "# arr  = [3, 1, 3, 6]\n",
    "# arr = [2,1,2,6]\n",
    "arr = [4,-2,2,-4]\n",
    "\n",
    "min_len = len(range(int(len(arr)/2)))\n",
    "ixs_for_reorder, doubled_ixs = [], []\n",
    "for ix in range(len(arr)):\n",
    "    if (arr[ix]*2) in arr and \\\n",
    "       (ix not in ixs_for_reorder) and \\\n",
    "       ((arr.index(arr[ix]*2) not in doubled_ixs)):\n",
    "        ixs_for_reorder.append(ix)\n",
    "        doubled_ixs.append(arr.index(arr[ix]*2))\n",
    "len(ixs_for_reorder) >= min_len"
   ]
  },
  {
   "attachments": {},
   "cell_type": "markdown",
   "metadata": {},
   "source": [
    "# 189. Rotate Array"
   ]
  },
  {
   "attachments": {},
   "cell_type": "markdown",
   "metadata": {},
   "source": [
    "Given an integer array nums, rotate the array to the right by k steps, where k is non-negative.\n",
    "</br>\n",
    "Input: nums = [1,2,3,4,5,6,7], k = 3\n",
    "Output: [5,6,7,1,2,3,4]\n",
    "</br>\n",
    "Input: nums = [-1,-100,3,99], k = 2\n",
    "Output: [3,99,-1,-100]\n",
    "</br>"
   ]
  },
  {
   "attachments": {},
   "cell_type": "markdown",
   "metadata": {},
   "source": [
    "## Sol 1"
   ]
  },
  {
   "cell_type": "code",
   "execution_count": 30,
   "metadata": {},
   "outputs": [
    {
     "data": {
      "text/plain": [
       "[2, 1]"
      ]
     },
     "execution_count": 30,
     "metadata": {},
     "output_type": "execute_result"
    }
   ],
   "source": [
    "# nums = [1,2,3,4,5,6,7]; k = 3\n",
    "# nums = [-1,-100,3,99]; k = 2\n",
    "# nums = [-1]; k = 2\n",
    "nums = [1,2]; k = 1\n",
    "\n",
    "def rotate(nums, k):\n",
    "    r = -k\n",
    "    while r < 0:\n",
    "        last_el = nums[-1]\n",
    "        for ix in range(len(nums)-1, 0, -1):\n",
    "            nums[ix] = nums[ix-1]\n",
    "        nums[0] = last_el\n",
    "        r+=1\n",
    "    return nums\n",
    "\n",
    "rotate(nums, k)"
   ]
  },
  {
   "cell_type": "markdown",
   "metadata": {},
   "source": [
    "## Sol 2 "
   ]
  },
  {
   "cell_type": "code",
   "execution_count": 67,
   "metadata": {},
   "outputs": [
    {
     "data": {
      "text/plain": [
       "[3, 99, -1, -100]"
      ]
     },
     "execution_count": 67,
     "metadata": {},
     "output_type": "execute_result"
    }
   ],
   "source": [
    "# nums = [1,2,3,4,5,6,7]; k = 3\n",
    "nums = [-1,-100,3,99]; k = 2\n",
    "# nums = [-1]; k = 2\n",
    "# nums = [1,2, 3]; k = 4\n",
    "# nums = [1,2]; k=5\n",
    "\n",
    "def rotate(nums, k):\n",
    "    if k > len(nums):\n",
    "        k = k % len(nums)\n",
    "    last_els = nums[-k:]\n",
    "    for ix in range(len(nums)-1, k-1, -1):\n",
    "        nums[ix] = nums[ix-k]\n",
    "    for ix in range(k):\n",
    "        nums[ix] = last_els[ix]\n",
    "    \n",
    "    return nums\n",
    "\n",
    "rotate(nums, k)"
   ]
  },
  {
   "attachments": {},
   "cell_type": "markdown",
   "metadata": {},
   "source": [
    "## Sol 3"
   ]
  },
  {
   "cell_type": "code",
   "execution_count": 95,
   "metadata": {},
   "outputs": [],
   "source": [
    "# nums = [1,2,3,4,5,6,7]; k = 3\n",
    "nums = [-1,-100,3,99]; k = 2\n",
    "# nums = [-1]; k = 2\n",
    "# nums = [1,2, 3]; k = 4\n",
    "# nums = [1,2]; k=5"
   ]
  },
  {
   "cell_type": "code",
   "execution_count": 96,
   "metadata": {},
   "outputs": [
    {
     "data": {
      "text/plain": [
       "[3, 99, -1, -100]"
      ]
     },
     "execution_count": 96,
     "metadata": {},
     "output_type": "execute_result"
    }
   ],
   "source": [
    "def reverse(nums):\n",
    "    l = 0; r = len(nums) - 1\n",
    "    while l < r:\n",
    "        nums[l], nums[r] = nums[r], nums[l]\n",
    "        l+=1; r-=1\n",
    "    return nums\n",
    "\n",
    "def rotate(nums, k):\n",
    "    k = k % len(nums)\n",
    "    nums = reverse(nums)\n",
    "    nums[:k] = reverse(nums[:k])\n",
    "    nums[k:] = reverse(nums[k:])\n",
    "    return nums\n",
    "\n",
    "rotate(nums, k)"
   ]
  },
  {
   "cell_type": "code",
   "execution_count": 92,
   "metadata": {},
   "outputs": [
    {
     "data": {
      "text/plain": [
       "[3, 2, 1]"
      ]
     },
     "execution_count": 92,
     "metadata": {},
     "output_type": "execute_result"
    }
   ],
   "source": [
    "reverse(nums[:k])"
   ]
  },
  {
   "cell_type": "code",
   "execution_count": null,
   "metadata": {},
   "outputs": [],
   "source": []
  }
 ],
 "metadata": {
  "kernelspec": {
   "display_name": "rl_in_ksp_new",
   "language": "python",
   "name": "rl_in_ksp_new"
  },
  "language_info": {
   "codemirror_mode": {
    "name": "ipython",
    "version": 3
   },
   "file_extension": ".py",
   "mimetype": "text/x-python",
   "name": "python",
   "nbconvert_exporter": "python",
   "pygments_lexer": "ipython3",
   "version": "3.9.6"
  },
  "orig_nbformat": 4,
  "vscode": {
   "interpreter": {
    "hash": "ceb5013205e2ddaf82b74f25b5b9345b0ac8ffe4d924e8d42acdb1c08dc17b89"
   }
  }
 },
 "nbformat": 4,
 "nbformat_minor": 2
}
