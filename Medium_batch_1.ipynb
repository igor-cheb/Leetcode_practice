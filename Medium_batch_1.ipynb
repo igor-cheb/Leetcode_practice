{
 "cells": [
  {
   "attachments": {},
   "cell_type": "markdown",
   "metadata": {},
   "source": [
    "# 954. Array of Doubled Pairs (medium)"
   ]
  },
  {
   "cell_type": "markdown",
   "metadata": {},
   "source": [
    "Given an integer array of even length arr, return true if it is possible to reorder arr such that </br>\n",
    "`arr[2 * i + 1] = 2 * arr[2 * i]` </br>\n",
    "for every `0 <= i < len(arr) / 2`, </br>\n",
    "or false otherwise.</br>\n",
    "</br>\n",
    "tests: </br> \n",
    "[3,1,3,6] False, </br>\n",
    "[2,1,2,6] False, </br>\n",
    "[4,-2,2,-4] True</br>"
   ]
  },
  {
   "cell_type": "code",
   "execution_count": null,
   "metadata": {},
   "outputs": [],
   "source": [
    "# arr  = [3, 1, 3, 6]\n",
    "# arr = [2,1,2,6]\n",
    "arr = [4,-2,2,-4]\n",
    "\n",
    "min_len = len(range(int(len(arr)/2)))\n",
    "ixs_for_reorder, doubled_ixs = [], []\n",
    "for ix in range(len(arr)):\n",
    "    if (arr[ix]*2) in arr and \\\n",
    "       (ix not in ixs_for_reorder) and \\\n",
    "       ((arr.index(arr[ix]*2) not in doubled_ixs)):\n",
    "        ixs_for_reorder.append(ix)\n",
    "        doubled_ixs.append(arr.index(arr[ix]*2))\n",
    "len(ixs_for_reorder) >= min_len"
   ]
  }
 ],
 "metadata": {
  "kernelspec": {
   "display_name": "Practical_RL_course-acchW1SA",
   "language": "python",
   "name": "python3"
  },
  "language_info": {
   "name": "python",
   "version": "3.10.9"
  },
  "orig_nbformat": 4,
  "vscode": {
   "interpreter": {
    "hash": "ceb5013205e2ddaf82b74f25b5b9345b0ac8ffe4d924e8d42acdb1c08dc17b89"
   }
  }
 },
 "nbformat": 4,
 "nbformat_minor": 2
}
