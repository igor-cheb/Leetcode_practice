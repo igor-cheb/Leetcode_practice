{
 "cells": [
  {
   "attachments": {},
   "cell_type": "markdown",
   "metadata": {},
   "source": [
    "# Table of Contents\n",
    "- **[954. Array of Doubled Pairs](#1)**\n",
    "- **[189. Rotate Array](#2)**\n",
    "    - [Sol 1](#2-1)\n",
    "    - [Sol 2](#2-2)\n",
    "    - [Sol 3](#2-3)\n",
    "- **[167. Two Sum II - Input Array Is Sorted](#3)** \n",
    "    - [Sol 1](#3-1)\n",
    "    - [Sol 2](#3-2)\n",
    "- **[142. Linked List Cycle II](#4)** \n",
    "    - [Sol 1](#4-1)\n",
    "    - [Sol 2](#4-2)\n",
    "- **[36. Valid Sudoku](#5)** \n",
    "    - [Sol 1](#5-1)\n",
    "    - [Sol 2](#5-2)\n",
    "- **[74. Search a 2D Matrix](#6)** \n",
    "    - [Sol 1](#6-1)\n",
    "    - [Sol 2](#6-2)\n",
    "- **[19. Remove Nth Node From End of List](#7)** \n",
    "    - [Sol 1](#7-1)\n",
    "    - [Sol 2](#7-2)\n",
    "- **[3. Longest Substring Without Repeating Characters](#8)** \n",
    "- **[567. Permutation in String](#9)** \n",
    "    - [Sol 1](#9-1)\n",
    "- **[102. Binary Tree Level Order Traversal](#10)** \n"
   ]
  },
  {
   "attachments": {},
   "cell_type": "markdown",
   "metadata": {},
   "source": [
    "<a name='1'></a>\n",
    "# 954. Array of Doubled Pairs"
   ]
  },
  {
   "cell_type": "markdown",
   "metadata": {},
   "source": [
    "Given an integer array of even length arr, return true if it is possible to reorder arr such that </br>\n",
    "`arr[2 * i + 1] = 2 * arr[2 * i]` </br>\n",
    "for every `0 <= i < len(arr) / 2`, </br>\n",
    "or false otherwise.</br>\n",
    "</br>\n",
    "tests: </br> \n",
    "[3,1,3,6] False, </br>\n",
    "[2,1,2,6] False, </br>\n",
    "[4,-2,2,-4] True</br>"
   ]
  },
  {
   "cell_type": "code",
   "execution_count": null,
   "metadata": {},
   "outputs": [],
   "source": [
    "# arr  = [3, 1, 3, 6]\n",
    "# arr = [2,1,2,6]\n",
    "arr = [4,-2,2,-4]\n",
    "\n",
    "min_len = len(range(int(len(arr)/2)))\n",
    "ixs_for_reorder, doubled_ixs = [], []\n",
    "for ix in range(len(arr)):\n",
    "    if (arr[ix]*2) in arr and \\\n",
    "       (ix not in ixs_for_reorder) and \\\n",
    "       ((arr.index(arr[ix]*2) not in doubled_ixs)):\n",
    "        ixs_for_reorder.append(ix)\n",
    "        doubled_ixs.append(arr.index(arr[ix]*2))\n",
    "len(ixs_for_reorder) >= min_len"
   ]
  },
  {
   "attachments": {},
   "cell_type": "markdown",
   "metadata": {},
   "source": [
    "<a name='2'></a>\n",
    "# 189. Rotate Array"
   ]
  },
  {
   "attachments": {},
   "cell_type": "markdown",
   "metadata": {},
   "source": [
    "Given an integer array nums, rotate the array to the right by k steps, where k is non-negative.\n",
    "</br>\n",
    "Input: nums = [1,2,3,4,5,6,7], k = 3\n",
    "Output: [5,6,7,1,2,3,4]\n",
    "</br>\n",
    "Input: nums = [-1,-100,3,99], k = 2\n",
    "Output: [3,99,-1,-100]\n",
    "</br>"
   ]
  },
  {
   "attachments": {},
   "cell_type": "markdown",
   "metadata": {},
   "source": [
    "<a name='2-1'></a>\n",
    "## Sol 1"
   ]
  },
  {
   "cell_type": "code",
   "execution_count": 30,
   "metadata": {},
   "outputs": [
    {
     "data": {
      "text/plain": [
       "[2, 1]"
      ]
     },
     "execution_count": 30,
     "metadata": {},
     "output_type": "execute_result"
    }
   ],
   "source": [
    "# nums = [1,2,3,4,5,6,7]; k = 3\n",
    "# nums = [-1,-100,3,99]; k = 2\n",
    "# nums = [-1]; k = 2\n",
    "nums = [1,2]; k = 1\n",
    "\n",
    "def rotate(nums, k):\n",
    "    r = -k\n",
    "    while r < 0:\n",
    "        last_el = nums[-1]\n",
    "        for ix in range(len(nums)-1, 0, -1):\n",
    "            nums[ix] = nums[ix-1]\n",
    "        nums[0] = last_el\n",
    "        r+=1\n",
    "    return nums\n",
    "\n",
    "rotate(nums, k)"
   ]
  },
  {
   "attachments": {},
   "cell_type": "markdown",
   "metadata": {},
   "source": [
    "<a name='2-2'></a>\n",
    "## Sol 2 "
   ]
  },
  {
   "cell_type": "code",
   "execution_count": 67,
   "metadata": {},
   "outputs": [
    {
     "data": {
      "text/plain": [
       "[3, 99, -1, -100]"
      ]
     },
     "execution_count": 67,
     "metadata": {},
     "output_type": "execute_result"
    }
   ],
   "source": [
    "# nums = [1,2,3,4,5,6,7]; k = 3\n",
    "nums = [-1,-100,3,99]; k = 2\n",
    "# nums = [-1]; k = 2\n",
    "# nums = [1,2, 3]; k = 4\n",
    "# nums = [1,2]; k=5\n",
    "\n",
    "def rotate(nums, k):\n",
    "    if k > len(nums):\n",
    "        k = k % len(nums)\n",
    "    last_els = nums[-k:]\n",
    "    for ix in range(len(nums)-1, k-1, -1):\n",
    "        nums[ix] = nums[ix-k]\n",
    "    for ix in range(k):\n",
    "        nums[ix] = last_els[ix]\n",
    "    \n",
    "    return nums\n",
    "\n",
    "rotate(nums, k)"
   ]
  },
  {
   "attachments": {},
   "cell_type": "markdown",
   "metadata": {},
   "source": [
    "<a name='2-3'></a>\n",
    "## Sol 3"
   ]
  },
  {
   "cell_type": "code",
   "execution_count": 95,
   "metadata": {},
   "outputs": [],
   "source": [
    "# nums = [1,2,3,4,5,6,7]; k = 3\n",
    "nums = [-1,-100,3,99]; k = 2\n",
    "# nums = [-1]; k = 2\n",
    "# nums = [1,2, 3]; k = 4\n",
    "# nums = [1,2]; k=5"
   ]
  },
  {
   "cell_type": "code",
   "execution_count": 96,
   "metadata": {},
   "outputs": [
    {
     "data": {
      "text/plain": [
       "[3, 99, -1, -100]"
      ]
     },
     "execution_count": 96,
     "metadata": {},
     "output_type": "execute_result"
    }
   ],
   "source": [
    "def reverse(nums):\n",
    "    l = 0; r = len(nums) - 1\n",
    "    while l < r:\n",
    "        nums[l], nums[r] = nums[r], nums[l]\n",
    "        l+=1; r-=1\n",
    "    return nums\n",
    "\n",
    "def rotate(nums, k):\n",
    "    k = k % len(nums)\n",
    "    nums = reverse(nums)\n",
    "    nums[:k] = reverse(nums[:k])\n",
    "    nums[k:] = reverse(nums[k:])\n",
    "    return nums\n",
    "\n",
    "rotate(nums, k)"
   ]
  },
  {
   "cell_type": "code",
   "execution_count": 92,
   "metadata": {},
   "outputs": [
    {
     "data": {
      "text/plain": [
       "[3, 2, 1]"
      ]
     },
     "execution_count": 92,
     "metadata": {},
     "output_type": "execute_result"
    }
   ],
   "source": [
    "reverse(nums[:k])"
   ]
  },
  {
   "attachments": {},
   "cell_type": "markdown",
   "metadata": {},
   "source": [
    "<a name='3'></a>\n",
    "# 167. Two Sum II - Input Array Is Sorted"
   ]
  },
  {
   "attachments": {},
   "cell_type": "markdown",
   "metadata": {},
   "source": [
    "Given a 1-indexed array of integers numbers that is already sorted in non-decreasing order, find two numbers such that they add up to a specific target number. Let these two numbers be numbers `[index1]` and numbers `[index2]` where `1 <= index1 < index2 <= numbers.length`.\n",
    "\n",
    "Return the indices of the two numbers, `index1` and `index2`, added by one as an integer array `[index1, index2]` of length 2.\n",
    "\n",
    "The tests are generated such that there is exactly one solution. You may not use the same element twice.\n",
    "\n",
    "Your solution must use only constant extra space.\n",
    "\n",
    "</br>\n",
    "Input: numbers = [2,7,11,15], target = 9\n",
    "Output: [1,2]\n",
    "</br>\n",
    "Input: numbers = [2,3,4], target = 6\n",
    "Output: [1,3]\n",
    "</br>\n",
    "Input: numbers = [-1,0], target = -1\n",
    "Output: [1,2]"
   ]
  },
  {
   "attachments": {},
   "cell_type": "markdown",
   "metadata": {},
   "source": [
    "<a name='3-1'></a>\n",
    "## Sol 1"
   ]
  },
  {
   "cell_type": "code",
   "execution_count": 121,
   "metadata": {},
   "outputs": [],
   "source": [
    "# numbers = [2,7,11,15]; target = 9\n",
    "# numbers = [2,3,4]; target = 6\n",
    "numbers = [-1,0]; target = -1"
   ]
  },
  {
   "cell_type": "code",
   "execution_count": 122,
   "metadata": {},
   "outputs": [
    {
     "data": {
      "text/plain": [
       "[1, 2]"
      ]
     },
     "execution_count": 122,
     "metadata": {},
     "output_type": "execute_result"
    }
   ],
   "source": [
    "def twoSum(numbers, target):\n",
    "    \n",
    "    matching_d = {}\n",
    "    for n, el in enumerate(numbers):\n",
    "        if el in matching_d:\n",
    "            return [matching_d[el]+1, n+1]\n",
    "        matching_d[target - el] = n \n",
    "\n",
    "twoSum(numbers, target)"
   ]
  },
  {
   "attachments": {},
   "cell_type": "markdown",
   "metadata": {},
   "source": [
    "<a name='3-2'></a>\n",
    "## Sol 2"
   ]
  },
  {
   "cell_type": "code",
   "execution_count": 136,
   "metadata": {},
   "outputs": [],
   "source": [
    "# numbers = [2,7,11,15]; target = 9\n",
    "# numbers = [2,3,4]; target = 6\n",
    "numbers = [-1,0]; target = -1"
   ]
  },
  {
   "cell_type": "code",
   "execution_count": 137,
   "metadata": {},
   "outputs": [
    {
     "data": {
      "text/plain": [
       "[1, 2]"
      ]
     },
     "execution_count": 137,
     "metadata": {},
     "output_type": "execute_result"
    }
   ],
   "source": [
    "def twoSum(numbers, target):\n",
    "    l = 0; r = len(numbers) - 1\n",
    "    while l<r:\n",
    "        cur_sum = numbers[l] + numbers[r]\n",
    "        if cur_sum > target:\n",
    "            r -= 1\n",
    "        elif cur_sum < target:\n",
    "            l += 1\n",
    "        else:\n",
    "            return [l+1, r+1]\n",
    "    \n",
    "twoSum(numbers, target)"
   ]
  },
  {
   "attachments": {},
   "cell_type": "markdown",
   "metadata": {},
   "source": [
    "<a name='4'></a>\n",
    "# 142. Linked List Cycle II"
   ]
  },
  {
   "attachments": {},
   "cell_type": "markdown",
   "metadata": {},
   "source": [
    "Given the head of a linked list, return the node where the cycle begins. If there is no cycle, return null.\n",
    "\n",
    "There is a cycle in a linked list if there is some node in the list that can be reached again by continuously following the next pointer. Internally, pos is used to denote the index of the node that tail's next pointer is connected to (0-indexed). It is -1 if there is no cycle. Note that pos is not passed as a parameter.\n",
    "\n",
    "Do not modify the linked list.\n",
    "\n",
    "</br>\n",
    "Input: head = [3,2,0,-4], pos = 1\n",
    "Output: tail connects to node index 1\n",
    "</br>\n",
    "Input: head = [1,2], pos = 0\n",
    "Output: tail connects to node index 0\n",
    "</br>\n",
    "Input: head = [1], pos = -1\n",
    "Output: no cycle\n"
   ]
  },
  {
   "attachments": {},
   "cell_type": "markdown",
   "metadata": {},
   "source": [
    "<a name='4-1'></a>\n",
    "## Sol 1"
   ]
  },
  {
   "cell_type": "code",
   "execution_count": 144,
   "metadata": {},
   "outputs": [],
   "source": [
    "def detectCycle(head):\n",
    "    t_head = head\n",
    "    lookup = set()\n",
    "    while t_head:\n",
    "        if not t_head.next:\n",
    "            return None\n",
    "        if t_head in lookup:\n",
    "            return t_head\n",
    "        lookup.add(t_head)\n",
    "        t_head = t_head.next\n",
    "    "
   ]
  },
  {
   "attachments": {},
   "cell_type": "markdown",
   "metadata": {},
   "source": [
    "<a name='4-2'></a>\n",
    "## Sol 2"
   ]
  },
  {
   "cell_type": "code",
   "execution_count": null,
   "metadata": {},
   "outputs": [],
   "source": [
    "def detectCycle(head):\n",
    "    slow, fast = head, head\n",
    "\n",
    "    while fast:\n",
    "        if (not fast) or (not fast.next) or (not fast.next.next): return\n",
    "        fast = fast.next.next\n",
    "        slow = slow.next\n",
    "        if fast == slow: break\n",
    "\n",
    "    slow_2 = head\n",
    "    while True:\n",
    "        if slow == slow_2:\n",
    "            return slow\n",
    "        slow_2 = slow_2.next\n",
    "        slow = slow.next\n",
    "\n",
    "    return"
   ]
  },
  {
   "attachments": {},
   "cell_type": "markdown",
   "metadata": {},
   "source": [
    "<a name='5'></a>\n",
    "# 36. Valid Sudoku"
   ]
  },
  {
   "cell_type": "code",
   "execution_count": 38,
   "metadata": {},
   "outputs": [],
   "source": [
    "from collections import Counter"
   ]
  },
  {
   "attachments": {},
   "cell_type": "markdown",
   "metadata": {},
   "source": [
    "Determine if a 9 x 9 Sudoku board is valid. Only the filled cells need to be validated according to the following rules:\n",
    "\n",
    "Each row must contain the digits 1-9 without repetition.\n",
    "Each column must contain the digits 1-9 without repetition.\n",
    "Each of the nine 3 x 3 sub-boxes of the grid must contain the digits 1-9 without repetition.\n",
    "Note:\n",
    "\n",
    "A Sudoku board (partially filled) could be valid but is not necessarily solvable.\n",
    "Only the filled cells need to be validated according to the mentioned rules.\n",
    "</br>\n",
    "Input: board = </br>\n",
    "[[\"5\",\"3\",\".\",\".\",\"7\",\".\",\".\",\".\",\".\"]</br>\n",
    ",[\"6\",\".\",\".\",\"1\",\"9\",\"5\",\".\",\".\",\".\"]</br>\n",
    ",[\".\",\"9\",\"8\",\".\",\".\",\".\",\".\",\"6\",\".\"]</br>\n",
    ",[\"8\",\".\",\".\",\".\",\"6\",\".\",\".\",\".\",\"3\"]</br>\n",
    ",[\"4\",\".\",\".\",\"8\",\".\",\"3\",\".\",\".\",\"1\"]</br>\n",
    ",[\"7\",\".\",\".\",\".\",\"2\",\".\",\".\",\".\",\"6\"]</br>\n",
    ",[\".\",\"6\",\".\",\".\",\".\",\".\",\"2\",\"8\",\".\"]</br>\n",
    ",[\".\",\".\",\".\",\"4\",\"1\",\"9\",\".\",\".\",\"5\"]</br>\n",
    ",[\".\",\".\",\".\",\".\",\"8\",\".\",\".\",\"7\",\"9\"]]</br>\n",
    "Output: true</br>\n",
    "</br>\n",
    "Input: board = </br>\n",
    "[[\"8\",\"3\",\".\",\".\",\"7\",\".\",\".\",\".\",\".\"]</br>\n",
    ",[\"6\",\".\",\".\",\"1\",\"9\",\"5\",\".\",\".\",\".\"]</br>\n",
    ",[\".\",\"9\",\"8\",\".\",\".\",\".\",\".\",\"6\",\".\"]</br>\n",
    ",[\"8\",\".\",\".\",\".\",\"6\",\".\",\".\",\".\",\"3\"]</br>\n",
    ",[\"4\",\".\",\".\",\"8\",\".\",\"3\",\".\",\".\",\"1\"]</br>\n",
    ",[\"7\",\".\",\".\",\".\",\"2\",\".\",\".\",\".\",\"6\"]</br>\n",
    ",[\".\",\"6\",\".\",\".\",\".\",\".\",\"2\",\"8\",\".\"]</br>\n",
    ",[\".\",\".\",\".\",\"4\",\"1\",\"9\",\".\",\".\",\"5\"]</br>\n",
    ",[\".\",\".\",\".\",\".\",\"8\",\".\",\".\",\"7\",\"9\"]]</br>\n",
    "Output: false"
   ]
  },
  {
   "cell_type": "code",
   "execution_count": 174,
   "metadata": {},
   "outputs": [],
   "source": [
    "board = \\\n",
    "[[\"5\",\"3\",\".\", \".\",\"7\",\".\", \".\",\".\",\".\"]\n",
    ",[\"6\",\".\",\".\", \"1\",\"9\",\"5\", \".\",\".\",\".\"]\n",
    ",[\".\",\"9\",\"8\", \".\",\".\",\".\", \".\",\"6\",\".\"]\n",
    "\n",
    ",[\"8\",\".\",\".\", \".\",\"6\",\".\", \".\",\".\",\"3\"]\n",
    ",[\"4\",\".\",\".\", \"8\",\".\",\"3\", \".\",\".\",\"1\"]\n",
    ",[\"7\",\".\",\".\", \".\",\"2\",\".\", \".\",\".\",\"6\"]\n",
    "\n",
    ",[\".\",\"6\",\".\", \".\",\".\",\".\", \"2\",\"8\",\".\"]\n",
    ",[\".\",\".\",\".\", \"4\",\"1\",\"9\", \".\",\".\",\"5\"]\n",
    ",[\".\",\".\",\".\", \".\",\"8\",\".\", \".\",\"7\",\"9\"]]\n",
    "\n",
    "board = \\\n",
    "[[\"8\",\"3\",\".\", \".\",\"7\",\".\", \".\",\".\",\".\"]\n",
    ",[\"6\",\".\",\".\", \"1\",\"9\",\"5\", \".\",\".\",\".\"]\n",
    ",[\".\",\"9\",\"8\", \".\",\".\",\".\", \".\",\"6\",\".\"]\n",
    "\n",
    ",[\"8\",\".\",\".\", \".\",\"6\",\".\", \".\",\".\",\"3\"]\n",
    ",[\"4\",\".\",\".\", \"8\",\".\",\"3\", \".\",\".\",\"1\"]\n",
    ",[\"7\",\".\",\".\", \".\",\"2\",\".\", \".\",\".\",\"6\"]\n",
    "\n",
    ",[\".\",\"6\",\".\", \".\",\".\",\".\", \"2\",\"8\",\".\"]\n",
    ",[\".\",\".\",\".\", \"4\",\"1\",\"9\", \".\",\".\",\"5\"]\n",
    ",[\".\",\".\",\".\", \".\",\"8\",\".\", \".\",\"7\",\"9\"]]\n",
    "\n",
    "board = \\\n",
    "[[\"1\", \"2\", \".\",  \".\", \".\", \".\",  \"6\", \".\", \"7\"],\n",
    " [\".\", \".\", \".\",  \".\", \".\", \".\",  \".\", \".\", \"5\"],\n",
    " [\".\", \".\", \"9\",  \".\", \"6\", \".\",  \"4\", \".\", \".\"],\n",
    "\n",
    " [\".\", \"6\", \".\",  \".\", \".\", \".\",  \".\", \".\", \".\"],\n",
    " [\".\", \".\", \".\",  \".\", \"4\", \".\",  \".\", \"7\", \".\"],\n",
    " [\".\", \".\", \".\",  \".\", \".\", \".\",  \".\", \".\", \".\"],\n",
    "\n",
    " [\".\", \".\", \".\",  \"5\", \".\", \".\",  \".\", \".\", \".\"],\n",
    " [\".\", \".\", \".\",  \".\", \".\", \".\",  \".\", \".\", \"2\"],\n",
    " [\".\", \"9\", \".\",  \".\", \".\", \".\",  \".\", \".\", \"7\"]]\n",
    "\n",
    "# pre_board_arr = [list(row) for row in [''.join(el).replace('.', '0') for el in board]]\n",
    "# board_arr = np.array([[int(ch) for ch in pre_board_arr[ix] ]for ix in range(len(pre_board_arr))])\n"
   ]
  },
  {
   "attachments": {},
   "cell_type": "markdown",
   "metadata": {},
   "source": [
    "<a name='5-1'></a>\n",
    "## Sol 1 "
   ]
  },
  {
   "cell_type": "code",
   "execution_count": 180,
   "metadata": {},
   "outputs": [
    {
     "data": {
      "text/plain": [
       "[3, 12, 21, 30, 39, 48, 57, 66, 75]"
      ]
     },
     "execution_count": 180,
     "metadata": {},
     "output_type": "execute_result"
    }
   ],
   "source": [
    "def square_ixs(r_sq, c_sq):\n",
    "    # generating ixs for 3x3 submatrix; \n",
    "    # r_sq, c_sq = 0..2\n",
    "    ixs = []\n",
    "    min_c = 3 * c_sq; max_c = min_c + 3\n",
    "    min_r = 3 * r_sq; max_r = min_r + 3\n",
    "    for loc_c in range(min_c, max_c):\n",
    "        for loc_r in range(min_r, max_r):\n",
    "            ixs.append(loc_c + 9 * loc_r)\n",
    "    return sorted(ixs)\n",
    "\n",
    "def get_col_ixs(c_col):\n",
    "    ixs = []\n",
    "    for loc_r in range(0, 9):\n",
    "        ixs.append(c_col + 9 * loc_r)\n",
    "    return ixs\n",
    "\n",
    "get_col_ixs(3)"
   ]
  },
  {
   "cell_type": "code",
   "execution_count": 175,
   "metadata": {},
   "outputs": [
    {
     "name": "stdout",
     "output_type": "stream",
     "text": [
      "['1', '2', '6', '7']\n",
      "['5']\n",
      "['9', '6', '4']\n",
      "['6']\n",
      "['4', '7']\n",
      "[]\n",
      "['5']\n",
      "['2']\n",
      "['9', '7']\n"
     ]
    },
    {
     "data": {
      "text/plain": [
       "True"
      ]
     },
     "execution_count": 175,
     "metadata": {},
     "output_type": "execute_result"
    }
   ],
   "source": [
    "def isValidSudoku(board):\n",
    "    flat_board = [el for row in board for el in row]\n",
    "\n",
    "    # checking rows\n",
    "    rows_checks = []\n",
    "    for row in board:\n",
    "        row_elements = [el for el in row if el != '.']\n",
    "        rows_checks.append(len(set(row_elements)) == len(row_elements))\n",
    "    if not all(rows_checks): return False\n",
    "\n",
    "    # checking cols\n",
    "    col_checks = []\n",
    "    for c_col in range(9):\n",
    "        col_ixs = get_col_ixs(c_col)\n",
    "        col_elements = [el for n, el in enumerate(flat_board) if n in col_ixs and el != '.']\n",
    "        col_checks.append(len(set(col_elements)) == len(col_elements))\n",
    "    if not all(col_checks): return False\n",
    "\n",
    "    # checking sub squares\n",
    "    sq_checks = []\n",
    "    for r_sq in range(3):\n",
    "        for c_sq in range(3):\n",
    "            sq_ixs = square_ixs(r_sq, c_sq)\n",
    "            sq_elements = [el for n, el in enumerate(flat_board) if n in sq_ixs and el != '.']\n",
    "            sq_checks.append(len(set(sq_elements)) == len(sq_elements))\n",
    "    if not all(sq_checks): return False\n",
    "\n",
    "    return True\n",
    "\n",
    "isValidSudoku(board)"
   ]
  },
  {
   "attachments": {},
   "cell_type": "markdown",
   "metadata": {},
   "source": [
    "<a name='5-2'></a>\n",
    "## Sol 2"
   ]
  },
  {
   "cell_type": "code",
   "execution_count": 183,
   "metadata": {},
   "outputs": [],
   "source": [
    "from collections import defaultdict"
   ]
  },
  {
   "cell_type": "code",
   "execution_count": 184,
   "metadata": {},
   "outputs": [
    {
     "data": {
      "text/plain": [
       "9"
      ]
     },
     "execution_count": 184,
     "metadata": {},
     "output_type": "execute_result"
    }
   ],
   "source": [
    "len(board)"
   ]
  },
  {
   "cell_type": "code",
   "execution_count": 193,
   "metadata": {},
   "outputs": [
    {
     "data": {
      "text/plain": [
       "False"
      ]
     },
     "execution_count": 193,
     "metadata": {},
     "output_type": "execute_result"
    }
   ],
   "source": [
    "def isValidSudoku(board):\n",
    "    rows = defaultdict(set)\n",
    "    cols = defaultdict(set)\n",
    "    squares = defaultdict(set)\n",
    "\n",
    "    for r in range(9):\n",
    "        for c in range(9):\n",
    "            if board[r][c] == '.': continue\n",
    "            if board[r][c] in rows[r] or \\\n",
    "               board[r][c] in cols[c] or \\\n",
    "               board[r][c] in squares[(r//3, c//3)]:\n",
    "                return False\n",
    "            rows[r].add(board[r][c])\n",
    "            cols[c].add(board[r][c])\n",
    "            squares[(r//3, c//3)].add(board[r][c])\n",
    "\n",
    "    return True\n",
    "\n",
    "isValidSudoku(board)"
   ]
  },
  {
   "attachments": {},
   "cell_type": "markdown",
   "metadata": {},
   "source": [
    "<a name='6'></a>\n",
    "# 74. Search a 2D Matrix"
   ]
  },
  {
   "attachments": {},
   "cell_type": "markdown",
   "metadata": {},
   "source": [
    "You are given an `m x n` integer matrix matrix with the following two properties:\n",
    "\n",
    "Each row is sorted in non-decreasing order.\n",
    "The first integer of each row is greater than the last integer of the previous row.\n",
    "Given an integer target, return true if target is in matrix or false otherwise.\n",
    "\n",
    "You must write a solution in `O(log(m * n))` time complexity.\n",
    "\n",
    "</br>\n",
    "Input: matrix = [[1,3,5,7],[10,11,16,20],[23,30,34,60]], target = 3\n",
    "Output: true\n",
    "</br>\n",
    "Input: matrix = [[1,3,5,7],[10,11,16,20],[23,30,34,60]], target = 13\n",
    "Output: false"
   ]
  },
  {
   "attachments": {},
   "cell_type": "markdown",
   "metadata": {},
   "source": [
    "<a name='6-1'></a>\n",
    "## Sol 1"
   ]
  },
  {
   "cell_type": "code",
   "execution_count": null,
   "metadata": {},
   "outputs": [],
   "source": [
    "def searchMatrix(matrix, target):\n",
    "    return any([(target in sub) for sub in matrix])"
   ]
  },
  {
   "attachments": {},
   "cell_type": "markdown",
   "metadata": {},
   "source": [
    "<a name='6-2'></a>\n",
    "## Sol 2"
   ]
  },
  {
   "cell_type": "code",
   "execution_count": 10,
   "metadata": {},
   "outputs": [
    {
     "data": {
      "text/plain": [
       "True"
      ]
     },
     "execution_count": 10,
     "metadata": {},
     "output_type": "execute_result"
    }
   ],
   "source": [
    "# matrix = [[1,3,5,7],[10,11,16,20],[23,30,34,60]]; target = 13\n",
    "matrix = [[1,3,5,7],[10,11,16,20],[23,30,34,60]]; target = 11\n",
    "\n",
    "def searchMatrix(matrix, target):\n",
    "    for row in range(len(matrix)):\n",
    "        if matrix[row][-1] < target:\n",
    "            continue\n",
    "        else:\n",
    "            for col in range(len(matrix[0])):\n",
    "                if matrix[row][col] == target:\n",
    "                    return True\n",
    "    return False\n",
    "\n",
    "\n",
    "searchMatrix(matrix, target)"
   ]
  },
  {
   "attachments": {},
   "cell_type": "markdown",
   "metadata": {},
   "source": [
    "<a name='7'></a>\n",
    "# 19. Remove Nth Node From End of List"
   ]
  },
  {
   "cell_type": "markdown",
   "metadata": {},
   "source": [
    "Given the head of a linked list, remove the nth node from the end of the list and return its head.\n",
    "\n",
    "</br>\n",
    "Input: head = [1,2,3,4,5], n = 2\n",
    "Output: [1,2,3,5]\n",
    "\n",
    "</br>\n",
    "Input: head = [1], n = 1\n",
    "Output: []\n",
    "\n",
    "</br>\n",
    "Input: head = [1,2], n = 1\n",
    "Output: [1]"
   ]
  },
  {
   "attachments": {},
   "cell_type": "markdown",
   "metadata": {},
   "source": [
    "<a name='7-1'></a>\n",
    "## Sol 1"
   ]
  },
  {
   "cell_type": "code",
   "execution_count": null,
   "metadata": {},
   "outputs": [],
   "source": [
    "def removeNthFromEnd(head, n):\n",
    "    if not head.next: return\n",
    "    store = []\n",
    "\n",
    "    t_head = head\n",
    "    while t_head:\n",
    "        store.append(t_head)\n",
    "        t_head = t_head.next\n",
    "    \n",
    "    res = head\n",
    "    t_head = res\n",
    "    if  len(store) - n == 0: return head.next\n",
    "    while t_head.next != store[len(store) - n]:\n",
    "        t_head = t_head.next\n",
    "    \n",
    "    t_head.next = t_head.next.next\n",
    "    return res"
   ]
  },
  {
   "attachments": {},
   "cell_type": "markdown",
   "metadata": {},
   "source": [
    "<a name='7-2'></a>\n",
    "## Sol 2"
   ]
  },
  {
   "cell_type": "code",
   "execution_count": null,
   "metadata": {},
   "outputs": [],
   "source": [
    "# works on leetcode\n",
    "def removeNthFromEnd(head, n):\n",
    "    if not head.next: return\n",
    "    \n",
    "    dummy_node = ListNode(0, head)\n",
    "    l = dummy_node\n",
    "    r = head\n",
    "    for _ in range(n):\n",
    "        r = r.next\n",
    "    while r:\n",
    "        l = l.next\n",
    "        r = r.next\n",
    "    l.next = l.next.next\n",
    "    return dummy_node.next"
   ]
  },
  {
   "attachments": {},
   "cell_type": "markdown",
   "metadata": {},
   "source": [
    "<a name='8'></a>\n",
    "# 3. Longest Substring Without Repeating Characters\n",
    "\n",
    "Given a string s, find the length of the longest \n",
    "substring without repeating characters.\n",
    "\n",
    "Input: s = \"abcabcbb\"\n",
    "Output: 3\n",
    "\n",
    "Input: s = \"bbbbb\"\n",
    "Output: 1\n",
    "\n",
    "Input: s = \"pwwkew\"\n",
    "Output: 3"
   ]
  },
  {
   "cell_type": "code",
   "execution_count": 226,
   "metadata": {},
   "outputs": [
    {
     "name": "stdout",
     "output_type": "stream",
     "text": [
      "0 1 1\n",
      "0 2 2\n",
      "1 2 2\n",
      "1 3 2\n"
     ]
    },
    {
     "data": {
      "text/plain": [
       "3"
      ]
     },
     "execution_count": 226,
     "metadata": {},
     "output_type": "execute_result"
    }
   ],
   "source": [
    "s = \"abcabcbb\"\n",
    "s = \"bbbbb\"\n",
    "s = \"pwwkew\"\n",
    "s = 'aa'\n",
    "s = \"au\"\n",
    "s = \"dvdf\"\n",
    "\n",
    "def lengthOfLongestSubstring(s):\n",
    "    if len(s) <= 1: return len(s)\n",
    "\n",
    "    l = 0; r = 1\n",
    "    cur_s = set([s[l]]); max_len = 1\n",
    "    while l < len(s) and r < len(s):\n",
    "        if s[r] in cur_s:\n",
    "            l += 1; r = l + 1; cur_s = set(s[l])\n",
    "        else:\n",
    "            cur_s.add(s[r])\n",
    "            r += 1\n",
    "        if r - l > max_len: max_len = r - l\n",
    "        \n",
    "    return max_len\n",
    "\n",
    "lengthOfLongestSubstring(s)"
   ]
  },
  {
   "attachments": {},
   "cell_type": "markdown",
   "metadata": {},
   "source": [
    "<a name='9'></a>\n",
    "# 567. Permutation in String\n",
    "\n",
    "Given two strings s1 and s2, return true if s2 contains a permutation of s1, or false otherwise.\n",
    "\n",
    "In other words, return true if one of s1's permutations is the substring of s2.\n",
    "\n",
    "</br>\n",
    "Input: s1 = \"ab\", s2 = \"eidbaooo\" </br>\n",
    "Output: true </br>\n",
    "\n",
    "</br>\n",
    "Input: s1 = \"ab\", s2 = \"eidboaoo\" </br>\n",
    "Output: false </br>"
   ]
  },
  {
   "attachments": {},
   "cell_type": "markdown",
   "metadata": {},
   "source": [
    "<a name='9-1'></a>\n",
    "## Sol 1"
   ]
  },
  {
   "cell_type": "code",
   "execution_count": 269,
   "metadata": {},
   "outputs": [
    {
     "data": {
      "text/plain": [
       "True"
      ]
     },
     "execution_count": 269,
     "metadata": {},
     "output_type": "execute_result"
    }
   ],
   "source": [
    "s1 = \"ab\"; s2 = \"eidbaooo\"\n",
    "s1 = \"ab\"; s2 = \"eidboaoo\"\n",
    "s1 = \"adc\"; s2 = \"dcda\"\n",
    "s1 = \"hello\"; s2 = \"ooolleoooleh\"\n",
    "\n",
    "def checkInclusion(s1, s2):\n",
    "    if (len(s1) <= 1) and (len(s2) <= 1): return s1 == s2\n",
    "    cntr_s1 = sorted(s1)\n",
    "    for l in range(len(s2) - len(s1) + 1):\n",
    "        r = l + len(s1)\n",
    "        if sorted(s2[l:r]) == cntr_s1:\n",
    "            return True\n",
    "    return False\n",
    "        \n",
    "            \n",
    "checkInclusion(s1, s2)"
   ]
  },
  {
   "attachments": {},
   "cell_type": "markdown",
   "metadata": {},
   "source": [
    "<a name='10'></a>\n",
    "# 102. Binary Tree Level Order Traversal\n",
    "\n",
    "Given the root of a binary tree, return the level order traversal of its nodes' values. (i.e., from left to right, level by level).\n",
    "</br>\n",
    "Input: root = [3,9,20,null,null,15,7]</br>\n",
    "Output: [[3],[9,20],[15,7]]</br>\n",
    "</br>\n",
    "Input: root = [1]</br>\n",
    "Output: [[1]]</br>\n",
    "</br>\n",
    "Input: root = []</br>\n",
    "Output: []</br>\n",
    "</br>"
   ]
  },
  {
   "cell_type": "code",
   "execution_count": null,
   "metadata": {},
   "outputs": [],
   "source": [
    "def levelOrder(root):\n",
    "    if not root: return\n",
    "    lvl = 0; stack = [(root, lvl)]; res = defaultdict(list)\n",
    "    while stack:\n",
    "        (node, cur_lvl) = stack.pop(0)\n",
    "        res[cur_lvl].append(node.val)\n",
    "        if node:\n",
    "            if node.left: stack.append((node.left, cur_lvl+1))\n",
    "            if node.right: stack.append((node.right, cur_lvl+1))\n",
    "    return list(res.values())"
   ]
  }
 ],
 "metadata": {
  "kernelspec": {
   "display_name": "rl_in_ksp_new",
   "language": "python",
   "name": "rl_in_ksp_new"
  },
  "language_info": {
   "codemirror_mode": {
    "name": "ipython",
    "version": 3
   },
   "file_extension": ".py",
   "mimetype": "text/x-python",
   "name": "python",
   "nbconvert_exporter": "python",
   "pygments_lexer": "ipython3",
   "version": "3.9.6"
  },
  "orig_nbformat": 4,
  "vscode": {
   "interpreter": {
    "hash": "ceb5013205e2ddaf82b74f25b5b9345b0ac8ffe4d924e8d42acdb1c08dc17b89"
   }
  }
 },
 "nbformat": 4,
 "nbformat_minor": 2
}
