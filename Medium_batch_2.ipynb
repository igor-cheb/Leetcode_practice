{
 "cells": [
  {
   "attachments": {},
   "cell_type": "markdown",
   "metadata": {},
   "source": [
    "# Table of Contents\n",
    "- **[# 695. Max Area of Island](#1)**\n",
    "    - [Sol 1](#1-1)\n",
    "    - [Sol 2](#1-2)\n"
   ]
  },
  {
   "attachments": {},
   "cell_type": "markdown",
   "metadata": {},
   "source": [
    "<a name='1'></a>\n",
    "# 695. Max Area of Island\n",
    "\n",
    "You are given an m x n binary matrix grid. An island is a group of 1's (representing land) connected 4-directionally (horizontal or vertical.) You may assume all four edges of the grid are surrounded by water.\n",
    "\n",
    "The area of an island is the number of cells with a value 1 in the island.\n",
    "\n",
    "Return the maximum area of an island in grid. If there is no island, return 0.\n",
    "</br>\n",
    "Input: grid = [</br>\n",
    "    [0,0,1,0,0,0,0,1,0,0,0,0,0],[0,0,0,0,0,0,0,1,1,1,0,0,0],[0,1,1,0,1,0,0,0,0,0,0,0,0],[0,1,0,0,1,1,0,0,1,0,1,0,0],[0,1,0,0,1,1,0,0,1,1,1,0,0],[0,0,0,0,0,0,0,0,0,0,1,0,0],[0,0,0,0,0,0,0,1,1,1,0,0,0],[0,0,0,0,0,0,0,1,1,0,0,0,0]</br>\n",
    "] </br>\n",
    "Output: 6"
   ]
  },
  {
   "cell_type": "markdown",
   "metadata": {},
   "source": [
    "<a name='1-1'></a>\n",
    "## Sol 1"
   ]
  },
  {
   "cell_type": "code",
   "execution_count": null,
   "metadata": {},
   "outputs": [],
   "source": [
    "def maxAreaOfIsland(grid):\n",
    "    max_shape = (len(grid), len(grid[0]))\n",
    "    areas = []\n",
    "    visited = set()\n",
    "\n",
    "    def find_area(x, y):\n",
    "        if 0 <= x < max_shape[0] and 0 <= y < max_shape[1]  \\\n",
    "            and grid[x][y] and not (x, y) in visited:\n",
    "            areas[-1] += 1\n",
    "            visited.add((x, y))\n",
    "            find_area(x + 1, y); find_area(x - 1, y)\n",
    "            find_area(x, y + 1); find_area(x, y - 1)\n",
    "\n",
    "    for i in range(max_shape[0]):\n",
    "        for j in range(max_shape[1]):\n",
    "            if grid[i][j] == 1 and not (i, j) in visited:\n",
    "                areas.append(0)\n",
    "                find_area(i, j)\n",
    "            visited.add((i, j))\n",
    "    return max(areas) if areas else 0"
   ]
  },
  {
   "attachments": {},
   "cell_type": "markdown",
   "metadata": {},
   "source": [
    "<a name='1-2'></a>\n",
    "## Sol 2"
   ]
  },
  {
   "cell_type": "code",
   "execution_count": null,
   "metadata": {},
   "outputs": [],
   "source": [
    "def maxAreaOfIsland(grid):\n",
    "    max_shape = (len(grid), len(grid[0]))\n",
    "    max_area = 0\n",
    "\n",
    "    def find_area(x, y):\n",
    "        if 0 <= x < max_shape[0] and 0 <= y < max_shape[1] and grid[x][y]:\n",
    "            grid[x][y] = 0\n",
    "            return 1 + find_area(x + 1, y) + find_area(x - 1, y) + \\\n",
    "                    find_area(x, y + 1) + find_area(x, y - 1)\n",
    "        else:\n",
    "            return 0\n",
    "\n",
    "    for i in range(max_shape[0]):\n",
    "        for j in range(max_shape[1]):\n",
    "            if grid[i][j] == 1:\n",
    "                max_area = max(max_area, find_area(i, j))\n",
    "    return max_area"
   ]
  }
 ],
 "metadata": {
  "kernelspec": {
   "display_name": "rl_in_ksp_new",
   "language": "python",
   "name": "rl_in_ksp_new"
  },
  "language_info": {
   "name": "python",
   "version": "3.9.6"
  },
  "orig_nbformat": 4
 },
 "nbformat": 4,
 "nbformat_minor": 2
}
