{
 "cells": [
  {
   "attachments": {},
   "cell_type": "markdown",
   "metadata": {},
   "source": [
    "# Table of Contents\n",
    "- **[# 695. Max Area of Island](#1)**\n",
    "    - [Sol 1](#1-1)\n",
    "    - [Sol 2](#1-2)\n",
    "- **[# 98. Validate Binary Search Tree](#2)**\n",
    "    - [Sol 1](#2-1)\n",
    "    - [Sol 2](#2-2)\n",
    "- **[# 235. Lowest Common Ancestor of a Binary Search Tree](#3)**\n",
    "    - [Sol 1](#3-1)\n",
    "    - [Sol 2](#3-2)\n",
    "    - [Sol 3](#3-3)\n",
    "    - [Sol 4](#3-4)"
   ]
  },
  {
   "attachments": {},
   "cell_type": "markdown",
   "metadata": {},
   "source": [
    "<a name='1'></a>\n",
    "# 695. Max Area of Island\n",
    "\n",
    "You are given an m x n binary matrix grid. An island is a group of 1's (representing land) connected 4-directionally (horizontal or vertical.) You may assume all four edges of the grid are surrounded by water.\n",
    "\n",
    "The area of an island is the number of cells with a value 1 in the island.\n",
    "\n",
    "Return the maximum area of an island in grid. If there is no island, return 0.\n",
    "</br>\n",
    "Input: grid = [</br>\n",
    "    [0,0,1,0,0,0,0,1,0,0,0,0,0],[0,0,0,0,0,0,0,1,1,1,0,0,0],[0,1,1,0,1,0,0,0,0,0,0,0,0],[0,1,0,0,1,1,0,0,1,0,1,0,0],[0,1,0,0,1,1,0,0,1,1,1,0,0],[0,0,0,0,0,0,0,0,0,0,1,0,0],[0,0,0,0,0,0,0,1,1,1,0,0,0],[0,0,0,0,0,0,0,1,1,0,0,0,0]</br>\n",
    "] </br>\n",
    "Output: 6"
   ]
  },
  {
   "cell_type": "markdown",
   "metadata": {},
   "source": [
    "<a name='1-1'></a>\n",
    "## Sol 1"
   ]
  },
  {
   "cell_type": "code",
   "execution_count": null,
   "metadata": {},
   "outputs": [],
   "source": [
    "def maxAreaOfIsland(grid):\n",
    "    max_shape = (len(grid), len(grid[0]))\n",
    "    areas = []\n",
    "    visited = set()\n",
    "\n",
    "    def find_area(x, y):\n",
    "        if 0 <= x < max_shape[0] and 0 <= y < max_shape[1]  \\\n",
    "            and grid[x][y] and not (x, y) in visited:\n",
    "            areas[-1] += 1\n",
    "            visited.add((x, y))\n",
    "            find_area(x + 1, y); find_area(x - 1, y)\n",
    "            find_area(x, y + 1); find_area(x, y - 1)\n",
    "\n",
    "    for i in range(max_shape[0]):\n",
    "        for j in range(max_shape[1]):\n",
    "            if grid[i][j] == 1 and not (i, j) in visited:\n",
    "                areas.append(0)\n",
    "                find_area(i, j)\n",
    "            visited.add((i, j))\n",
    "    return max(areas) if areas else 0"
   ]
  },
  {
   "attachments": {},
   "cell_type": "markdown",
   "metadata": {},
   "source": [
    "<a name='1-2'></a>\n",
    "## Sol 2"
   ]
  },
  {
   "cell_type": "code",
   "execution_count": null,
   "metadata": {},
   "outputs": [],
   "source": [
    "def maxAreaOfIsland(grid):\n",
    "    max_shape = (len(grid), len(grid[0]))\n",
    "    max_area = 0\n",
    "\n",
    "    def find_area(x, y):\n",
    "        if 0 <= x < max_shape[0] and 0 <= y < max_shape[1] and grid[x][y]:\n",
    "            grid[x][y] = 0\n",
    "            return 1 + find_area(x + 1, y) + find_area(x - 1, y) + \\\n",
    "                    find_area(x, y + 1) + find_area(x, y - 1)\n",
    "        else:\n",
    "            return 0\n",
    "\n",
    "    for i in range(max_shape[0]):\n",
    "        for j in range(max_shape[1]):\n",
    "            if grid[i][j] == 1:\n",
    "                max_area = max(max_area, find_area(i, j))\n",
    "    return max_area"
   ]
  },
  {
   "attachments": {},
   "cell_type": "markdown",
   "metadata": {},
   "source": [
    "<a name='2'></a>\n",
    "# 98. Validate Binary Search Tree"
   ]
  },
  {
   "attachments": {},
   "cell_type": "markdown",
   "metadata": {},
   "source": [
    "<a name='2-1'></a>\n",
    "## Sol 1"
   ]
  },
  {
   "cell_type": "code",
   "execution_count": null,
   "metadata": {},
   "outputs": [],
   "source": [
    "def isValidBST(root):\n",
    "    def check_node(node, l_bounds, r_bounds):\n",
    "        if not node:\n",
    "            return True\n",
    "        if not max(l_bounds) < node.val < min(r_bounds):\n",
    "            return False\n",
    "        return check_node(node.left, l_bounds, r_bounds + [node.val]) and \\\n",
    "            check_node(node.right, l_bounds + [node.val], r_bounds)\n",
    "\n",
    "    return check_node(root, [float('-inf')], [float('inf')])"
   ]
  },
  {
   "attachments": {},
   "cell_type": "markdown",
   "metadata": {},
   "source": [
    "<a name='2-2'></a>\n",
    "## Sol 2"
   ]
  },
  {
   "cell_type": "code",
   "execution_count": null,
   "metadata": {},
   "outputs": [],
   "source": [
    "def isValidBST(root):\n",
    "    def check_node(node, l_bound, r_bound):\n",
    "        if not node:\n",
    "            return True\n",
    "        if not l_bound < node.val < r_bound:\n",
    "            return False\n",
    "        return check_node(node.left, l_bound, node.val) and \\\n",
    "            check_node(node.right, node.val, r_bound)\n",
    "        \n",
    "    return check_node(root, float('-inf'), float('inf'))"
   ]
  },
  {
   "cell_type": "markdown",
   "metadata": {},
   "source": [
    "<a name='3'></a>\n",
    "# 235. Lowest Common Ancestor of a Binary Search Tree"
   ]
  },
  {
   "cell_type": "markdown",
   "metadata": {},
   "source": [
    "<a name='3-1'></a>\n",
    "## Sol 1"
   ]
  },
  {
   "cell_type": "code",
   "execution_count": null,
   "metadata": {},
   "outputs": [],
   "source": [
    "def lowestCommonAncestor(root, p, q):\n",
    "    p_ancestors, q_ancestors = [], []\n",
    "    q_pointer = root; p_pointer = root\n",
    "    p_found = [False]; q_found = [False]\n",
    "\n",
    "    def search_tree (p, q, p_pointer, q_pointer):\n",
    "        if not p_found[-1] and p_pointer:\n",
    "            p_ancestors.append(p_pointer)\n",
    "            if p.val > p_pointer.val: search_tree (p, q, p_pointer.right, q_pointer)\n",
    "            elif p.val < p_pointer.val: search_tree (p, q, p_pointer.left, q_pointer)\n",
    "            else: p_found[-1] = True\n",
    "\n",
    "        if not q_found[-1] and q_pointer:\n",
    "            q_ancestors.append(q_pointer)\n",
    "            if q.val > q_pointer.val: search_tree (p, q, p_pointer, q_pointer.right)\n",
    "            elif q.val < q_pointer.val: search_tree (p, q, p_pointer, q_pointer.left)\n",
    "            else: q_found[-1] = True\n",
    "    \n",
    "    search_tree (p, q, p_pointer, q_pointer)\n",
    "\n",
    "    res = []\n",
    "    for q_val, p_val in zip (q_ancestors, p_ancestors):\n",
    "        if q_val == p_val:\n",
    "            res.append(q_val)\n",
    "        else:\n",
    "            break\n",
    "    return res.pop()"
   ]
  },
  {
   "cell_type": "markdown",
   "metadata": {},
   "source": [
    "<a name='3-2'></a>\n",
    "## Sol 2"
   ]
  },
  {
   "cell_type": "code",
   "execution_count": null,
   "metadata": {},
   "outputs": [],
   "source": [
    "def lowestCommonAncestor(root, p, q):\n",
    "    if root:\n",
    "        if (p.val == root.val or q.val == root.val) or \\\n",
    "            (p.val < root.val and q.val > root.val) or \\\n",
    "            (q.val < root.val and p.val > root.val):\n",
    "            return root\n",
    "        elif (p.val < root.val and q.val < root.val): \n",
    "            return lowestCommonAncestor(root.left, p, q)\n",
    "        else: \n",
    "            return lowestCommonAncestor(root.right, p, q)"
   ]
  },
  {
   "cell_type": "markdown",
   "metadata": {},
   "source": [
    "<a name='3-3'></a>\n",
    "## Sol 3"
   ]
  },
  {
   "cell_type": "code",
   "execution_count": null,
   "metadata": {},
   "outputs": [],
   "source": [
    "def lowestCommonAncestor(root, p, q):        \n",
    "    if root:\n",
    "        if (p.val < root.val and q.val < root.val): \n",
    "            return lowestCommonAncestor(root.left, p, q)\n",
    "        elif (p.val > root.val and q.val > root.val): \n",
    "            return lowestCommonAncestor(root.right, p, q)\n",
    "        else: \n",
    "            return root"
   ]
  },
  {
   "cell_type": "markdown",
   "metadata": {},
   "source": [
    "<a name='3-4'></a>\n",
    "## Sol 4"
   ]
  },
  {
   "cell_type": "code",
   "execution_count": null,
   "metadata": {},
   "outputs": [],
   "source": [
    "def lowestCommonAncestor(root, p, q):                \n",
    "    while root:\n",
    "        if (p.val < root.val and q.val < root.val): \n",
    "            root = root.left\n",
    "        elif (p.val > root.val and q.val > root.val): \n",
    "            root = root.right\n",
    "        else: \n",
    "            return root"
   ]
  }
 ],
 "metadata": {
  "kernelspec": {
   "display_name": "rl_in_ksp_new",
   "language": "python",
   "name": "rl_in_ksp_new"
  },
  "language_info": {
   "codemirror_mode": {
    "name": "ipython",
    "version": 3
   },
   "file_extension": ".py",
   "mimetype": "text/x-python",
   "name": "python",
   "nbconvert_exporter": "python",
   "pygments_lexer": "ipython3",
   "version": "3.9.6"
  },
  "orig_nbformat": 4
 },
 "nbformat": 4,
 "nbformat_minor": 2
}
